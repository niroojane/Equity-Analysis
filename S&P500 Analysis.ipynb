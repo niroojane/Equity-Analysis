{
 "cells": [
  {
   "cell_type": "code",
   "execution_count": 1,
   "id": "b1047d96-0adc-42ec-8a4d-1f64694f607c",
   "metadata": {},
   "outputs": [],
   "source": [
    "import pandas as pd\n",
    "import numpy as np\n",
    "import yfinance as yf\n",
    "from bs4 import BeautifulSoup\n",
    "from urllib.request import urlopen\n",
    "import datetime"
   ]
  },
  {
   "cell_type": "markdown",
   "id": "d9c52a49-155c-413e-9ab9-cf5a30b1f649",
   "metadata": {},
   "source": [
    "# Functions"
   ]
  },
  {
   "cell_type": "code",
   "execution_count": 3,
   "id": "a84ebbb3-d4e1-453e-9e10-18b40df1334a",
   "metadata": {},
   "outputs": [],
   "source": [
    "def get_close(tickers,\n",
    "              start=datetime.date(datetime.date.today().year - 1, \n",
    "                datetime.date.today().month, \n",
    "                datetime.date.today().day)\n",
    "                ,end=datetime.date.today()):\n",
    "    \n",
    "    data=pd.DataFrame()\n",
    "    for ticker in tickers:\n",
    "\n",
    "        try:\n",
    "\n",
    "            yahoo_data=yf.Ticker(ticker)\n",
    "            stock_price=yahoo_data.history(start=start,end=end,interval='1d').reset_index()\n",
    "            stock_price['Date']=stock_price['Date'].dt.tz_localize(None)\n",
    "            stock_price=stock_price.set_index('Date')\n",
    "            stock_price[ticker]=stock_price['Close']+stock_price['Dividends'].shift(periods=-1)\n",
    "            data=pd.concat([data,stock_price[ticker]],axis=1)\n",
    "\n",
    "        except Exception as e:\n",
    "            pass\n",
    "        \n",
    "    return data"
   ]
  },
  {
   "cell_type": "code",
   "execution_count": 4,
   "id": "0a3e54c5-851c-4e1e-9f73-d74c5ec41430",
   "metadata": {},
   "outputs": [],
   "source": [
    "def get_mrat(dataframe,numerator=21,denominator=200):\n",
    "\n",
    "    mrat=(dataframe.rolling(numerator).mean()/dataframe.rolling(denominator).mean())\n",
    "    mrat_wo_na=mrat.dropna(how='all')\n",
    "\n",
    "    month=list(sorted(set(mrat_wo_na.index + pd.offsets.BMonthEnd(0))))\n",
    "    #month_end=pd.to_datetime(mrat_wo_na.index)\n",
    "    month = pd.to_datetime(month)\n",
    "\n",
    "    idx1 = pd.Index(mrat_wo_na.iloc[:-1].index)\n",
    "    idx2 = pd.Index(month)\n",
    "    closest_dates = idx1[idx1.get_indexer(idx2, method='nearest')]\n",
    "\n",
    "\n",
    "    mrat_weights=mrat_wo_na.loc[closest_dates].copy().fillna(0)\n",
    "    \n",
    "    mrat_weights['Total']=mrat_weights.sum(axis=1)\n",
    "\n",
    "    for col in mrat_weights.columns:\n",
    "        mrat_weights[col]=mrat_weights[col]/mrat_weights['Total']\n",
    "\n",
    "    mrat_weights=mrat_weights.drop(columns='Total')\n",
    "    mrat_weights_dict=mrat_weights.transpose().to_dict()\n",
    "\n",
    "    dates_end=list(mrat_weights.index)\n",
    "    dates_end.insert(0,dataframe.index[0])\n",
    "    dates_end.append(dataframe.index[-1])\n",
    "    dates_end=list(set(dates_end))\n",
    "    \n",
    "    return mrat_weights,sorted(dates_end)"
   ]
  },
  {
   "cell_type": "code",
   "execution_count": 5,
   "id": "2b71c017-9714-4868-ab40-38722b97f4ff",
   "metadata": {},
   "outputs": [],
   "source": [
    "def get_portfolios(mrat_weights,dates_end,dataframe,weight_dict,\n",
    "                   numbers_of_stocks=50,\n",
    "                   investment_amount=10000,\n",
    "                   transaction_fee=0.005):\n",
    "    tracking={}\n",
    "    portfolio={}\n",
    "    initial_amount=investment_amount\n",
    "    perf=dataframe.pct_change()\n",
    "    \n",
    "    for i in range(len(dates_end)-1):\n",
    "        \n",
    "        print(dates_end[i],investment_amount,investment_amount/initial_amount)\n",
    "\n",
    "        \n",
    "        temp=dataframe.loc[dates_end[i]:dates_end[i+1]].copy()\n",
    "        initial_price=temp.iloc[0].to_dict()\n",
    "\n",
    "        if dates_end[i]>dates_end[0]:\n",
    "\n",
    "            top=mrat_weights.loc[dates_end[i]].sort_values(ascending=False)[:numbers_of_stocks]\n",
    "            top_rebased=top/top.sum()\n",
    "            top_dict=top_rebased.to_dict()\n",
    "\n",
    "            weight_dict={}\n",
    "\n",
    "            for key in temp.columns:\n",
    "\n",
    "                if key in top_dict: \n",
    "                    weight_dict[key]=top_dict[key]\n",
    "                else:\n",
    "                    weight_dict[key]=0\n",
    "                    \n",
    "                    \n",
    "        weight_vec=np.array(list(weight_dict.values()))\n",
    "        \n",
    "        inital_investment_per_stock={}\n",
    "        shares={}\n",
    "\n",
    "        for col in temp.columns:\n",
    "            \n",
    "            weighted_perf=weight_vec*perf.loc[dates_end[i]]\n",
    "            \n",
    "            inital_investment_per_stock[col]=weight_dict[col]*investment_amount*(1+weighted_perf.sum())\n",
    "            shares[col]=inital_investment_per_stock[col]*(1-transaction_fee)/initial_price[col]\n",
    "\n",
    "        tracking[dates_end[i]]=(weight_dict,shares,investment_amount,initial_price)\n",
    "\n",
    "        temp=temp*shares    \n",
    "        portfolio[dates_end[i]]=temp\n",
    "        investment_amount=temp.iloc[-1].sum()\n",
    "        \n",
    "    \n",
    "    temp=dataframe.loc[dates_end[-2]:]*shares\n",
    "    portfolio[dates_end[-1]]=temp\n",
    "        \n",
    "\n",
    "    return portfolio,tracking\n"
   ]
  },
  {
   "cell_type": "code",
   "execution_count": 6,
   "id": "89a23da5-27a4-4582-bb64-694ec0b85373",
   "metadata": {},
   "outputs": [],
   "source": [
    "def get_pnl(portfolios):\n",
    "\n",
    "    pnl={}\n",
    "\n",
    "    keys=list(portfolio.keys())\n",
    "    for i in range(0,len(keys)):\n",
    "\n",
    "        if i>0:\n",
    "            pnl[keys[i]]=portfolio[keys[i]].iloc[-1]-portfolio[keys[i]].iloc[0]\n",
    "\n",
    "        else:\n",
    "            \n",
    "            pnl[keys[0]]=portfolio[keys[0]].iloc[-1]-portfolio[keys[0]].iloc[0]\n",
    "    \n",
    "    pnl_dataframe=pd.DataFrame(pnl).T.iloc[4:].cumsum(axis=0)\n",
    "    \n",
    "    return pnl_dataframe.iloc[:-2]"
   ]
  },
  {
   "cell_type": "markdown",
   "id": "8d657643-32a6-4c75-89db-8cecc305dc24",
   "metadata": {},
   "source": [
    "# Dataset"
   ]
  },
  {
   "cell_type": "code",
   "execution_count": 8,
   "id": "e874e8ed-b1e8-4f9a-954e-9c933f49c902",
   "metadata": {},
   "outputs": [],
   "source": [
    "url = \"https://en.wikipedia.org/wiki/List_of_S%26P_500_companies\"\n",
    "#url='https://en.wikipedia.org/wiki/CAC_40'\n",
    "table = pd.read_html(url)\n",
    "df = table[0]"
   ]
  },
  {
   "cell_type": "code",
   "execution_count": 9,
   "id": "b2cec32b-8ff0-4446-b025-f5bd38321504",
   "metadata": {},
   "outputs": [],
   "source": [
    "tickers=df['Symbol'].tolist()"
   ]
  },
  {
   "cell_type": "code",
   "execution_count": 10,
   "id": "0a93e177-9686-470b-861a-3bcf30f48f29",
   "metadata": {
    "jupyter": {
     "source_hidden": true
    }
   },
   "outputs": [],
   "source": [
    "# marketcap_dico={}\n",
    "# for ticker in tickers:\n",
    "#     try:\n",
    "\n",
    "#         ticker_data = yf.Ticker(ticker)\n",
    "#         current_market_cap = ticker_data.info['marketCap']\n",
    "#         marketcap_dico[ticker]=current_market_cap\n",
    "#     except:\n",
    "#         print('Error with: ', ticker)"
   ]
  },
  {
   "cell_type": "code",
   "execution_count": 11,
   "id": "3bcffced-7aaf-4014-9a7d-ac0f48b5e2b5",
   "metadata": {
    "jupyter": {
     "source_hidden": true
    }
   },
   "outputs": [],
   "source": [
    "# market_cap=pd.read_excel('Market Cap.xlsx',index_col=0)\n",
    "\n",
    "# tickers=list(market_cap.sort_values(by='Market Cap',ascending=False).iloc[:500].index)\n",
    "\n",
    "# pd.DataFrame(marketcap_dico.values(),index=marketcap_dico.keys(),columns=['Market Cap']).to_excel('Market Cap.xlsx')"
   ]
  },
  {
   "cell_type": "code",
   "execution_count": 12,
   "id": "d9a24d43-8fe3-4e9a-9a83-b147b455c2ec",
   "metadata": {
    "jupyter": {
     "source_hidden": true
    }
   },
   "outputs": [],
   "source": [
    "# tickers.remove('PLTR')\n",
    "# tickers.remove('SMCI')\n",
    "# tickers.remove('UBER')\n",
    "# tickers.remove('CRWD')"
   ]
  },
  {
   "cell_type": "code",
   "execution_count": 13,
   "id": "ac2473c1-1acc-4892-98b3-3bb8f9846c43",
   "metadata": {},
   "outputs": [
    {
     "name": "stderr",
     "output_type": "stream",
     "text": [
      "$BRK.B: possibly delisted; no timezone found\n",
      "$BF.B: possibly delisted; no price data found  (1d 2019-06-15 -> 2025-02-23)\n"
     ]
    }
   ],
   "source": [
    "end_date = datetime.datetime.now().strftime(\"%Y-%m-%d\")\n",
    "start_date = (datetime.datetime(2019,6,15)).strftime(\"%Y-%m-%d\")\n",
    "\n",
    "dataframe=get_close(tickers,start=start_date,end=end_date)\n",
    "dataframe.index=pd.to_datetime(dataframe.index)"
   ]
  },
  {
   "cell_type": "code",
   "execution_count": 14,
   "id": "522e2f8b-8f00-41fe-aa6f-4c59d68f70b2",
   "metadata": {},
   "outputs": [],
   "source": [
    "#with_no_na=dataframe.columns[np.where((dataframe.isna().sum()<30))]"
   ]
  },
  {
   "cell_type": "code",
   "execution_count": 15,
   "id": "5cf6ed3a-a3d2-4643-8e15-026b655f3a31",
   "metadata": {},
   "outputs": [],
   "source": [
    "#dataframe=dataframe[with_no_na]"
   ]
  },
  {
   "cell_type": "code",
   "execution_count": 16,
   "id": "1289ce8e-6bd9-4991-8e33-76f3d7449e67",
   "metadata": {},
   "outputs": [],
   "source": [
    "sp500=get_close(['SPY'],start=start_date,end=end_date)\n",
    "sp500_leverage=get_close(['XS2D.L'],start=start_date,end=end_date)"
   ]
  },
  {
   "cell_type": "markdown",
   "id": "58148b06-f5c9-4fca-b9fc-22a9350d1f41",
   "metadata": {},
   "source": [
    "# Analysis"
   ]
  },
  {
   "cell_type": "code",
   "execution_count": 18,
   "id": "2fa9e48e-9fe9-4846-8b46-1330c6f2b488",
   "metadata": {},
   "outputs": [],
   "source": [
    "weight_dict={col: 1/dataframe.shape[1] for col in dataframe.columns}\n",
    "mrat_weights,dates_end=get_mrat(dataframe,numerator=21,denominator=200)"
   ]
  },
  {
   "cell_type": "code",
   "execution_count": 19,
   "id": "d45c2239-46ff-4961-b5ab-ddc093c732d7",
   "metadata": {},
   "outputs": [],
   "source": [
    "mrat_weights = mrat_weights[~mrat_weights.index.duplicated(keep='first')]"
   ]
  },
  {
   "cell_type": "code",
   "execution_count": 20,
   "id": "51e9284a-0423-4480-bb35-dfe392b76cc5",
   "metadata": {},
   "outputs": [
    {
     "name": "stderr",
     "output_type": "stream",
     "text": [
      "C:\\Users\\Admin\\AppData\\Local\\Temp\\ipykernel_13092\\3430555856.py:8: FutureWarning: The default fill_method='pad' in DataFrame.pct_change is deprecated and will be removed in a future version. Either fill in any non-leading NA values prior to calling pct_change or specify 'fill_method=None' to not fill NA values.\n",
      "  perf=dataframe.pct_change()\n"
     ]
    },
    {
     "name": "stdout",
     "output_type": "stream",
     "text": [
      "2019-06-17 00:00:00 100 1.0\n",
      "2020-03-31 00:00:00 83.91795122395119 0.8391795122395119\n",
      "2020-04-30 00:00:00 100.52887257815283 1.0052887257815284\n",
      "2020-05-29 00:00:00 108.91876888394427 1.0891876888394427\n",
      "2020-06-30 00:00:00 116.52859795746953 1.1652859795746953\n",
      "2020-07-31 00:00:00 133.40070680292104 1.3340070680292104\n",
      "2020-08-31 00:00:00 148.46640087110123 1.4846640087110123\n",
      "2020-09-30 00:00:00 145.50281093867562 1.4550281093867563\n",
      "2020-10-30 00:00:00 143.2318327894594 1.432318327894594\n",
      "2020-11-30 00:00:00 164.74025358237824 1.6474025358237825\n",
      "2020-12-31 00:00:00 174.18327222392298 1.7418327222392298\n",
      "2021-01-29 00:00:00 183.20349501851177 1.8320349501851176\n",
      "2021-02-26 00:00:00 197.88475596143255 1.9788475596143256\n",
      "2021-03-31 00:00:00 193.455550224207 1.93455550224207\n",
      "2021-04-30 00:00:00 199.00063167860804 1.9900063167860804\n",
      "2021-06-01 00:00:00 207.2991011738257 2.072991011738257\n",
      "2021-06-30 00:00:00 206.9792300425806 2.069792300425806\n",
      "2021-07-30 00:00:00 208.8582843790395 2.088582843790395\n",
      "2021-08-31 00:00:00 225.7261545290791 2.257261545290791\n",
      "2021-09-30 00:00:00 206.28236904377633 2.0628236904377633\n",
      "2021-10-29 00:00:00 226.9717481427631 2.269717481427631\n",
      "2021-11-30 00:00:00 226.41155208927023 2.264115520892702\n",
      "2021-12-31 00:00:00 217.05411203350184 2.1705411203350184\n",
      "2022-01-31 00:00:00 195.0751088337223 1.9507510883372232\n",
      "2022-02-28 00:00:00 206.27283199512695 2.0627283199512694\n",
      "2022-03-31 00:00:00 239.5439214401038 2.395439214401038\n",
      "2022-04-29 00:00:00 230.79103908556334 2.3079103908556333\n",
      "2022-05-31 00:00:00 245.79184653553267 2.4579184653553265\n",
      "2022-06-30 00:00:00 196.25084918247518 1.9625084918247517\n",
      "2022-07-29 00:00:00 210.99673076355668 2.109967307635567\n",
      "2022-08-31 00:00:00 213.04633136843987 2.1304633136843987\n",
      "2022-09-30 00:00:00 201.25802865963715 2.0125802865963713\n",
      "2022-10-31 00:00:00 232.36739090748893 2.3236739090748895\n",
      "2022-11-30 00:00:00 249.99584565376756 2.4999584565376756\n",
      "2022-12-30 00:00:00 235.93336007422897 2.3593336007422896\n",
      "2023-01-31 00:00:00 247.27456452403348 2.4727456452403347\n",
      "2023-02-28 00:00:00 245.59097629032732 2.455909762903273\n",
      "2023-03-31 00:00:00 261.0455874118967 2.610455874118967\n",
      "2023-04-28 00:00:00 262.2374263965033 2.6223742639650327\n",
      "2023-05-31 00:00:00 289.1749889770732 2.891749889770732\n",
      "2023-06-30 00:00:00 310.7925103082843 3.107925103082843\n",
      "2023-07-31 00:00:00 346.15960340100116 3.461596034010012\n",
      "2023-08-31 00:00:00 324.75567706730084 3.2475567706730084\n",
      "2023-09-29 00:00:00 307.12939493866526 3.0712939493866527\n",
      "2023-10-31 00:00:00 292.11634458592954 2.921163445859295\n",
      "2023-11-30 00:00:00 331.13890782005745 3.3113890782005746\n",
      "2023-12-29 00:00:00 342.8035161193865 3.428035161193865\n",
      "2024-01-31 00:00:00 349.2001304996909 3.4920013049969088\n",
      "2024-02-29 00:00:00 385.953384441474 3.85953384441474\n",
      "2024-03-28 00:00:00 412.2383648525092 4.122383648525092\n",
      "2024-04-30 00:00:00 390.75072675318063 3.9075072675318063\n",
      "2024-05-31 00:00:00 415.7590524409595 4.157590524409596\n",
      "2024-06-28 00:00:00 386.5951738160084 3.865951738160084\n",
      "2024-07-31 00:00:00 358.60177984133725 3.5860177984133723\n",
      "2024-08-30 00:00:00 396.4812443820023 3.9648124438200227\n",
      "2024-09-30 00:00:00 410.0080165896766 4.100080165896766\n",
      "2024-10-31 00:00:00 417.617854851182 4.17617854851182\n",
      "2024-11-29 00:00:00 492.50873423980045 4.925087342398005\n",
      "2024-12-31 00:00:00 465.6965175791476 4.656965175791476\n",
      "2025-01-31 00:00:00 498.7905816437261 4.987905816437261\n",
      "2025-02-19 00:00:00 512.725305835487 5.12725305835487\n"
     ]
    }
   ],
   "source": [
    "portfolio,tracking=get_portfolios(investment_amount=100,dataframe=dataframe,numbers_of_stocks=15,weight_dict=weight_dict,\n",
    "                                  mrat_weights=mrat_weights,dates_end=dates_end,\n",
    "                                  transaction_fee=0.005)"
   ]
  },
  {
   "cell_type": "code",
   "execution_count": 21,
   "id": "467cabff-e5d8-47cb-a89a-fb5f9766fdd1",
   "metadata": {},
   "outputs": [
    {
     "data": {
      "text/html": [
       "<div>\n",
       "<style scoped>\n",
       "    .dataframe tbody tr th:only-of-type {\n",
       "        vertical-align: middle;\n",
       "    }\n",
       "\n",
       "    .dataframe tbody tr th {\n",
       "        vertical-align: top;\n",
       "    }\n",
       "\n",
       "    .dataframe thead th {\n",
       "        text-align: right;\n",
       "    }\n",
       "</style>\n",
       "<table border=\"1\" class=\"dataframe\">\n",
       "  <thead>\n",
       "    <tr style=\"text-align: right;\">\n",
       "      <th></th>\n",
       "      <th>1</th>\n",
       "    </tr>\n",
       "    <tr>\n",
       "      <th>0</th>\n",
       "      <th></th>\n",
       "    </tr>\n",
       "  </thead>\n",
       "  <tbody>\n",
       "    <tr>\n",
       "      <th>PLTR</th>\n",
       "      <td>0.095369</td>\n",
       "    </tr>\n",
       "    <tr>\n",
       "      <th>TPR</th>\n",
       "      <td>0.071601</td>\n",
       "    </tr>\n",
       "    <tr>\n",
       "      <th>UAL</th>\n",
       "      <td>0.071149</td>\n",
       "    </tr>\n",
       "    <tr>\n",
       "      <th>GEV</th>\n",
       "      <td>0.068534</td>\n",
       "    </tr>\n",
       "    <tr>\n",
       "      <th>AXON</th>\n",
       "      <td>0.067821</td>\n",
       "    </tr>\n",
       "    <tr>\n",
       "      <th>VST</th>\n",
       "      <td>0.067407</td>\n",
       "    </tr>\n",
       "    <tr>\n",
       "      <th>TSLA</th>\n",
       "      <td>0.064145</td>\n",
       "    </tr>\n",
       "    <tr>\n",
       "      <th>TPL</th>\n",
       "      <td>0.062728</td>\n",
       "    </tr>\n",
       "    <tr>\n",
       "      <th>FFIV</th>\n",
       "      <td>0.062708</td>\n",
       "    </tr>\n",
       "    <tr>\n",
       "      <th>RCL</th>\n",
       "      <td>0.062164</td>\n",
       "    </tr>\n",
       "    <tr>\n",
       "      <th>CEG</th>\n",
       "      <td>0.061939</td>\n",
       "    </tr>\n",
       "    <tr>\n",
       "      <th>FTNT</th>\n",
       "      <td>0.061344</td>\n",
       "    </tr>\n",
       "    <tr>\n",
       "      <th>RL</th>\n",
       "      <td>0.061205</td>\n",
       "    </tr>\n",
       "    <tr>\n",
       "      <th>JBL</th>\n",
       "      <td>0.060944</td>\n",
       "    </tr>\n",
       "    <tr>\n",
       "      <th>DFS</th>\n",
       "      <td>0.060942</td>\n",
       "    </tr>\n",
       "    <tr>\n",
       "      <th>MPWR</th>\n",
       "      <td>0.000000</td>\n",
       "    </tr>\n",
       "    <tr>\n",
       "      <th>NTAP</th>\n",
       "      <td>0.000000</td>\n",
       "    </tr>\n",
       "    <tr>\n",
       "      <th>NKE</th>\n",
       "      <td>0.000000</td>\n",
       "    </tr>\n",
       "    <tr>\n",
       "      <th>MAA</th>\n",
       "      <td>0.000000</td>\n",
       "    </tr>\n",
       "    <tr>\n",
       "      <th>MRNA</th>\n",
       "      <td>0.000000</td>\n",
       "    </tr>\n",
       "  </tbody>\n",
       "</table>\n",
       "</div>"
      ],
      "text/plain": [
       "             1\n",
       "0             \n",
       "PLTR  0.095369\n",
       "TPR   0.071601\n",
       "UAL   0.071149\n",
       "GEV   0.068534\n",
       "AXON  0.067821\n",
       "VST   0.067407\n",
       "TSLA  0.064145\n",
       "TPL   0.062728\n",
       "FFIV  0.062708\n",
       "RCL   0.062164\n",
       "CEG   0.061939\n",
       "FTNT  0.061344\n",
       "RL    0.061205\n",
       "JBL   0.060944\n",
       "DFS   0.060942\n",
       "MPWR  0.000000\n",
       "NTAP  0.000000\n",
       "NKE   0.000000\n",
       "MAA   0.000000\n",
       "MRNA  0.000000"
      ]
     },
     "execution_count": 21,
     "metadata": {},
     "output_type": "execute_result"
    }
   ],
   "source": [
    "pd.DataFrame(tracking[dates_end[-2]][0].items()).set_index(0).sort_values(by=1,ascending=False).iloc[:20]"
   ]
  },
  {
   "cell_type": "code",
   "execution_count": 22,
   "id": "bc56dc27-8803-420a-ab94-a3e847d96195",
   "metadata": {},
   "outputs": [
    {
     "data": {
      "text/plain": [
       "Timestamp('2025-01-31 00:00:00')"
      ]
     },
     "execution_count": 22,
     "metadata": {},
     "output_type": "execute_result"
    }
   ],
   "source": [
    "dates_end[-3]"
   ]
  },
  {
   "cell_type": "code",
   "execution_count": 23,
   "id": "5032eff9-b6f2-4111-9f76-e0179b0186e2",
   "metadata": {},
   "outputs": [],
   "source": [
    "investment_amount=100\n",
    "shares={}\n",
    "for col in dataframe:\n",
    "    \n",
    "    shares[col]=(weight_dict[col]*investment_amount)/dataframe.iloc[0][col]"
   ]
  },
  {
   "cell_type": "code",
   "execution_count": 24,
   "id": "74b2b4bd-57bf-427b-86ea-05bb6e957a09",
   "metadata": {},
   "outputs": [],
   "source": [
    "equal_weight=shares*dataframe"
   ]
  },
  {
   "cell_type": "code",
   "execution_count": 25,
   "id": "ba2e6507-7f0c-4b26-8516-1164061c7658",
   "metadata": {},
   "outputs": [],
   "source": [
    "pnl=get_pnl(portfolio)"
   ]
  },
  {
   "cell_type": "code",
   "execution_count": 26,
   "id": "afa5670f-95d6-47c6-8d37-9fd383e6c87b",
   "metadata": {},
   "outputs": [],
   "source": [
    "pnl['Total']=pnl.sum(axis=1)\n",
    "pnl_pct=pnl.copy()\n",
    "\n",
    "for col in pnl_pct.columns:\n",
    "    pnl_pct[col]/=pnl_pct['Total']\n",
    "    \n",
    "pnl_contrib=pd.DataFrame(pnl_pct.iloc[-1].sort_values(ascending=False))\n",
    "pnl_amount=pd.DataFrame(pnl.iloc[-1].sort_values(ascending=False))"
   ]
  },
  {
   "cell_type": "code",
   "execution_count": 87,
   "id": "cb7fada5-4700-4e75-9cf2-2b43af760a6a",
   "metadata": {},
   "outputs": [
    {
     "data": {
      "text/plain": [
       "Total    1.000000\n",
       "PLTR     0.128226\n",
       "NVDA     0.097715\n",
       "SMCI     0.094337\n",
       "VST      0.069569\n",
       "           ...   \n",
       "WBD     -0.010377\n",
       "NCLH    -0.010800\n",
       "UHS     -0.012055\n",
       "AMD     -0.018021\n",
       "CCL     -0.018550\n",
       "Name: 2025-01-31 00:00:00, Length: 502, dtype: float64"
      ]
     },
     "execution_count": 87,
     "metadata": {},
     "output_type": "execute_result"
    }
   ],
   "source": [
    "pnl_contrib[pnl_contrib.columns[0]]"
   ]
  },
  {
   "cell_type": "code",
   "execution_count": 28,
   "id": "4279c1d2-6981-4fb1-8a0b-a420479526ab",
   "metadata": {},
   "outputs": [],
   "source": [
    "historical_portfolio=pd.DataFrame()\n",
    "performance=pd.DataFrame()\n",
    "for key in portfolio.keys():\n",
    "    historical_portfolio=historical_portfolio.combine_first(portfolio[key])\n",
    "    "
   ]
  },
  {
   "cell_type": "code",
   "execution_count": 29,
   "id": "7021c4af-991b-4923-91e1-f37109d42c33",
   "metadata": {},
   "outputs": [
    {
     "name": "stderr",
     "output_type": "stream",
     "text": [
      "C:\\Users\\Admin\\AppData\\Local\\Temp\\ipykernel_13092\\89254820.py:7: FutureWarning: The default fill_method='pad' in DataFrame.pct_change is deprecated and will be removed in a future version. Either fill in any non-leading NA values prior to calling pct_change or specify 'fill_method=None' to not fill NA values.\n",
      "  performance_pct=performance_pct.pct_change()\n"
     ]
    },
    {
     "data": {
      "text/plain": [
       "<Axes: >"
      ]
     },
     "execution_count": 29,
     "metadata": {},
     "output_type": "execute_result"
    },
    {
     "data": {
      "image/png": "[encoded data removed]",
      "text/plain": [
       "<Figure size 640x480 with 1 Axes>"
      ]
     },
     "metadata": {},
     "output_type": "display_data"
    }
   ],
   "source": [
    "performance['Fund']=historical_portfolio.sum(axis=1)\n",
    "performance['SP500']=sp500\n",
    "#performance['Equal Weight']=equal_weight.sum(axis=1)\n",
    "performance['SP500 Leverage']=sp500_leverage\n",
    "\n",
    "performance_pct=performance.copy()\n",
    "performance_pct=performance_pct.pct_change()\n",
    "\n",
    "(1+performance_pct.iloc[:-2]).cumprod().plot()"
   ]
  },
  {
   "cell_type": "code",
   "execution_count": 30,
   "id": "b32c8107-e5f9-43d7-93de-7538f9555be9",
   "metadata": {},
   "outputs": [],
   "source": [
    "years=sorted(list(set(performance.index.year)))"
   ]
  },
  {
   "cell_type": "code",
   "execution_count": 31,
   "id": "580f70df-adc2-4ffd-b7fc-16afacc3e419",
   "metadata": {},
   "outputs": [],
   "source": [
    "month_year=performance.index.strftime('%Y-%m')\n",
    "month_year=sorted(list(set(month_year)))"
   ]
  },
  {
   "cell_type": "code",
   "execution_count": 32,
   "id": "1b29c7ce-687a-4d74-bb6c-40fd95add83b",
   "metadata": {},
   "outputs": [
    {
     "data": {
      "text/plain": [
       "<Axes: >"
      ]
     },
     "execution_count": 32,
     "metadata": {},
     "output_type": "execute_result"
    },
    {
     "data": {
      "image/png": "[encoded data removed]",
      "text/plain": [
       "<Figure size 640x480 with 1 Axes>"
      ]
     },
     "metadata": {},
     "output_type": "display_data"
    }
   ],
   "source": [
    "(1+performance_pct.loc[str(2024)].iloc[:-1]).cumprod().plot()"
   ]
  },
  {
   "cell_type": "code",
   "execution_count": 33,
   "id": "e723a2cd-b704-432e-8308-46bad6a4e7bc",
   "metadata": {},
   "outputs": [],
   "source": [
    "year_returns={}\n",
    "year_returns[years[0]]=performance.loc[str(years[0])].iloc[-1]/performance.loc[str(years[0])].iloc[0]-1\n",
    "for i in range(len(years)-1):\n",
    "\n",
    "    perf_year=performance.loc[str(years[i+1])].iloc[-1]/performance.loc[str(years[i])].iloc[-1]-1\n",
    "    year_returns[years[i+1]]=perf_year\n",
    "\n",
    "year_returns[years[-1]]=performance.loc[str(years[-1])].iloc[-2]/performance.loc[str(years[-2])].iloc[-1]-1"
   ]
  },
  {
   "cell_type": "code",
   "execution_count": 34,
   "id": "9f9abad5-5b46-4824-a0b2-9bff11182cf2",
   "metadata": {},
   "outputs": [
    {
     "data": {
      "text/html": [
       "<div>\n",
       "<style scoped>\n",
       "    .dataframe tbody tr th:only-of-type {\n",
       "        vertical-align: middle;\n",
       "    }\n",
       "\n",
       "    .dataframe tbody tr th {\n",
       "        vertical-align: top;\n",
       "    }\n",
       "\n",
       "    .dataframe thead th {\n",
       "        text-align: right;\n",
       "    }\n",
       "</style>\n",
       "<table border=\"1\" class=\"dataframe\">\n",
       "  <thead>\n",
       "    <tr style=\"text-align: right;\">\n",
       "      <th></th>\n",
       "      <th>2019</th>\n",
       "      <th>2020</th>\n",
       "      <th>2021</th>\n",
       "      <th>2022</th>\n",
       "      <th>2023</th>\n",
       "      <th>2024</th>\n",
       "      <th>2025</th>\n",
       "    </tr>\n",
       "  </thead>\n",
       "  <tbody>\n",
       "    <tr>\n",
       "      <th>Fund</th>\n",
       "      <td>0.125370</td>\n",
       "      <td>0.590486</td>\n",
       "      <td>0.246125</td>\n",
       "      <td>0.086979</td>\n",
       "      <td>0.452968</td>\n",
       "      <td>0.358494</td>\n",
       "      <td>0.045675</td>\n",
       "    </tr>\n",
       "    <tr>\n",
       "      <th>SP500</th>\n",
       "      <td>0.128370</td>\n",
       "      <td>0.183317</td>\n",
       "      <td>0.287288</td>\n",
       "      <td>-0.181754</td>\n",
       "      <td>0.261758</td>\n",
       "      <td>0.248865</td>\n",
       "      <td>0.041462</td>\n",
       "    </tr>\n",
       "    <tr>\n",
       "      <th>SP500 Leverage</th>\n",
       "      <td>0.232929</td>\n",
       "      <td>0.209603</td>\n",
       "      <td>0.630291</td>\n",
       "      <td>-0.390880</td>\n",
       "      <td>0.488736</td>\n",
       "      <td>0.456542</td>\n",
       "      <td>0.049770</td>\n",
       "    </tr>\n",
       "  </tbody>\n",
       "</table>\n",
       "</div>"
      ],
      "text/plain": [
       "                    2019      2020      2021      2022      2023      2024  \\\n",
       "Fund            0.125370  0.590486  0.246125  0.086979  0.452968  0.358494   \n",
       "SP500           0.128370  0.183317  0.287288 -0.181754  0.261758  0.248865   \n",
       "SP500 Leverage  0.232929  0.209603  0.630291 -0.390880  0.488736  0.456542   \n",
       "\n",
       "                    2025  \n",
       "Fund            0.045675  \n",
       "SP500           0.041462  \n",
       "SP500 Leverage  0.049770  "
      ]
     },
     "execution_count": 34,
     "metadata": {},
     "output_type": "execute_result"
    }
   ],
   "source": [
    "year_returns_dataframe=pd.DataFrame(year_returns)\n",
    "year_returns_dataframe"
   ]
  },
  {
   "cell_type": "code",
   "execution_count": 35,
   "id": "603625b8-6bec-4a92-9294-263f6a9935ad",
   "metadata": {},
   "outputs": [],
   "source": [
    "month_returns={}\n",
    "month_returns[month_year[0]]=performance.loc[str(month_year[0])].iloc[-1]/performance.loc[str(month_year[0])].iloc[0]-1\n",
    "for i in range(len(month_year)-1):\n",
    "\n",
    "    perf_year=performance.loc[str(month_year[i+1])].iloc[-1]/performance.loc[str(month_year[i])].iloc[-1]-1\n",
    "    month_returns[month_year[i+1]]=perf_year\n",
    "\n",
    "month_returns[month_year[-1]]=performance.loc[str(month_year[-1])].iloc[-2]/performance.loc[str(month_year[-2])].iloc[-1]-1"
   ]
  },
  {
   "cell_type": "code",
   "execution_count": 36,
   "id": "6bfe2c5b-7805-48f9-a51d-2006506166cd",
   "metadata": {},
   "outputs": [
    {
     "data": {
      "text/html": [
       "<div>\n",
       "<style scoped>\n",
       "    .dataframe tbody tr th:only-of-type {\n",
       "        vertical-align: middle;\n",
       "    }\n",
       "\n",
       "    .dataframe tbody tr th {\n",
       "        vertical-align: top;\n",
       "    }\n",
       "\n",
       "    .dataframe thead th {\n",
       "        text-align: right;\n",
       "    }\n",
       "</style>\n",
       "<table border=\"1\" class=\"dataframe\">\n",
       "  <thead>\n",
       "    <tr style=\"text-align: right;\">\n",
       "      <th></th>\n",
       "      <th>2019-06</th>\n",
       "      <th>2019-07</th>\n",
       "      <th>2019-08</th>\n",
       "      <th>2019-09</th>\n",
       "      <th>2019-10</th>\n",
       "      <th>2019-11</th>\n",
       "      <th>2019-12</th>\n",
       "      <th>2020-01</th>\n",
       "      <th>2020-02</th>\n",
       "      <th>2020-03</th>\n",
       "      <th>...</th>\n",
       "      <th>2024-05</th>\n",
       "      <th>2024-06</th>\n",
       "      <th>2024-07</th>\n",
       "      <th>2024-08</th>\n",
       "      <th>2024-09</th>\n",
       "      <th>2024-10</th>\n",
       "      <th>2024-11</th>\n",
       "      <th>2024-12</th>\n",
       "      <th>2025-01</th>\n",
       "      <th>2025-02</th>\n",
       "    </tr>\n",
       "  </thead>\n",
       "  <tbody>\n",
       "    <tr>\n",
       "      <th>Fund</th>\n",
       "      <td>0.023039</td>\n",
       "      <td>0.014254</td>\n",
       "      <td>-0.018219</td>\n",
       "      <td>0.020776</td>\n",
       "      <td>0.014085</td>\n",
       "      <td>0.038451</td>\n",
       "      <td>0.027664</td>\n",
       "      <td>-0.003205</td>\n",
       "      <td>-0.080928</td>\n",
       "      <td>-0.163584</td>\n",
       "      <td>...</td>\n",
       "      <td>0.064001</td>\n",
       "      <td>-0.070146</td>\n",
       "      <td>-0.072410</td>\n",
       "      <td>0.105631</td>\n",
       "      <td>0.034117</td>\n",
       "      <td>0.018560</td>\n",
       "      <td>0.179329</td>\n",
       "      <td>-0.05444</td>\n",
       "      <td>0.071064</td>\n",
       "      <td>-0.023704</td>\n",
       "    </tr>\n",
       "    <tr>\n",
       "      <th>SP500</th>\n",
       "      <td>0.017469</td>\n",
       "      <td>0.015120</td>\n",
       "      <td>-0.016743</td>\n",
       "      <td>0.019458</td>\n",
       "      <td>0.022105</td>\n",
       "      <td>0.036198</td>\n",
       "      <td>0.029055</td>\n",
       "      <td>-0.000404</td>\n",
       "      <td>-0.079166</td>\n",
       "      <td>-0.124871</td>\n",
       "      <td>...</td>\n",
       "      <td>0.050580</td>\n",
       "      <td>0.035280</td>\n",
       "      <td>0.012109</td>\n",
       "      <td>0.023365</td>\n",
       "      <td>0.021005</td>\n",
       "      <td>-0.008924</td>\n",
       "      <td>0.059633</td>\n",
       "      <td>-0.02406</td>\n",
       "      <td>0.026856</td>\n",
       "      <td>0.014224</td>\n",
       "    </tr>\n",
       "    <tr>\n",
       "      <th>SP500 Leverage</th>\n",
       "      <td>0.026310</td>\n",
       "      <td>0.055038</td>\n",
       "      <td>-0.066508</td>\n",
       "      <td>0.042734</td>\n",
       "      <td>0.032491</td>\n",
       "      <td>0.079948</td>\n",
       "      <td>0.049103</td>\n",
       "      <td>0.007700</td>\n",
       "      <td>-0.194302</td>\n",
       "      <td>-0.237840</td>\n",
       "      <td>...</td>\n",
       "      <td>0.045579</td>\n",
       "      <td>0.111924</td>\n",
       "      <td>0.004436</td>\n",
       "      <td>0.018661</td>\n",
       "      <td>0.044609</td>\n",
       "      <td>-0.006738</td>\n",
       "      <td>0.105126</td>\n",
       "      <td>-0.03740</td>\n",
       "      <td>0.056020</td>\n",
       "      <td>-0.005919</td>\n",
       "    </tr>\n",
       "  </tbody>\n",
       "</table>\n",
       "<p>3 rows × 69 columns</p>\n",
       "</div>"
      ],
      "text/plain": [
       "                 2019-06   2019-07   2019-08   2019-09   2019-10   2019-11  \\\n",
       "Fund            0.023039  0.014254 -0.018219  0.020776  0.014085  0.038451   \n",
       "SP500           0.017469  0.015120 -0.016743  0.019458  0.022105  0.036198   \n",
       "SP500 Leverage  0.026310  0.055038 -0.066508  0.042734  0.032491  0.079948   \n",
       "\n",
       "                 2019-12   2020-01   2020-02   2020-03  ...   2024-05  \\\n",
       "Fund            0.027664 -0.003205 -0.080928 -0.163584  ...  0.064001   \n",
       "SP500           0.029055 -0.000404 -0.079166 -0.124871  ...  0.050580   \n",
       "SP500 Leverage  0.049103  0.007700 -0.194302 -0.237840  ...  0.045579   \n",
       "\n",
       "                 2024-06   2024-07   2024-08   2024-09   2024-10   2024-11  \\\n",
       "Fund           -0.070146 -0.072410  0.105631  0.034117  0.018560  0.179329   \n",
       "SP500           0.035280  0.012109  0.023365  0.021005 -0.008924  0.059633   \n",
       "SP500 Leverage  0.111924  0.004436  0.018661  0.044609 -0.006738  0.105126   \n",
       "\n",
       "                2024-12   2025-01   2025-02  \n",
       "Fund           -0.05444  0.071064 -0.023704  \n",
       "SP500          -0.02406  0.026856  0.014224  \n",
       "SP500 Leverage -0.03740  0.056020 -0.005919  \n",
       "\n",
       "[3 rows x 69 columns]"
      ]
     },
     "execution_count": 36,
     "metadata": {},
     "output_type": "execute_result"
    }
   ],
   "source": [
    "month_returns_dataframe=pd.DataFrame(month_returns)\n",
    "month_returns_dataframe"
   ]
  },
  {
   "cell_type": "code",
   "execution_count": 37,
   "id": "5cbd406c-cf53-4d19-9699-0ec3334eb86d",
   "metadata": {},
   "outputs": [],
   "source": [
    "metrics={}\n",
    "metrics['Tracking Error']=(performance_pct['Fund']-performance_pct['SP500']).std()*np.sqrt(252)\n",
    "metrics['Fund Vol']=performance_pct['Fund'].std()*np.sqrt(252)\n",
    "metrics['Bench Vol']=performance_pct['SP500'].std()*np.sqrt(252)\n",
    "metrics['Fund Return']=performance['Fund'].iloc[-2]/performance['Fund'].iloc[0]\n",
    "metrics['Bench Return']=performance['SP500'].iloc[-2]/performance['SP500'].iloc[0]\n",
    "metrics['Sharpe Ratio']=(1+metrics['Fund Return'])**(1/len(set(dataframe.index.year)))/metrics['Fund Vol']"
   ]
  },
  {
   "cell_type": "code",
   "execution_count": 38,
   "id": "3bed2069-e9ed-4b27-8247-5e61cc17bd05",
   "metadata": {},
   "outputs": [
    {
     "data": {
      "text/html": [
       "<div>\n",
       "<style scoped>\n",
       "    .dataframe tbody tr th:only-of-type {\n",
       "        vertical-align: middle;\n",
       "    }\n",
       "\n",
       "    .dataframe tbody tr th {\n",
       "        vertical-align: top;\n",
       "    }\n",
       "\n",
       "    .dataframe thead th {\n",
       "        text-align: right;\n",
       "    }\n",
       "</style>\n",
       "<table border=\"1\" class=\"dataframe\">\n",
       "  <thead>\n",
       "    <tr style=\"text-align: right;\">\n",
       "      <th></th>\n",
       "      <th>Indicators</th>\n",
       "    </tr>\n",
       "  </thead>\n",
       "  <tbody>\n",
       "    <tr>\n",
       "      <th>Tracking Error</th>\n",
       "      <td>0.474208</td>\n",
       "    </tr>\n",
       "    <tr>\n",
       "      <th>Fund Vol</th>\n",
       "      <td>0.520368</td>\n",
       "    </tr>\n",
       "    <tr>\n",
       "      <th>Bench Vol</th>\n",
       "      <td>0.202207</td>\n",
       "    </tr>\n",
       "    <tr>\n",
       "      <th>Fund Return</th>\n",
       "      <td>5.004010</td>\n",
       "    </tr>\n",
       "    <tr>\n",
       "      <th>Bench Return</th>\n",
       "      <td>2.308059</td>\n",
       "    </tr>\n",
       "    <tr>\n",
       "      <th>Sharpe Ratio</th>\n",
       "      <td>2.482535</td>\n",
       "    </tr>\n",
       "  </tbody>\n",
       "</table>\n",
       "</div>"
      ],
      "text/plain": [
       "                Indicators\n",
       "Tracking Error    0.474208\n",
       "Fund Vol          0.520368\n",
       "Bench Vol         0.202207\n",
       "Fund Return       5.004010\n",
       "Bench Return      2.308059\n",
       "Sharpe Ratio      2.482535"
      ]
     },
     "execution_count": 38,
     "metadata": {},
     "output_type": "execute_result"
    }
   ],
   "source": [
    "indicators=pd.DataFrame(metrics.values(),index=metrics.keys(),columns=['Indicators'])\n",
    "indicators"
   ]
  },
  {
   "cell_type": "code",
   "execution_count": 39,
   "id": "1f4c976b-bb2d-4bd3-8110-e426c9425a8e",
   "metadata": {},
   "outputs": [],
   "source": [
    "metrics={}\n",
    "metrics['Tracking Error']=(performance_pct['Fund']-performance_pct['SP500 Leverage']).std()*np.sqrt(252)\n",
    "metrics['Fund Vol']=performance_pct['Fund'].std()*np.sqrt(252)\n",
    "metrics['Bench Vol']=performance_pct['SP500 Leverage'].std()*np.sqrt(252)\n",
    "metrics['Fund Return']=performance['Fund'].iloc[-2]/performance['Fund'].iloc[0]\n",
    "metrics['Bench Return']=performance['SP500 Leverage'].iloc[-2]/performance['SP500 Leverage'].iloc[0]\n",
    "metrics['Sharpe Ratio']=(1+metrics['Fund Return'])**(1/len(set(dataframe.index.year)))/metrics['Fund Vol']"
   ]
  },
  {
   "cell_type": "code",
   "execution_count": 40,
   "id": "500ee9bd-25d4-4360-8d39-ca4993e8c73f",
   "metadata": {
    "jp-MarkdownHeadingCollapsed": true
   },
   "outputs": [
    {
     "data": {
      "text/html": [
       "<div>\n",
       "<style scoped>\n",
       "    .dataframe tbody tr th:only-of-type {\n",
       "        vertical-align: middle;\n",
       "    }\n",
       "\n",
       "    .dataframe tbody tr th {\n",
       "        vertical-align: top;\n",
       "    }\n",
       "\n",
       "    .dataframe thead th {\n",
       "        text-align: right;\n",
       "    }\n",
       "</style>\n",
       "<table border=\"1\" class=\"dataframe\">\n",
       "  <thead>\n",
       "    <tr style=\"text-align: right;\">\n",
       "      <th></th>\n",
       "      <th>Indicators</th>\n",
       "    </tr>\n",
       "  </thead>\n",
       "  <tbody>\n",
       "    <tr>\n",
       "      <th>Tracking Error</th>\n",
       "      <td>0.544976</td>\n",
       "    </tr>\n",
       "    <tr>\n",
       "      <th>Fund Vol</th>\n",
       "      <td>0.520368</td>\n",
       "    </tr>\n",
       "    <tr>\n",
       "      <th>Bench Vol</th>\n",
       "      <td>0.361859</td>\n",
       "    </tr>\n",
       "    <tr>\n",
       "      <th>Fund Return</th>\n",
       "      <td>5.004010</td>\n",
       "    </tr>\n",
       "    <tr>\n",
       "      <th>Bench Return</th>\n",
       "      <td>3.371194</td>\n",
       "    </tr>\n",
       "    <tr>\n",
       "      <th>Sharpe Ratio</th>\n",
       "      <td>2.482535</td>\n",
       "    </tr>\n",
       "  </tbody>\n",
       "</table>\n",
       "</div>"
      ],
      "text/plain": [
       "                Indicators\n",
       "Tracking Error    0.544976\n",
       "Fund Vol          0.520368\n",
       "Bench Vol         0.361859\n",
       "Fund Return       5.004010\n",
       "Bench Return      3.371194\n",
       "Sharpe Ratio      2.482535"
      ]
     },
     "execution_count": 40,
     "metadata": {},
     "output_type": "execute_result"
    }
   ],
   "source": [
    "indicators=pd.DataFrame(metrics.values(),index=metrics.keys(),columns=['Indicators'])\n",
    "indicators"
   ]
  },
  {
   "cell_type": "code",
   "execution_count": 41,
   "id": "9828b812-f5e5-48ed-8891-4e8feb5caead",
   "metadata": {},
   "outputs": [],
   "source": [
    "shares=pd.DataFrame()\n",
    "for date in dates_end[:-1]:\n",
    "    shares[date]=tracking[date][1]\n",
    "shares=shares.T"
   ]
  },
  {
   "cell_type": "code",
   "execution_count": 42,
   "id": "1fc3aa21-ca73-49cd-af07-2dae0eb6ff1c",
   "metadata": {
    "jp-MarkdownHeadingCollapsed": true
   },
   "outputs": [],
   "source": [
    "positions=pd.DataFrame()\n",
    "positions.index=dataframe.index\n",
    "positions=pd.concat([positions,shares],axis=1)\n",
    "positions=positions.ffill()"
   ]
  },
  {
   "cell_type": "code",
   "execution_count": 43,
   "id": "59543b48-5b51-464e-be58-8b94fe3281fe",
   "metadata": {
    "jp-MarkdownHeadingCollapsed": true
   },
   "outputs": [],
   "source": [
    "#dataframe.iloc[:-1].to_excel('SP500 Prices.xlsx')\n",
    "#positions[:-1].to_excel('Rebalancing.xlsx')"
   ]
  },
  {
   "cell_type": "code",
   "execution_count": null,
   "id": "f7dd993d-0d01-411e-ab5d-f7c3c807153c",
   "metadata": {},
   "outputs": [],
   "source": []
  },
  {
   "cell_type": "code",
   "execution_count": null,
   "id": "8c3e0f48-0ca2-4b89-bbfa-bf563161464c",
   "metadata": {},
   "outputs": [],
   "source": []
  },
  {
   "cell_type": "code",
   "execution_count": null,
   "id": "f38f0a8b-aa9a-4894-b94d-d5dc7f7b686d",
   "metadata": {},
   "outputs": [],
   "source": []
  }
 ],
 "metadata": {
  "kernelspec": {
   "display_name": "Python [conda env:base] *",
   "language": "python",
   "name": "conda-base-py"
  },
  "language_info": {
   "codemirror_mode": {
    "name": "ipython",
    "version": 3
   },
   "file_extension": ".py",
   "mimetype": "text/x-python",
   "name": "python",
   "nbconvert_exporter": "python",
   "pygments_lexer": "ipython3",
   "version": "3.12.3"
  }
 },
 "nbformat": 4,
 "nbformat_minor": 5
}
