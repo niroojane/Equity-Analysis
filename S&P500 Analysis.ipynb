{
 "cells": [
  {
   "cell_type": "code",
   "execution_count": 1,
   "id": "79090802-ffca-403b-97ed-7806ca2eff9f",
   "metadata": {},
   "outputs": [],
   "source": [
    "import pandas as pd\n",
    "import numpy as np\n",
    "import yfinance as yf\n",
    "from bs4 import BeautifulSoup\n",
    "from urllib.request import urlopen\n",
    "import datetime"
   ]
  },
  {
   "cell_type": "markdown",
   "id": "d9c52a49-155c-413e-9ab9-cf5a30b1f649",
   "metadata": {},
   "source": [
    "# Functions"
   ]
  },
  {
   "cell_type": "code",
   "execution_count": 2,
   "id": "a84ebbb3-d4e1-453e-9e10-18b40df1334a",
   "metadata": {},
   "outputs": [],
   "source": [
    "def get_close(tickers,\n",
    "              start=datetime.date(datetime.date.today().year - 1, \n",
    "                datetime.date.today().month, \n",
    "                datetime.date.today().day)\n",
    "                ,end=datetime.date.today()):\n",
    "    \n",
    "    data=pd.DataFrame()\n",
    "    for ticker in tickers:\n",
    "\n",
    "        try:\n",
    "\n",
    "            yahoo_data=yf.Ticker(ticker)\n",
    "            stock_price=yahoo_data.history(start=start,end=end,interval='1d').reset_index()\n",
    "            stock_price['Date']=stock_price['Date'].dt.tz_localize(None)\n",
    "            stock_price=stock_price.set_index('Date')\n",
    "            stock_price[ticker]=stock_price['Close']+stock_price['Dividends'].shift(periods=-1)\n",
    "            data=pd.concat([data,stock_price[ticker]],axis=1)\n",
    "\n",
    "        except Exception as e:\n",
    "            pass\n",
    "        \n",
    "    return data"
   ]
  },
  {
   "cell_type": "code",
   "execution_count": 3,
   "id": "0a3e54c5-851c-4e1e-9f73-d74c5ec41430",
   "metadata": {},
   "outputs": [],
   "source": [
    "def get_mrat(dataframe,numerator=21,denominator=200):\n",
    "\n",
    "    mrat=(dataframe.rolling(numerator).mean()/dataframe.rolling(denominator).mean())\n",
    "    mrat_wo_na=mrat.dropna(how='all')\n",
    "\n",
    "    month_end=pd.to_datetime(mrat_wo_na.index)\n",
    "    mrat_weights=mrat_wo_na.iloc[month_end.is_month_end].copy().fillna(0)\n",
    "\n",
    "    mrat_weights['Total']=mrat_weights.sum(axis=1)\n",
    "\n",
    "    for col in mrat_weights.columns:\n",
    "        mrat_weights[col]=mrat_weights[col]/mrat_weights['Total']\n",
    "\n",
    "    mrat_weights=mrat_weights.drop(columns='Total')\n",
    "    mrat_weights_dict=mrat_weights.transpose().to_dict()\n",
    "\n",
    "    #dates=list(dataframe.index)\n",
    "    dates_end=list(mrat_weights.index)\n",
    "    dates_end.insert(0,dataframe.index[0])\n",
    "    \n",
    "    return mrat_weights,dates_end"
   ]
  },
  {
   "cell_type": "code",
   "execution_count": 4,
   "id": "2b71c017-9714-4868-ab40-38722b97f4ff",
   "metadata": {},
   "outputs": [],
   "source": [
    "def get_portfolios(mrat_weights,dates_end,numbers_of_stocks=50,\n",
    "                   investment_amount=10000,\n",
    "                   transaction_fee=0.005,weight_dict=None):\n",
    "    tracking={}\n",
    "    portfolio={}\n",
    "    initial_amount=investment_amount\n",
    "    \n",
    "    for i in range(len(dates_end)-1):\n",
    "\n",
    "        print(dates_end[i],investment_amount,investment_amount/initial_amount)\n",
    "\n",
    "        temp=dataframe.loc[dates_end[i]:dates_end[i+1]].copy()\n",
    "        initial_price=temp.iloc[0].to_dict()\n",
    "\n",
    "        if dates_end[i]>dates_end[0]:\n",
    "\n",
    "            top50=mrat_weights.loc[dates_end[i]].sort_values(ascending=False)[:numbers_of_stocks]\n",
    "            top_50_rebased=top50/top50.sum()\n",
    "            top_50_dict=top_50_rebased.to_dict()\n",
    "\n",
    "            weight_dict={}\n",
    "\n",
    "            for key in temp.columns:\n",
    "\n",
    "                if key in top_50_dict: \n",
    "                    weight_dict[key]=top_50_dict[key]\n",
    "                else:\n",
    "                    weight_dict[key]=0\n",
    "\n",
    "        inital_investment_per_stock={}\n",
    "        shares={}\n",
    "\n",
    "        for col in temp.columns:\n",
    "\n",
    "            inital_investment_per_stock[col]=weight_dict[col]*investment_amount\n",
    "            shares[col]=inital_investment_per_stock[col]*(1-transaction_fee)/initial_price[col]\n",
    "\n",
    "        tracking[i]=(weight_dict,shares,investment_amount,initial_price)\n",
    "\n",
    "        temp=temp*shares    \n",
    "        portfolio[dates_end[i]]=temp\n",
    "        investment_amount=temp.iloc[-1].sum()\n",
    "        \n",
    "        \n",
    "    return portfolio,tracking\n"
   ]
  },
  {
   "cell_type": "code",
   "execution_count": 5,
   "id": "89a23da5-27a4-4582-bb64-694ec0b85373",
   "metadata": {},
   "outputs": [],
   "source": [
    "def get_pnl(portfolios):\n",
    "\n",
    "    pnl={}\n",
    "\n",
    "    keys=list(portfolio.keys())\n",
    "    for i in range(len(keys)):\n",
    "\n",
    "        if i>0:\n",
    "            pnl[keys[i]]=portfolio[keys[i]].iloc[-1]-portfolio[keys[i]].iloc[0]\n",
    "\n",
    "        else:\n",
    "            \n",
    "            pnl[keys[0]]=portfolio[keys[0]].iloc[-1]-portfolio[keys[0]].iloc[0]\n",
    "    \n",
    "    pnl_dataframe=pd.DataFrame(pnl).cumsum(axis=1).T\n",
    "    \n",
    "    return pnl_dataframe"
   ]
  },
  {
   "cell_type": "markdown",
   "id": "8d657643-32a6-4c75-89db-8cecc305dc24",
   "metadata": {},
   "source": [
    "# Dataset"
   ]
  },
  {
   "cell_type": "code",
   "execution_count": 24,
   "id": "b19348a7-bace-403f-a234-82d3d7efac5c",
   "metadata": {},
   "outputs": [
    {
     "name": "stdout",
     "output_type": "stream",
     "text": [
      "Got error from yahoo api for ticker BRK.B, Error: {'code': 'Not Found', 'description': 'No data found, symbol may be delisted'}\n",
      "- BRK.B: No timezone found, symbol may be delisted\n",
      "BF.B: No data found for this date range, symbol may be delisted\n"
     ]
    }
   ],
   "source": [
    "url = \"https://en.wikipedia.org/wiki/List_of_S%26P_500_companies\"\n",
    "table = pd.read_html(url)\n",
    "df = table[0]\n",
    "tickers=df['Symbol'].tolist()\n",
    "\n",
    "end_date = datetime.datetime.now().strftime(\"%Y-%m-%d\")\n",
    "#start_date = (datetime.datetime.now() - datetime.timedelta(days=365)).strftime(\"%Y-%m-%d\")\n",
    "\n",
    "start_date =\"2015-1-1\"\n",
    "analysis_start_date = (datetime.datetime.now() - datetime.timedelta(days=365*4)).strftime(\"%Y-%m-%d\")\n",
    "\n",
    "dataframe=get_close(tickers,start=start_date,end=end_date)\n",
    "dataframe.index=pd.to_datetime(dataframe.index)"
   ]
  },
  {
   "cell_type": "code",
   "execution_count": 30,
   "id": "3e079897-1a4f-45b8-b1f4-a14ad8b78237",
   "metadata": {},
   "outputs": [],
   "source": [
    "sp500=get_close(['SPY'],start=start_date,end=end_date)"
   ]
  },
  {
   "cell_type": "markdown",
   "id": "58148b06-f5c9-4fca-b9fc-22a9350d1f41",
   "metadata": {},
   "source": [
    "# Analysis"
   ]
  },
  {
   "cell_type": "code",
   "execution_count": 32,
   "id": "c1f2bbb2-6de5-4580-ac78-4625a647cf6b",
   "metadata": {},
   "outputs": [
    {
     "name": "stdout",
     "output_type": "stream",
     "text": [
      "2015-01-02 00:00:00 10000 1.0\n",
      "2015-11-30 00:00:00 9890.371330756181 0.9890371330756181\n",
      "2015-12-31 00:00:00 9699.393653374484 0.9699393653374484\n",
      "2016-02-29 00:00:00 8939.350401243748 0.8939350401243747\n",
      "2016-03-31 00:00:00 9451.541007799098 0.9451541007799098\n",
      "2016-05-31 00:00:00 9808.563849108994 0.9808563849108994\n",
      "2016-06-30 00:00:00 10215.868994354332 1.0215868994354331\n",
      "2016-08-31 00:00:00 10518.303924568503 1.0518303924568504\n",
      "2016-09-30 00:00:00 10723.177731369593 1.0723177731369593\n",
      "2016-10-31 00:00:00 10293.020636089455 1.0293020636089456\n",
      "2016-11-30 00:00:00 11179.638616328366 1.1179638616328367\n",
      "2017-01-31 00:00:00 11902.129338749935 1.1902129338749936\n",
      "2017-02-28 00:00:00 12504.742845766737 1.2504742845766736\n",
      "2017-03-31 00:00:00 12447.941231275927 1.2447941231275927\n",
      "2017-05-31 00:00:00 12864.157245086519 1.2864157245086518\n",
      "2017-06-30 00:00:00 12503.431197124994 1.2503431197124995\n",
      "2017-07-31 00:00:00 12889.170766220042 1.2889170766220042\n",
      "2017-08-31 00:00:00 13625.0784394284 1.36250784394284\n",
      "2017-10-31 00:00:00 14998.584286851326 1.4998584286851326\n",
      "2017-11-30 00:00:00 15424.66361110121 1.542466361110121\n",
      "2018-01-31 00:00:00 16182.458999515602 1.61824589995156\n",
      "2018-02-28 00:00:00 16113.276446875769 1.6113276446875768\n",
      "2018-04-30 00:00:00 16465.92058983617 1.646592058983617\n",
      "2018-05-31 00:00:00 18117.04873773906 1.811704873773906\n",
      "2018-07-31 00:00:00 18541.83270223199 1.854183270223199\n",
      "2018-08-31 00:00:00 20721.993803939295 2.0721993803939296\n",
      "2018-10-31 00:00:00 17982.522284860555 1.7982522284860556\n",
      "2018-11-30 00:00:00 17924.804384758172 1.7924804384758173\n",
      "2018-12-31 00:00:00 16282.51498176657 1.628251498176657\n",
      "2019-01-31 00:00:00 16952.24815117831 1.695224815117831\n",
      "2019-02-28 00:00:00 17745.569626295262 1.7745569626295263\n",
      "2019-04-30 00:00:00 18493.38393518315 1.8493383935183147\n",
      "2019-05-31 00:00:00 17719.34422353735 1.7719344223537352\n",
      "2019-07-31 00:00:00 20514.91706902564 2.051491706902564\n",
      "2019-09-30 00:00:00 19730.225176965094 1.9730225176965095\n",
      "2019-10-31 00:00:00 19990.0320575645 1.9990032057564497\n",
      "2019-12-31 00:00:00 21676.992597965684 2.1676992597965685\n",
      "2020-01-31 00:00:00 22116.78188055667 2.211678188055667\n",
      "2020-03-31 00:00:00 18094.583959193973 1.8094583959193973\n",
      "2020-04-30 00:00:00 21210.185737329644 2.1210185737329645\n",
      "2020-06-30 00:00:00 23525.967109357156 2.3525967109357158\n",
      "2020-07-31 00:00:00 25886.841343428663 2.5886841343428664\n",
      "2020-08-31 00:00:00 28491.679265246767 2.8491679265246765\n",
      "2020-09-30 00:00:00 27641.94604430368 2.7641946044303682\n",
      "2020-11-30 00:00:00 32884.610337203994 3.288461033720399\n",
      "2020-12-31 00:00:00 35539.78747510763 3.553978747510763\n",
      "2021-03-31 00:00:00 40083.56559056352 4.008356559056352\n",
      "2021-04-30 00:00:00 41718.58394326175 4.171858394326175\n",
      "2021-06-30 00:00:00 43018.62166778433 4.301862166778434\n",
      "2021-08-31 00:00:00 44636.73030379558 4.4636730303795575\n",
      "2021-09-30 00:00:00 41469.32656109845 4.146932656109845\n",
      "2021-11-30 00:00:00 45474.582953489786 4.547458295348979\n",
      "2021-12-31 00:00:00 45027.06353393696 4.502706353393696\n",
      "2022-01-31 00:00:00 40066.19516803313 4.006619516803314\n",
      "2022-02-28 00:00:00 41644.47846394127 4.164447846394127\n",
      "2022-03-31 00:00:00 46297.92489570506 4.629792489570506\n",
      "2022-05-31 00:00:00 51147.9653186238 5.11479653186238\n",
      "2022-06-30 00:00:00 41211.17048131924 4.121117048131924\n",
      "2022-08-31 00:00:00 47130.69384038109 4.71306938403811\n",
      "2022-09-30 00:00:00 43727.578059903084 4.372757805990308\n",
      "2022-10-31 00:00:00 50098.57655819661 5.009857655819661\n",
      "2022-11-30 00:00:00 52448.97586679384 5.244897586679384\n",
      "2023-01-31 00:00:00 51017.890305688066 5.101789030568806\n",
      "2023-02-28 00:00:00 50687.607055674074 5.068760705567407\n",
      "2023-03-31 00:00:00 52612.11392616744 5.261211392616744\n",
      "2023-05-31 00:00:00 56537.9805180622 5.65379805180622\n",
      "2023-06-30 00:00:00 61485.1265928309 6.14851265928309\n",
      "2023-07-31 00:00:00 66343.32332942312 6.634332332942312\n",
      "2023-08-31 00:00:00 61873.00356486128 6.187300356486128\n",
      "2023-10-31 00:00:00 56437.00432161195 5.643700432161195\n",
      "2023-11-30 00:00:00 62881.15882073692 6.288115882073692\n",
      "2024-01-31 00:00:00 70617.65048459571 7.061765048459571\n",
      "2024-02-29 00:00:00 79357.38479028665 7.935738479028665\n",
      "2024-04-30 00:00:00 77568.91538327922 7.756891538327922\n",
      "2024-05-31 00:00:00 83015.54434126584 8.301554434126583\n",
      "2024-07-31 00:00:00 76158.51107852449 7.615851107852449\n"
     ]
    }
   ],
   "source": [
    "weight_dict={col: 1/dataframe.shape[1] for col in dataframe.columns}\n",
    "\n",
    "mrat_weights,dates_end=get_mrat(dataframe,numerator=21,denominator=200)\n",
    "\n",
    "portfolio,tracking=get_portfolios(mrat_weights,dates_end,numbers_of_stocks=20,\n",
    "                   investment_amount=10000,\n",
    "                   transaction_fee=0.005,weight_dict=weight_dict)"
   ]
  },
  {
   "cell_type": "code",
   "execution_count": 33,
   "id": "f197005a-42cb-4ac8-9c4e-09035dd1102c",
   "metadata": {},
   "outputs": [],
   "source": [
    "investment_amount=1000\n",
    "shares={}\n",
    "for col in dataframe:\n",
    "    \n",
    "    shares[col]=(weight_dict[col]*investment_amount)/dataframe.iloc[0][col]"
   ]
  },
  {
   "cell_type": "code",
   "execution_count": 34,
   "id": "74b2b4bd-57bf-427b-86ea-05bb6e957a09",
   "metadata": {},
   "outputs": [],
   "source": [
    "equal_weight=shares*dataframe"
   ]
  },
  {
   "cell_type": "code",
   "execution_count": 35,
   "id": "ff9f8bc8-3701-49b4-9364-34237f690f70",
   "metadata": {},
   "outputs": [],
   "source": [
    "pnl=get_pnl(portfolio)\n",
    "pnl['Total']=pnl.sum(axis=1)\n",
    "pnl_pct=pnl.copy()\n",
    "\n",
    "for col in pnl_pct.columns:\n",
    "    pnl_pct[col]/=pnl_pct['Total']\n",
    "    \n",
    "pnl_contrib=pd.DataFrame(pnl_pct.iloc[-1].sort_values(ascending=False))\n",
    "pnl_amount=pd.DataFrame(pnl.iloc[-1].sort_values(ascending=False))\n"
   ]
  },
  {
   "cell_type": "code",
   "execution_count": 36,
   "id": "cb7fada5-4700-4e75-9cf2-2b43af760a6a",
   "metadata": {},
   "outputs": [
    {
     "data": {
      "text/html": [
       "<div>\n",
       "<style scoped>\n",
       "    .dataframe tbody tr th:only-of-type {\n",
       "        vertical-align: middle;\n",
       "    }\n",
       "\n",
       "    .dataframe tbody tr th {\n",
       "        vertical-align: top;\n",
       "    }\n",
       "\n",
       "    .dataframe thead th {\n",
       "        text-align: right;\n",
       "    }\n",
       "</style>\n",
       "<table border=\"1\" class=\"dataframe\">\n",
       "  <thead>\n",
       "    <tr style=\"text-align: right;\">\n",
       "      <th></th>\n",
       "      <th>2024-07-31</th>\n",
       "    </tr>\n",
       "  </thead>\n",
       "  <tbody>\n",
       "    <tr>\n",
       "      <th>Total</th>\n",
       "      <td>1.000000</td>\n",
       "    </tr>\n",
       "    <tr>\n",
       "      <th>SMCI</th>\n",
       "      <td>0.104194</td>\n",
       "    </tr>\n",
       "    <tr>\n",
       "      <th>NVDA</th>\n",
       "      <td>0.102850</td>\n",
       "    </tr>\n",
       "    <tr>\n",
       "      <th>VST</th>\n",
       "      <td>0.066135</td>\n",
       "    </tr>\n",
       "    <tr>\n",
       "      <th>ENPH</th>\n",
       "      <td>0.049767</td>\n",
       "    </tr>\n",
       "    <tr>\n",
       "      <th>...</th>\n",
       "      <td>...</td>\n",
       "    </tr>\n",
       "    <tr>\n",
       "      <th>TDG</th>\n",
       "      <td>-0.005738</td>\n",
       "    </tr>\n",
       "    <tr>\n",
       "      <th>NCLH</th>\n",
       "      <td>-0.007072</td>\n",
       "    </tr>\n",
       "    <tr>\n",
       "      <th>WDC</th>\n",
       "      <td>-0.007148</td>\n",
       "    </tr>\n",
       "    <tr>\n",
       "      <th>CCL</th>\n",
       "      <td>-0.016786</td>\n",
       "    </tr>\n",
       "    <tr>\n",
       "      <th>AMTM</th>\n",
       "      <td>NaN</td>\n",
       "    </tr>\n",
       "  </tbody>\n",
       "</table>\n",
       "<p>502 rows × 1 columns</p>\n",
       "</div>"
      ],
      "text/plain": [
       "       2024-07-31\n",
       "Total    1.000000\n",
       "SMCI     0.104194\n",
       "NVDA     0.102850\n",
       "VST      0.066135\n",
       "ENPH     0.049767\n",
       "...           ...\n",
       "TDG     -0.005738\n",
       "NCLH    -0.007072\n",
       "WDC     -0.007148\n",
       "CCL     -0.016786\n",
       "AMTM          NaN\n",
       "\n",
       "[502 rows x 1 columns]"
      ]
     },
     "execution_count": 36,
     "metadata": {},
     "output_type": "execute_result"
    }
   ],
   "source": [
    "pnl_contrib"
   ]
  },
  {
   "cell_type": "code",
   "execution_count": 37,
   "id": "75df6682-adfa-470b-a790-bc8ebe49b5f4",
   "metadata": {},
   "outputs": [
    {
     "data": {
      "text/plain": [
       "<AxesSubplot:>"
      ]
     },
     "execution_count": 37,
     "metadata": {},
     "output_type": "execute_result"
    },
    {
     "data": {
      "image/png": "[encoded data removed]",
      "text/plain": [
       "<Figure size 432x288 with 1 Axes>"
      ]
     },
     "metadata": {
      "needs_background": "light"
     },
     "output_type": "display_data"
    }
   ],
   "source": [
    "pnl['Total'].plot()"
   ]
  },
  {
   "cell_type": "code",
   "execution_count": 38,
   "id": "d64edd0f-06f7-4db7-8b12-c4658c7d9eb6",
   "metadata": {},
   "outputs": [],
   "source": [
    "historical_portfolio=pd.DataFrame()\n",
    "performance=pd.DataFrame()\n",
    "for key in portfolio.keys():\n",
    "    historical_portfolio=historical_portfolio.combine_first(portfolio[key])\n",
    "    "
   ]
  },
  {
   "cell_type": "code",
   "execution_count": 39,
   "id": "ca97d30a-08e6-4cb7-bb18-4c51d2609a72",
   "metadata": {},
   "outputs": [
    {
     "data": {
      "text/plain": [
       "<AxesSubplot:>"
      ]
     },
     "execution_count": 39,
     "metadata": {},
     "output_type": "execute_result"
    },
    {
     "data": {
      "image/png": "[encoded data removed]",
      "text/plain": [
       "<Figure size 432x288 with 1 Axes>"
      ]
     },
     "metadata": {
      "needs_background": "light"
     },
     "output_type": "display_data"
    }
   ],
   "source": [
    "performance['Fund']=historical_portfolio.sum(axis=1)\n",
    "performance['Benchmark']=sp500\n",
    "performance['Equal Weight']=equal_weight.sum(axis=1)\n",
    "performance_pct=performance.copy()\n",
    "performance_pct=performance_pct.pct_change()\n",
    "\n",
    "(1+performance_pct.loc[dates_end[1]:]).cumprod().plot()"
   ]
  },
  {
   "cell_type": "code",
   "execution_count": 42,
   "id": "4fcb4996-d001-461b-be16-a366338da4d6",
   "metadata": {},
   "outputs": [],
   "source": [
    "metrics={}\n",
    "metrics['Tracking Error']=(performance_pct['Fund']-performance_pct['Benchmark']).std()*np.sqrt(252)\n",
    "metrics['Fund Vol']=performance_pct['Fund'].std()*np.sqrt(252)\n",
    "metrics['Bench Vol']=performance_pct['Benchmark'].std()*np.sqrt(252)\n",
    "metrics['Fund Return']=performance['Fund'].iloc[-1]/performance['Fund'].iloc[0]-1\n",
    "metrics['Bench Return']=performance['Benchmark'].iloc[-1]/performance['Benchmark'].iloc[0]-1\n",
    "metrics['Sharpe Ratio']=metrics['Fund Return']/metrics['Fund Vol']"
   ]
  },
  {
   "cell_type": "code",
   "execution_count": 43,
   "id": "a063b034-b863-4d3f-8b2a-1264d07b36c2",
   "metadata": {},
   "outputs": [
    {
     "data": {
      "text/html": [
       "<div>\n",
       "<style scoped>\n",
       "    .dataframe tbody tr th:only-of-type {\n",
       "        vertical-align: middle;\n",
       "    }\n",
       "\n",
       "    .dataframe tbody tr th {\n",
       "        vertical-align: top;\n",
       "    }\n",
       "\n",
       "    .dataframe thead th {\n",
       "        text-align: right;\n",
       "    }\n",
       "</style>\n",
       "<table border=\"1\" class=\"dataframe\">\n",
       "  <thead>\n",
       "    <tr style=\"text-align: right;\">\n",
       "      <th></th>\n",
       "      <th>Indicators</th>\n",
       "    </tr>\n",
       "  </thead>\n",
       "  <tbody>\n",
       "    <tr>\n",
       "      <th>Tracking Error</th>\n",
       "      <td>0.169818</td>\n",
       "    </tr>\n",
       "    <tr>\n",
       "      <th>Fund Vol</th>\n",
       "      <td>0.255318</td>\n",
       "    </tr>\n",
       "    <tr>\n",
       "      <th>Bench Vol</th>\n",
       "      <td>0.178349</td>\n",
       "    </tr>\n",
       "    <tr>\n",
       "      <th>Fund Return</th>\n",
       "      <td>8.035038</td>\n",
       "    </tr>\n",
       "    <tr>\n",
       "      <th>Bench Return</th>\n",
       "      <td>2.313205</td>\n",
       "    </tr>\n",
       "    <tr>\n",
       "      <th>Sharpe Ratio</th>\n",
       "      <td>31.470681</td>\n",
       "    </tr>\n",
       "  </tbody>\n",
       "</table>\n",
       "</div>"
      ],
      "text/plain": [
       "                Indicators\n",
       "Tracking Error    0.169818\n",
       "Fund Vol          0.255318\n",
       "Bench Vol         0.178349\n",
       "Fund Return       8.035038\n",
       "Bench Return      2.313205\n",
       "Sharpe Ratio     31.470681"
      ]
     },
     "execution_count": 43,
     "metadata": {},
     "output_type": "execute_result"
    }
   ],
   "source": [
    "indicators=pd.DataFrame(metrics.values(),index=metrics.keys(),columns=['Indicators'])\n",
    "indicators"
   ]
  },
  {
   "cell_type": "markdown",
   "id": "feac960e-fe50-4324-894d-42c449617026",
   "metadata": {},
   "source": [
    "# Manual Testing"
   ]
  },
  {
   "cell_type": "code",
   "execution_count": 18,
   "id": "0b44817f-f839-44cf-a51c-aa2f2822c03e",
   "metadata": {},
   "outputs": [
    {
     "data": {
      "text/plain": [
       "13786.731130425163"
      ]
     },
     "execution_count": 18,
     "metadata": {},
     "output_type": "execute_result"
    }
   ],
   "source": [
    "initial_price=dataframe.iloc[0].to_dict()\n",
    "weight_dict={}\n",
    "inital_investment_per_stock={}\n",
    "shares={}\n",
    "initial_amount=10000\n",
    "\n",
    "for col in dataframe.columns:\n",
    "    weight_dict[col]=1/dataframe.shape[1]\n",
    "    inital_investment_per_stock[col]=weight_dict[col]*initial_amount\n",
    "    shares[col]=inital_investment_per_stock[col]*(1-0.005)/initial_price[col]\n",
    "\n",
    "t=(dataframe*shares).sum(axis=1).loc[dates_end[1]]\n",
    "t"
   ]
  },
  {
   "cell_type": "code",
   "execution_count": 19,
   "id": "771bc121-6f08-4f97-9d8c-fcfac4153bf1",
   "metadata": {},
   "outputs": [
    {
     "data": {
      "text/plain": [
       "12810.373150754878"
      ]
     },
     "execution_count": 19,
     "metadata": {},
     "output_type": "execute_result"
    }
   ],
   "source": [
    "top50=mrat_weights.loc[dates_end[1]].sort_values(ascending=False)[:20].round(4)\n",
    "top_50_rebased=top50/top50.sum()\n",
    "top_50_rebased=top_50_rebased.to_dict()\n",
    "\n",
    "inital_investment_per_stock={}\n",
    "initial_investment=t\n",
    "shares={}\n",
    "initial_price=dataframe.loc[dates_end[1]].to_dict()\n",
    "\n",
    "for col in dataframe.columns:\n",
    "    \n",
    "    weight_dict={}\n",
    "    \n",
    "    if col in top_50_rebased:\n",
    "        \n",
    "        weight_dict[col]=top_50_rebased[col]\n",
    "    else:\n",
    "        weight_dict[col]=0\n",
    "        \n",
    "    inital_investment_per_stock[col]=weight_dict[col]*initial_investment\n",
    "    shares[col]=inital_investment_per_stock[col]*(1-0.005)/initial_price[col]\n",
    "\n",
    "(dataframe*shares).loc[dates_end[2]].sum()"
   ]
  },
  {
   "cell_type": "code",
   "execution_count": null,
   "id": "44cd319f-3610-4dc0-931b-f2569ecf0bb2",
   "metadata": {},
   "outputs": [],
   "source": []
  }
 ],
 "metadata": {
  "kernelspec": {
   "display_name": "Python 3 (ipykernel)",
   "language": "python",
   "name": "python3"
  },
  "language_info": {
   "codemirror_mode": {
    "name": "ipython",
    "version": 3
   },
   "file_extension": ".py",
   "mimetype": "text/x-python",
   "name": "python",
   "nbconvert_exporter": "python",
   "pygments_lexer": "ipython3",
   "version": "3.9.12"
  }
 },
 "nbformat": 4,
 "nbformat_minor": 5
}
