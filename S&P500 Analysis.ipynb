{
 "cells": [
  {
   "cell_type": "code",
   "execution_count": 1,
   "id": "79090802-ffca-403b-97ed-7806ca2eff9f",
   "metadata": {},
   "outputs": [],
   "source": [
    "import pandas as pd\n",
    "import numpy as np\n",
    "import yfinance as yf\n",
    "from bs4 import BeautifulSoup\n",
    "from urllib.request import urlopen\n",
    "import datetime"
   ]
  },
  {
   "cell_type": "markdown",
   "id": "d9c52a49-155c-413e-9ab9-cf5a30b1f649",
   "metadata": {},
   "source": [
    "# Functions"
   ]
  },
  {
   "cell_type": "code",
   "execution_count": 2,
   "id": "a84ebbb3-d4e1-453e-9e10-18b40df1334a",
   "metadata": {},
   "outputs": [],
   "source": [
    "def get_close(tickers,\n",
    "              start=datetime.date(datetime.date.today().year - 1, \n",
    "                datetime.date.today().month, \n",
    "                datetime.date.today().day)\n",
    "                ,end=datetime.date.today()):\n",
    "    \n",
    "    data=pd.DataFrame()\n",
    "    for ticker in tickers:\n",
    "\n",
    "        try:\n",
    "\n",
    "            yahoo_data=yf.Ticker(ticker)\n",
    "            stock_price=yahoo_data.history(start=start,end=end,interval='1d').reset_index()\n",
    "            stock_price['Date']=stock_price['Date'].dt.tz_localize(None)\n",
    "            stock_price=stock_price.set_index('Date')\n",
    "            stock_price[ticker]=stock_price['Close']+stock_price['Dividends'].shift(periods=-1)\n",
    "            data=pd.concat([data,stock_price[ticker]],axis=1)\n",
    "\n",
    "        except Exception as e:\n",
    "            pass\n",
    "        \n",
    "    return data"
   ]
  },
  {
   "cell_type": "code",
   "execution_count": 3,
   "id": "0a3e54c5-851c-4e1e-9f73-d74c5ec41430",
   "metadata": {},
   "outputs": [],
   "source": [
    "def get_mrat(dataframe,numerator=21,denominator=200):\n",
    "\n",
    "    mrat=(dataframe.rolling(numerator).mean()/dataframe.rolling(denominator).mean())\n",
    "    mrat_wo_na=mrat.dropna(how='all')\n",
    "    month_end=pd.to_datetime(mrat_wo_na.index)\n",
    "    mrat_weights=mrat_wo_na.loc[month_end.is_month_end].copy().fillna(0)\n",
    "    \n",
    "    #mrat_weights=mrat_wo_na.loc[month_end[::rebalancing_interval]].copy().fillna(0)\n",
    "    #dataframe2=mrat_wo_na.copy()\n",
    "    #dataframe2['Date'] = pd.to_datetime(dataframe2.index)\n",
    "    #dataframe2 = dataframe2.groupby(dataframe2['Date'].dt.to_period('m')).max()\n",
    "    #month_end=dataframe2['Date'].values\n",
    "    \n",
    "    mrat_weights['Total']=mrat_weights.sum(axis=1)\n",
    "\n",
    "    for col in mrat_weights.columns:\n",
    "        mrat_weights[col]=mrat_weights[col]/mrat_weights['Total']\n",
    "\n",
    "    mrat_weights=mrat_weights.drop(columns='Total')\n",
    "    mrat_weights_dict=mrat_weights.transpose().to_dict()\n",
    "\n",
    "    dates_end=list(mrat_weights.index)\n",
    "    dates_end.insert(0,dataframe.index[0])\n",
    "    dates_end.append(dataframe.index[-1])\n",
    "    return mrat_weights,dates_end"
   ]
  },
  {
   "cell_type": "code",
   "execution_count": 4,
   "id": "2b71c017-9714-4868-ab40-38722b97f4ff",
   "metadata": {},
   "outputs": [],
   "source": [
    "def get_portfolios(mrat_weights,dates_end,dataframe,weight_dict,\n",
    "                   numbers_of_stocks=50,\n",
    "                   investment_amount=10000,\n",
    "                   transaction_fee=0.005):\n",
    "    tracking={}\n",
    "    portfolio={}\n",
    "    initial_amount=investment_amount\n",
    "    perf=dataframe.pct_change()\n",
    "    \n",
    "    for i in range(len(dates_end)-1):\n",
    "        \n",
    "        print(dates_end[i],investment_amount,investment_amount/initial_amount)\n",
    "\n",
    "        \n",
    "        temp=dataframe.loc[dates_end[i]:dates_end[i+1]].copy()\n",
    "        initial_price=temp.iloc[0].to_dict()\n",
    "\n",
    "        if dates_end[i]>dates_end[0]:\n",
    "\n",
    "            top50=mrat_weights.loc[dates_end[i]].sort_values(ascending=False)[:numbers_of_stocks]\n",
    "            top_50_rebased=top50/top50.sum()\n",
    "            top_50_dict=top_50_rebased.to_dict()\n",
    "\n",
    "            weight_dict={}\n",
    "\n",
    "            for key in temp.columns:\n",
    "\n",
    "                if key in top_50_dict: \n",
    "                    weight_dict[key]=top_50_dict[key]\n",
    "                else:\n",
    "                    weight_dict[key]=0\n",
    "                    \n",
    "                    \n",
    "        weight_vec=np.array(list(weight_dict.values()))\n",
    "        \n",
    "        inital_investment_per_stock={}\n",
    "        shares={}\n",
    "\n",
    "        for col in temp.columns:\n",
    "            \n",
    "            weighted_perf=weight_vec*perf.loc[dates_end[i]]\n",
    "            \n",
    "            inital_investment_per_stock[col]=weight_dict[col]*investment_amount*(1+weighted_perf.sum())\n",
    "            shares[col]=inital_investment_per_stock[col]*(1-transaction_fee)/initial_price[col]\n",
    "\n",
    "        tracking[i]=(weight_dict,shares,investment_amount,initial_price)\n",
    "\n",
    "        temp=temp*shares    \n",
    "        portfolio[dates_end[i]]=temp\n",
    "        investment_amount=temp.iloc[-1].sum()\n",
    "        \n",
    "    \n",
    "    temp=dataframe.loc[dates_end[-2]:]*shares\n",
    "    portfolio[dates_end[-1]]=temp\n",
    "        \n",
    "\n",
    "    return portfolio,tracking\n"
   ]
  },
  {
   "cell_type": "code",
   "execution_count": 5,
   "id": "89a23da5-27a4-4582-bb64-694ec0b85373",
   "metadata": {},
   "outputs": [],
   "source": [
    "def get_pnl(portfolios):\n",
    "\n",
    "    pnl={}\n",
    "\n",
    "    keys=list(portfolio.keys())\n",
    "    for i in range(len(keys)):\n",
    "\n",
    "        if i>0:\n",
    "            pnl[keys[i]]=portfolio[keys[i]].iloc[-1]-portfolio[keys[i]].iloc[0]\n",
    "\n",
    "        else:\n",
    "            \n",
    "            pnl[keys[0]]=portfolio[keys[0]].iloc[-1]-portfolio[keys[0]].iloc[0]\n",
    "    \n",
    "    pnl_dataframe=pd.DataFrame(pnl).cumsum(axis=1).T\n",
    "    \n",
    "    return pnl_dataframe.iloc[:-2]"
   ]
  },
  {
   "cell_type": "markdown",
   "id": "8d657643-32a6-4c75-89db-8cecc305dc24",
   "metadata": {},
   "source": [
    "# Dataset"
   ]
  },
  {
   "cell_type": "code",
   "execution_count": 6,
   "id": "b19348a7-bace-403f-a234-82d3d7efac5c",
   "metadata": {},
   "outputs": [
    {
     "name": "stderr",
     "output_type": "stream",
     "text": [
      "BRK.B: No timezone found, symbol may be delisted\n",
      "BF.B: No price data found, symbol may be delisted (1d 2020-11-13 -> 2024-11-12)\n"
     ]
    }
   ],
   "source": [
    "url = \"https://en.wikipedia.org/wiki/List_of_S%26P_500_companies\"\n",
    "table = pd.read_html(url)\n",
    "df = table[0]\n",
    "tickers=df['Symbol'].tolist()\n",
    "\n",
    "end_date = datetime.datetime.now().strftime(\"%Y-%m-%d\")\n",
    "start_date = (datetime.datetime.now() - datetime.timedelta(days=365)).strftime(\"%Y-%m-%d\")\n",
    "analysis_start_date = (datetime.datetime.now() - datetime.timedelta(days=365*4)).strftime(\"%Y-%m-%d\")\n",
    "\n",
    "dataframe=get_close(tickers,start=analysis_start_date,end=end_date)\n",
    "dataframe.index=pd.to_datetime(dataframe.index)"
   ]
  },
  {
   "cell_type": "code",
   "execution_count": 7,
   "id": "a5b4d60f-0081-4743-940c-865fc87e401c",
   "metadata": {},
   "outputs": [],
   "source": [
    "sp500=get_close(['SPY'],start=analysis_start_date,end=end_date)"
   ]
  },
  {
   "cell_type": "markdown",
   "id": "58148b06-f5c9-4fca-b9fc-22a9350d1f41",
   "metadata": {},
   "source": [
    "# Analysis"
   ]
  },
  {
   "cell_type": "code",
   "execution_count": 8,
   "id": "6634c2c6-1aa6-4a3f-926a-0fe9072ad2f0",
   "metadata": {},
   "outputs": [],
   "source": [
    "weight_dict={col: 1/dataframe.shape[1] for col in dataframe.columns}\n",
    "mrat_weights,dates_end=get_mrat(dataframe,numerator=21,denominator=200)"
   ]
  },
  {
   "cell_type": "code",
   "execution_count": 9,
   "id": "39c2d02b-19df-4901-9000-1f518b8a3733",
   "metadata": {},
   "outputs": [
    {
     "name": "stdout",
     "output_type": "stream",
     "text": [
      "2020-11-13 00:00:00 10000 1.0\n",
      "2021-08-31 00:00:00 12941.662259390256 1.2941662259390256\n",
      "2021-09-30 00:00:00 11967.52275858228 1.1967522758582279\n",
      "2021-11-30 00:00:00 13060.314418771195 1.3060314418771195\n",
      "2021-12-31 00:00:00 12576.264987366669 1.2576264987366668\n",
      "2022-01-31 00:00:00 11205.904835571346 1.1205904835571345\n",
      "2022-02-28 00:00:00 11803.043905523624 1.1803043905523625\n",
      "2022-03-31 00:00:00 13554.790718896018 1.3554790718896017\n",
      "2022-05-31 00:00:00 14892.454744172923 1.4892454744172923\n",
      "2022-06-30 00:00:00 11918.825956376459 1.1918825956376458\n",
      "2022-08-31 00:00:00 13340.956436044222 1.3340956436044222\n",
      "2022-09-30 00:00:00 12407.314788448675 1.2407314788448676\n",
      "2022-10-31 00:00:00 14186.078602875308 1.4186078602875307\n",
      "2022-11-30 00:00:00 15005.495397838138 1.5005495397838138\n",
      "2023-01-31 00:00:00 14914.852677150091 1.491485267715009\n",
      "2023-02-28 00:00:00 15075.188921999696 1.5075188921999696\n",
      "2023-03-31 00:00:00 15773.113527551875 1.5773113527551876\n",
      "2023-05-31 00:00:00 17333.54285561276 1.7333542855612758\n",
      "2023-06-30 00:00:00 18648.026552306957 1.8648026552306958\n",
      "2023-07-31 00:00:00 20552.763191135287 2.0552763191135286\n",
      "2023-08-31 00:00:00 19386.43158431894 1.938643158431894\n",
      "2023-10-31 00:00:00 17773.167098847494 1.7773167098847493\n",
      "2023-11-30 00:00:00 20020.847903868205 2.0020847903868204\n",
      "2024-01-31 00:00:00 22500.202997584773 2.2500202997584773\n",
      "2024-02-29 00:00:00 24801.28124420181 2.480128124420181\n",
      "2024-04-30 00:00:00 24744.14791460505 2.474414791460505\n",
      "2024-05-31 00:00:00 25932.78584774663 2.5932785847746627\n",
      "2024-07-31 00:00:00 23207.915036675106 2.3207915036675106\n",
      "2024-09-30 00:00:00 26938.84448327867 2.693884448327867\n",
      "2024-10-31 00:00:00 26908.266017906557 2.690826601790656\n"
     ]
    }
   ],
   "source": [
    "portfolio,tracking=get_portfolios(dataframe=dataframe,numbers_of_stocks=20,weight_dict=weight_dict,\n",
    "                                  mrat_weights=mrat_weights,dates_end=dates_end,\n",
    "                                  transaction_fee=0.005)"
   ]
  },
  {
   "cell_type": "code",
   "execution_count": 10,
   "id": "5032eff9-b6f2-4111-9f76-e0179b0186e2",
   "metadata": {},
   "outputs": [],
   "source": [
    "investment_amount=1000\n",
    "shares={}\n",
    "for col in dataframe:\n",
    "    \n",
    "    shares[col]=(weight_dict[col]*investment_amount)/dataframe.iloc[0][col]"
   ]
  },
  {
   "cell_type": "code",
   "execution_count": 11,
   "id": "74b2b4bd-57bf-427b-86ea-05bb6e957a09",
   "metadata": {},
   "outputs": [],
   "source": [
    "equal_weight=shares*dataframe"
   ]
  },
  {
   "cell_type": "code",
   "execution_count": 12,
   "id": "ff9f8bc8-3701-49b4-9364-34237f690f70",
   "metadata": {},
   "outputs": [],
   "source": [
    "pnl=get_pnl(portfolio)\n",
    "pnl['Total']=pnl.sum(axis=1)\n",
    "pnl_pct=pnl.copy()\n",
    "\n",
    "for col in pnl_pct.columns:\n",
    "    pnl_pct[col]/=pnl_pct['Total']\n",
    "    \n",
    "pnl_contrib=pd.DataFrame(pnl_pct.iloc[-1].sort_values(ascending=False))\n",
    "pnl_amount=pd.DataFrame(pnl.iloc[-1].sort_values(ascending=False))\n"
   ]
  },
  {
   "cell_type": "code",
   "execution_count": 13,
   "id": "cb7fada5-4700-4e75-9cf2-2b43af760a6a",
   "metadata": {},
   "outputs": [
    {
     "data": {
      "text/html": [
       "<div>\n",
       "<style scoped>\n",
       "    .dataframe tbody tr th:only-of-type {\n",
       "        vertical-align: middle;\n",
       "    }\n",
       "\n",
       "    .dataframe tbody tr th {\n",
       "        vertical-align: top;\n",
       "    }\n",
       "\n",
       "    .dataframe thead th {\n",
       "        text-align: right;\n",
       "    }\n",
       "</style>\n",
       "<table border=\"1\" class=\"dataframe\">\n",
       "  <thead>\n",
       "    <tr style=\"text-align: right;\">\n",
       "      <th></th>\n",
       "      <th>2024-09-30</th>\n",
       "    </tr>\n",
       "  </thead>\n",
       "  <tbody>\n",
       "    <tr>\n",
       "      <th>Total</th>\n",
       "      <td>1.000000</td>\n",
       "    </tr>\n",
       "    <tr>\n",
       "      <th>SMCI</th>\n",
       "      <td>0.168948</td>\n",
       "    </tr>\n",
       "    <tr>\n",
       "      <th>NVDA</th>\n",
       "      <td>0.118413</td>\n",
       "    </tr>\n",
       "    <tr>\n",
       "      <th>VST</th>\n",
       "      <td>0.108913</td>\n",
       "    </tr>\n",
       "    <tr>\n",
       "      <th>DELL</th>\n",
       "      <td>0.051365</td>\n",
       "    </tr>\n",
       "    <tr>\n",
       "      <th>...</th>\n",
       "      <td>...</td>\n",
       "    </tr>\n",
       "    <tr>\n",
       "      <th>UHS</th>\n",
       "      <td>-0.012107</td>\n",
       "    </tr>\n",
       "    <tr>\n",
       "      <th>NCLH</th>\n",
       "      <td>-0.013316</td>\n",
       "    </tr>\n",
       "    <tr>\n",
       "      <th>ENPH</th>\n",
       "      <td>-0.018143</td>\n",
       "    </tr>\n",
       "    <tr>\n",
       "      <th>AMD</th>\n",
       "      <td>-0.019329</td>\n",
       "    </tr>\n",
       "    <tr>\n",
       "      <th>CCL</th>\n",
       "      <td>-0.025697</td>\n",
       "    </tr>\n",
       "  </tbody>\n",
       "</table>\n",
       "<p>502 rows × 1 columns</p>\n",
       "</div>"
      ],
      "text/plain": [
       "       2024-09-30\n",
       "Total    1.000000\n",
       "SMCI     0.168948\n",
       "NVDA     0.118413\n",
       "VST      0.108913\n",
       "DELL     0.051365\n",
       "...           ...\n",
       "UHS     -0.012107\n",
       "NCLH    -0.013316\n",
       "ENPH    -0.018143\n",
       "AMD     -0.019329\n",
       "CCL     -0.025697\n",
       "\n",
       "[502 rows x 1 columns]"
      ]
     },
     "execution_count": 13,
     "metadata": {},
     "output_type": "execute_result"
    }
   ],
   "source": [
    "pnl_contrib"
   ]
  },
  {
   "cell_type": "code",
   "execution_count": 14,
   "id": "56b8429b-2301-4481-a5e8-99c3f3b4e270",
   "metadata": {},
   "outputs": [],
   "source": [
    "historical_portfolio=pd.DataFrame()\n",
    "performance=pd.DataFrame()\n",
    "for key in portfolio.keys():\n",
    "    historical_portfolio=historical_portfolio.combine_first(portfolio[key])\n",
    "    "
   ]
  },
  {
   "cell_type": "code",
   "execution_count": 15,
   "id": "7021c4af-991b-4923-91e1-f37109d42c33",
   "metadata": {},
   "outputs": [
    {
     "data": {
      "text/plain": [
       "<AxesSubplot:>"
      ]
     },
     "execution_count": 15,
     "metadata": {},
     "output_type": "execute_result"
    },
    {
     "data": {
      "image/png": "[encoded data removed]",
      "text/plain": [
       "<Figure size 432x288 with 1 Axes>"
      ]
     },
     "metadata": {
      "needs_background": "light"
     },
     "output_type": "display_data"
    }
   ],
   "source": [
    "performance['Fund']=historical_portfolio.sum(axis=1)\n",
    "performance['Benchmark']=sp500\n",
    "performance['Equal Weight']=equal_weight.sum(axis=1)\n",
    "performance_pct=performance.copy()\n",
    "performance_pct=performance_pct.pct_change()\n",
    "\n",
    "(1+performance_pct.iloc[:-2]).cumprod().plot()"
   ]
  },
  {
   "cell_type": "code",
   "execution_count": 16,
   "id": "029f74f2-1c4b-46dc-840b-bc97e42a3285",
   "metadata": {},
   "outputs": [
    {
     "data": {
      "text/html": [
       "<div>\n",
       "<style scoped>\n",
       "    .dataframe tbody tr th:only-of-type {\n",
       "        vertical-align: middle;\n",
       "    }\n",
       "\n",
       "    .dataframe tbody tr th {\n",
       "        vertical-align: top;\n",
       "    }\n",
       "\n",
       "    .dataframe thead th {\n",
       "        text-align: right;\n",
       "    }\n",
       "</style>\n",
       "<table border=\"1\" class=\"dataframe\">\n",
       "  <thead>\n",
       "    <tr style=\"text-align: right;\">\n",
       "      <th></th>\n",
       "      <th>Fund</th>\n",
       "      <th>Benchmark</th>\n",
       "      <th>Equal Weight</th>\n",
       "    </tr>\n",
       "  </thead>\n",
       "  <tbody>\n",
       "    <tr>\n",
       "      <th>2020-11-13</th>\n",
       "      <td>NaN</td>\n",
       "      <td>NaN</td>\n",
       "      <td>NaN</td>\n",
       "    </tr>\n",
       "    <tr>\n",
       "      <th>2020-11-16</th>\n",
       "      <td>1.018846</td>\n",
       "      <td>1.012482</td>\n",
       "      <td>1.018846</td>\n",
       "    </tr>\n",
       "    <tr>\n",
       "      <th>2020-11-17</th>\n",
       "      <td>1.015976</td>\n",
       "      <td>1.007037</td>\n",
       "      <td>1.015976</td>\n",
       "    </tr>\n",
       "    <tr>\n",
       "      <th>2020-11-18</th>\n",
       "      <td>1.004846</td>\n",
       "      <td>0.994918</td>\n",
       "      <td>1.004846</td>\n",
       "    </tr>\n",
       "    <tr>\n",
       "      <th>2020-11-19</th>\n",
       "      <td>1.010229</td>\n",
       "      <td>0.999106</td>\n",
       "      <td>1.010229</td>\n",
       "    </tr>\n",
       "    <tr>\n",
       "      <th>...</th>\n",
       "      <td>...</td>\n",
       "      <td>...</td>\n",
       "      <td>...</td>\n",
       "    </tr>\n",
       "    <tr>\n",
       "      <th>2024-11-01</th>\n",
       "      <td>2.682872</td>\n",
       "      <td>1.689961</td>\n",
       "      <td>1.768089</td>\n",
       "    </tr>\n",
       "    <tr>\n",
       "      <th>2024-11-04</th>\n",
       "      <td>2.665412</td>\n",
       "      <td>1.686321</td>\n",
       "      <td>1.771921</td>\n",
       "    </tr>\n",
       "    <tr>\n",
       "      <th>2024-11-05</th>\n",
       "      <td>2.761583</td>\n",
       "      <td>1.706711</td>\n",
       "      <td>1.796804</td>\n",
       "    </tr>\n",
       "    <tr>\n",
       "      <th>2024-11-06</th>\n",
       "      <td>2.877893</td>\n",
       "      <td>1.749150</td>\n",
       "      <td>1.843178</td>\n",
       "    </tr>\n",
       "    <tr>\n",
       "      <th>2024-11-07</th>\n",
       "      <td>2.908573</td>\n",
       "      <td>1.762674</td>\n",
       "      <td>1.848061</td>\n",
       "    </tr>\n",
       "  </tbody>\n",
       "</table>\n",
       "<p>1002 rows × 3 columns</p>\n",
       "</div>"
      ],
      "text/plain": [
       "                Fund  Benchmark  Equal Weight\n",
       "2020-11-13       NaN        NaN           NaN\n",
       "2020-11-16  1.018846   1.012482      1.018846\n",
       "2020-11-17  1.015976   1.007037      1.015976\n",
       "2020-11-18  1.004846   0.994918      1.004846\n",
       "2020-11-19  1.010229   0.999106      1.010229\n",
       "...              ...        ...           ...\n",
       "2024-11-01  2.682872   1.689961      1.768089\n",
       "2024-11-04  2.665412   1.686321      1.771921\n",
       "2024-11-05  2.761583   1.706711      1.796804\n",
       "2024-11-06  2.877893   1.749150      1.843178\n",
       "2024-11-07  2.908573   1.762674      1.848061\n",
       "\n",
       "[1002 rows x 3 columns]"
      ]
     },
     "execution_count": 16,
     "metadata": {},
     "output_type": "execute_result"
    }
   ],
   "source": [
    "(1+performance_pct.iloc[:-2]).cumprod()"
   ]
  },
  {
   "cell_type": "code",
   "execution_count": 17,
   "id": "4fcb4996-d001-461b-be16-a366338da4d6",
   "metadata": {},
   "outputs": [],
   "source": [
    "metrics={}\n",
    "metrics['Tracking Error']=(performance_pct['Fund']-performance_pct['Benchmark']).std()*np.sqrt(252)\n",
    "metrics['Fund Vol']=performance_pct['Fund'].std()*np.sqrt(252)\n",
    "metrics['Bench Vol']=performance_pct['Benchmark'].std()*np.sqrt(252)\n",
    "metrics['Fund Return']=performance['Fund'].iloc[-2]/performance['Fund'].iloc[0]\n",
    "metrics['Bench Return']=performance['Benchmark'].iloc[-2]/performance['Benchmark'].iloc[0]\n",
    "metrics['Sharpe Ratio']=metrics['Fund Return']/metrics['Fund Vol']"
   ]
  },
  {
   "cell_type": "code",
   "execution_count": 18,
   "id": "a063b034-b863-4d3f-8b2a-1264d07b36c2",
   "metadata": {},
   "outputs": [
    {
     "data": {
      "text/html": [
       "<div>\n",
       "<style scoped>\n",
       "    .dataframe tbody tr th:only-of-type {\n",
       "        vertical-align: middle;\n",
       "    }\n",
       "\n",
       "    .dataframe tbody tr th {\n",
       "        vertical-align: top;\n",
       "    }\n",
       "\n",
       "    .dataframe thead th {\n",
       "        text-align: right;\n",
       "    }\n",
       "</style>\n",
       "<table border=\"1\" class=\"dataframe\">\n",
       "  <thead>\n",
       "    <tr style=\"text-align: right;\">\n",
       "      <th></th>\n",
       "      <th>Indicators</th>\n",
       "    </tr>\n",
       "  </thead>\n",
       "  <tbody>\n",
       "    <tr>\n",
       "      <th>Tracking Error</th>\n",
       "      <td>0.538063</td>\n",
       "    </tr>\n",
       "    <tr>\n",
       "      <th>Fund Vol</th>\n",
       "      <td>0.565357</td>\n",
       "    </tr>\n",
       "    <tr>\n",
       "      <th>Bench Vol</th>\n",
       "      <td>0.165109</td>\n",
       "    </tr>\n",
       "    <tr>\n",
       "      <th>Fund Return</th>\n",
       "      <td>2.998535</td>\n",
       "    </tr>\n",
       "    <tr>\n",
       "      <th>Bench Return</th>\n",
       "      <td>1.770310</td>\n",
       "    </tr>\n",
       "    <tr>\n",
       "      <th>Sharpe Ratio</th>\n",
       "      <td>5.303788</td>\n",
       "    </tr>\n",
       "  </tbody>\n",
       "</table>\n",
       "</div>"
      ],
      "text/plain": [
       "                Indicators\n",
       "Tracking Error    0.538063\n",
       "Fund Vol          0.565357\n",
       "Bench Vol         0.165109\n",
       "Fund Return       2.998535\n",
       "Bench Return      1.770310\n",
       "Sharpe Ratio      5.303788"
      ]
     },
     "execution_count": 18,
     "metadata": {},
     "output_type": "execute_result"
    }
   ],
   "source": [
    "indicators=pd.DataFrame(metrics.values(),index=metrics.keys(),columns=['Indicators'])\n",
    "indicators"
   ]
  },
  {
   "cell_type": "markdown",
   "id": "feac960e-fe50-4324-894d-42c449617026",
   "metadata": {},
   "source": [
    "# Manual Testing"
   ]
  },
  {
   "cell_type": "code",
   "execution_count": 19,
   "id": "0b44817f-f839-44cf-a51c-aa2f2822c03e",
   "metadata": {},
   "outputs": [
    {
     "data": {
      "text/plain": [
       "12941.662259390256"
      ]
     },
     "execution_count": 19,
     "metadata": {},
     "output_type": "execute_result"
    }
   ],
   "source": [
    "initial_price=dataframe.iloc[0].to_dict()\n",
    "weight_dict={}\n",
    "inital_investment_per_stock={}\n",
    "shares={}\n",
    "initial_amount=10000\n",
    "\n",
    "perf=dataframe.pct_change()\n",
    "for col in dataframe.columns:\n",
    "    \n",
    "    weight_dict[col]=1/dataframe.shape[1]\n",
    "\n",
    "    inital_investment_per_stock[col]=weight_dict[col]*initial_amount\n",
    "    shares[col]=inital_investment_per_stock[col]*(1-0.005)/initial_price[col]\n",
    "    \n",
    "\n",
    "t=(dataframe*shares).sum(axis=1).loc[dates_end[1]]\n",
    "t"
   ]
  },
  {
   "cell_type": "code",
   "execution_count": 20,
   "id": "29b988d9-f556-42af-9e46-d06f0f3edaa8",
   "metadata": {},
   "outputs": [
    {
     "data": {
      "text/plain": [
       "12084.115791150198"
      ]
     },
     "execution_count": 20,
     "metadata": {},
     "output_type": "execute_result"
    }
   ],
   "source": [
    "top50=mrat_weights.loc[dates_end[1]].sort_values(ascending=False)[:20].round(4)\n",
    "top_50_rebased=top50/top50.sum()\n",
    "top_50_rebased=top_50_rebased.to_dict()\n",
    "\n",
    "inital_investment_per_stock={}\n",
    "initial_investment=t\n",
    "shares={}\n",
    "initial_price=dataframe.loc[dates_end[1]].to_dict()\n",
    "\n",
    "for col in dataframe.columns:\n",
    "    \n",
    "    weight_dict={}\n",
    "    \n",
    "    if col in top_50_rebased:\n",
    "        \n",
    "        weight_dict[col]=top_50_rebased[col]\n",
    "    else:\n",
    "        weight_dict[col]=0\n",
    "    \n",
    "    \n",
    "    weight_vec=np.array(list(weight_dict.values()))\n",
    "    inital_investment_per_stock[col]=weight_dict[col]*initial_investment*(1+(perf.loc[dates_end[1]]*weight_vec).sum())\n",
    "    shares[col]=inital_investment_per_stock[col]*(1-0.005)/initial_price[col]\n",
    "\n",
    "(dataframe*shares).loc[dates_end[2]].sum()"
   ]
  },
  {
   "cell_type": "code",
   "execution_count": null,
   "id": "7b67e81a-1ac6-4ed8-a7ba-1e4fdf7f8447",
   "metadata": {},
   "outputs": [],
   "source": []
  },
  {
   "cell_type": "code",
   "execution_count": null,
   "id": "0039eccf-a872-4a7f-bb08-392d3e0a8cd8",
   "metadata": {},
   "outputs": [],
   "source": []
  },
  {
   "cell_type": "code",
   "execution_count": null,
   "id": "1a3ace7a-fa27-45ec-89e8-471eceb55555",
   "metadata": {},
   "outputs": [],
   "source": []
  }
 ],
 "metadata": {
  "kernelspec": {
   "display_name": "Python 3 (ipykernel)",
   "language": "python",
   "name": "python3"
  },
  "language_info": {
   "codemirror_mode": {
    "name": "ipython",
    "version": 3
   },
   "file_extension": ".py",
   "mimetype": "text/x-python",
   "name": "python",
   "nbconvert_exporter": "python",
   "pygments_lexer": "ipython3",
   "version": "3.9.12"
  }
 },
 "nbformat": 4,
 "nbformat_minor": 5
}
