{
 "cells": [
  {
   "cell_type": "code",
   "execution_count": 1,
   "id": "79090802-ffca-403b-97ed-7806ca2eff9f",
   "metadata": {},
   "outputs": [],
   "source": [
    "import pandas as pd\n",
    "import numpy as np\n",
    "import yfinance as yf\n",
    "from bs4 import BeautifulSoup\n",
    "from urllib.request import urlopen\n",
    "import datetime"
   ]
  },
  {
   "cell_type": "markdown",
   "id": "d9c52a49-155c-413e-9ab9-cf5a30b1f649",
   "metadata": {},
   "source": [
    "# Functions"
   ]
  },
  {
   "cell_type": "code",
   "execution_count": 2,
   "id": "a84ebbb3-d4e1-453e-9e10-18b40df1334a",
   "metadata": {},
   "outputs": [],
   "source": [
    "def get_close(tickers,\n",
    "              start=datetime.date(datetime.date.today().year - 1, \n",
    "                datetime.date.today().month, \n",
    "                datetime.date.today().day)\n",
    "                ,end=datetime.date.today()):\n",
    "    \n",
    "    data=pd.DataFrame()\n",
    "    for ticker in tickers:\n",
    "\n",
    "        try:\n",
    "\n",
    "            yahoo_data=yf.Ticker(ticker)\n",
    "            stock_price=yahoo_data.history(start=start,end=end,interval='1d').reset_index()\n",
    "            stock_price['Date']=stock_price['Date'].dt.tz_localize(None)\n",
    "            stock_price=stock_price.set_index('Date')\n",
    "            stock_price[ticker]=stock_price['Close']+stock_price['Dividends'].shift(periods=-1)\n",
    "            data=pd.concat([data,stock_price[ticker]],axis=1)\n",
    "\n",
    "        except Exception as e:\n",
    "            pass\n",
    "        \n",
    "    return data"
   ]
  },
  {
   "cell_type": "code",
   "execution_count": 3,
   "id": "0a3e54c5-851c-4e1e-9f73-d74c5ec41430",
   "metadata": {},
   "outputs": [],
   "source": [
    "def get_mrat(dataframe,numerator=21,denominator=200):\n",
    "\n",
    "    mrat=(dataframe.rolling(numerator).mean()/dataframe.rolling(denominator).mean())\n",
    "    mrat_wo_na=mrat.dropna(how='all')\n",
    "    month_end=pd.to_datetime(mrat_wo_na.index)\n",
    "    mrat_weights=mrat_wo_na.loc[month_end.is_month_end].copy().fillna(0)\n",
    "    \n",
    "    #mrat_weights=mrat_wo_na.loc[month_end[::rebalancing_interval]].copy().fillna(0)\n",
    "    #dataframe2=mrat_wo_na.copy()\n",
    "    #dataframe2['Date'] = pd.to_datetime(dataframe2.index)\n",
    "    #dataframe2 = dataframe2.groupby(dataframe2['Date'].dt.to_period('m')).max()\n",
    "    #month_end=dataframe2['Date'].values\n",
    "    \n",
    "    mrat_weights['Total']=mrat_weights.sum(axis=1)\n",
    "\n",
    "    for col in mrat_weights.columns:\n",
    "        mrat_weights[col]=mrat_weights[col]/mrat_weights['Total']\n",
    "\n",
    "    mrat_weights=mrat_weights.drop(columns='Total')\n",
    "    mrat_weights_dict=mrat_weights.transpose().to_dict()\n",
    "\n",
    "    dates_end=list(mrat_weights.index)\n",
    "    dates_end.insert(0,dataframe.index[0])\n",
    "    \n",
    "    return mrat_weights,dates_end"
   ]
  },
  {
   "cell_type": "code",
   "execution_count": 4,
   "id": "2b71c017-9714-4868-ab40-38722b97f4ff",
   "metadata": {},
   "outputs": [],
   "source": [
    "def get_portfolios(mrat_weights,dates_end,dataframe,weight_dict,\n",
    "                   numbers_of_stocks=50,\n",
    "                   investment_amount=10000,\n",
    "                   transaction_fee=0.005):\n",
    "    tracking={}\n",
    "    portfolio={}\n",
    "    initial_amount=investment_amount\n",
    "    \n",
    "    for i in range(len(dates_end)-1):\n",
    "\n",
    "        print(dates_end[i],investment_amount,investment_amount/initial_amount)\n",
    "\n",
    "        temp=dataframe.loc[dates_end[i]:dates_end[i+1]].copy()\n",
    "        initial_price=temp.iloc[0].to_dict()\n",
    "\n",
    "        if dates_end[i]>dates_end[0]:\n",
    "\n",
    "            top50=mrat_weights.loc[dates_end[i]].sort_values(ascending=False)[:numbers_of_stocks]\n",
    "            top_50_rebased=top50/top50.sum()\n",
    "            top_50_dict=top_50_rebased.to_dict()\n",
    "\n",
    "            weight_dict={}\n",
    "\n",
    "            for key in temp.columns:\n",
    "\n",
    "                if key in top_50_dict: \n",
    "                    weight_dict[key]=top_50_dict[key]\n",
    "                else:\n",
    "                    weight_dict[key]=0\n",
    "\n",
    "        inital_investment_per_stock={}\n",
    "        shares={}\n",
    "\n",
    "        for col in temp.columns:\n",
    "\n",
    "            inital_investment_per_stock[col]=weight_dict[col]*investment_amount\n",
    "            shares[col]=inital_investment_per_stock[col]*(1-transaction_fee)/initial_price[col]\n",
    "\n",
    "        tracking[i]=(weight_dict,shares,investment_amount,initial_price)\n",
    "\n",
    "        temp=temp*shares    \n",
    "        portfolio[dates_end[i]]=temp\n",
    "        investment_amount=temp.iloc[-1].sum()\n",
    "        \n",
    "        \n",
    "    return portfolio,tracking\n"
   ]
  },
  {
   "cell_type": "code",
   "execution_count": 5,
   "id": "89a23da5-27a4-4582-bb64-694ec0b85373",
   "metadata": {},
   "outputs": [],
   "source": [
    "def get_pnl(portfolios):\n",
    "\n",
    "    pnl={}\n",
    "\n",
    "    keys=list(portfolio.keys())\n",
    "    for i in range(len(keys)):\n",
    "\n",
    "        if i>0:\n",
    "            pnl[keys[i]]=portfolio[keys[i]].iloc[-1]-portfolio[keys[i]].iloc[0]\n",
    "\n",
    "        else:\n",
    "            \n",
    "            pnl[keys[0]]=portfolio[keys[0]].iloc[-1]-portfolio[keys[0]].iloc[0]\n",
    "    \n",
    "    pnl_dataframe=pd.DataFrame(pnl).cumsum(axis=1).T\n",
    "    \n",
    "    return pnl_dataframe"
   ]
  },
  {
   "cell_type": "markdown",
   "id": "8d657643-32a6-4c75-89db-8cecc305dc24",
   "metadata": {},
   "source": [
    "# Dataset"
   ]
  },
  {
   "cell_type": "code",
   "execution_count": 6,
   "id": "b19348a7-bace-403f-a234-82d3d7efac5c",
   "metadata": {},
   "outputs": [
    {
     "name": "stderr",
     "output_type": "stream",
     "text": [
      "BRK.B: No timezone found, symbol may be delisted\n",
      "BF.B: No price data found, symbol may be delisted (1d 2020-11-05 -> 2024-11-04)\n"
     ]
    }
   ],
   "source": [
    "url = \"https://en.wikipedia.org/wiki/List_of_S%26P_500_companies\"\n",
    "table = pd.read_html(url)\n",
    "df = table[0]\n",
    "tickers=df['Symbol'].tolist()\n",
    "\n",
    "end_date = datetime.datetime.now().strftime(\"%Y-%m-%d\")\n",
    "start_date = (datetime.datetime.now() - datetime.timedelta(days=365)).strftime(\"%Y-%m-%d\")\n",
    "analysis_start_date = (datetime.datetime.now() - datetime.timedelta(days=365*4)).strftime(\"%Y-%m-%d\")\n",
    "\n",
    "dataframe=get_close(tickers,start=analysis_start_date,end=end_date)\n",
    "dataframe.index=pd.to_datetime(dataframe.index)"
   ]
  },
  {
   "cell_type": "code",
   "execution_count": 7,
   "id": "a5b4d60f-0081-4743-940c-865fc87e401c",
   "metadata": {},
   "outputs": [],
   "source": [
    "sp500=get_close(['SPY'],start=analysis_start_date,end=end_date)"
   ]
  },
  {
   "cell_type": "markdown",
   "id": "58148b06-f5c9-4fca-b9fc-22a9350d1f41",
   "metadata": {},
   "source": [
    "# Analysis"
   ]
  },
  {
   "cell_type": "code",
   "execution_count": 8,
   "id": "222ff840-6d93-4d42-80a5-e5e434ded239",
   "metadata": {},
   "outputs": [],
   "source": [
    "weight_dict={col: 1/dataframe.shape[1] for col in dataframe.columns}\n",
    "\n",
    "mrat_weights,dates_end=get_mrat(dataframe,numerator=21,denominator=200)"
   ]
  },
  {
   "cell_type": "code",
   "execution_count": 9,
   "id": "39c2d02b-19df-4901-9000-1f518b8a3733",
   "metadata": {},
   "outputs": [
    {
     "name": "stdout",
     "output_type": "stream",
     "text": [
      "2020-11-05 00:00:00 10000 1.0\n",
      "2021-08-31 00:00:00 13605.33569185888 1.360533569185888\n",
      "2021-09-30 00:00:00 12639.907241272424 1.2639907241272423\n",
      "2021-11-30 00:00:00 13860.714996683924 1.3860714996683925\n",
      "2021-12-31 00:00:00 13724.310173711005 1.3724310173711005\n",
      "2022-01-31 00:00:00 12212.230858953466 1.2212230858953466\n",
      "2022-02-28 00:00:00 12693.293470432816 1.2693293470432816\n",
      "2022-03-31 00:00:00 14111.671120717381 1.4111671120717382\n",
      "2022-05-31 00:00:00 15589.970500728246 1.5589970500728247\n",
      "2022-06-30 00:00:00 12561.221636686729 1.2561221636686728\n",
      "2022-08-31 00:00:00 14365.500919469097 1.4365500919469096\n",
      "2022-09-30 00:00:00 13328.226105094272 1.3328226105094272\n",
      "2022-10-31 00:00:00 15270.115030219127 1.5270115030219127\n",
      "2022-11-30 00:00:00 15986.520058012919 1.5986520058012919\n",
      "2023-01-31 00:00:00 15550.323431258013 1.5550323431258013\n",
      "2023-02-28 00:00:00 15449.652871004324 1.5449652871004325\n",
      "2023-03-31 00:00:00 16036.244920759213 1.6036244920759213\n",
      "2023-05-31 00:00:00 17232.854513952312 1.7232854513952311\n",
      "2023-06-30 00:00:00 18762.39157456325 1.876239157456325\n",
      "2023-07-31 00:00:00 20245.05745015097 2.0245057450150967\n",
      "2023-08-31 00:00:00 18881.418348358155 1.8881418348358154\n",
      "2023-10-31 00:00:00 17200.743904786355 1.7200743904786355\n",
      "2023-11-30 00:00:00 19164.77895427605 1.9164778954276052\n",
      "2024-01-31 00:00:00 21522.689403966546 2.1522689403966546\n",
      "2024-02-29 00:00:00 24186.365441626345 2.4186365441626347\n",
      "2024-04-30 00:00:00 23620.21520853244 2.362021520853244\n",
      "2024-05-31 00:00:00 25278.74753782795 2.527874753782795\n",
      "2024-07-31 00:00:00 23190.76925984589 2.319076925984589\n",
      "2024-09-30 00:00:00 25624.609201613057 2.5624609201613056\n"
     ]
    }
   ],
   "source": [
    "portfolio,tracking=get_portfolios(dataframe=dataframe,numbers_of_stocks=20,weight_dict=weight_dict,\n",
    "                                  mrat_weights=mrat_weights,dates_end=dates_end,\n",
    "                                  transaction_fee=0.005)"
   ]
  },
  {
   "cell_type": "code",
   "execution_count": 10,
   "id": "5032eff9-b6f2-4111-9f76-e0179b0186e2",
   "metadata": {},
   "outputs": [],
   "source": [
    "investment_amount=1000\n",
    "shares={}\n",
    "for col in dataframe:\n",
    "    \n",
    "    shares[col]=(weight_dict[col]*investment_amount)/dataframe.iloc[0][col]"
   ]
  },
  {
   "cell_type": "code",
   "execution_count": 11,
   "id": "74b2b4bd-57bf-427b-86ea-05bb6e957a09",
   "metadata": {},
   "outputs": [],
   "source": [
    "equal_weight=shares*dataframe"
   ]
  },
  {
   "cell_type": "code",
   "execution_count": 12,
   "id": "ff9f8bc8-3701-49b4-9364-34237f690f70",
   "metadata": {},
   "outputs": [],
   "source": [
    "pnl=get_pnl(portfolio)\n",
    "pnl['Total']=pnl.sum(axis=1)\n",
    "pnl_pct=pnl.copy()\n",
    "\n",
    "for col in pnl_pct.columns:\n",
    "    pnl_pct[col]/=pnl_pct['Total']\n",
    "    \n",
    "pnl_contrib=pd.DataFrame(pnl_pct.iloc[-1].sort_values(ascending=False))\n",
    "pnl_amount=pd.DataFrame(pnl.iloc[-1].sort_values(ascending=False))\n"
   ]
  },
  {
   "cell_type": "code",
   "execution_count": 13,
   "id": "cb7fada5-4700-4e75-9cf2-2b43af760a6a",
   "metadata": {},
   "outputs": [
    {
     "data": {
      "text/html": [
       "<div>\n",
       "<style scoped>\n",
       "    .dataframe tbody tr th:only-of-type {\n",
       "        vertical-align: middle;\n",
       "    }\n",
       "\n",
       "    .dataframe tbody tr th {\n",
       "        vertical-align: top;\n",
       "    }\n",
       "\n",
       "    .dataframe thead th {\n",
       "        text-align: right;\n",
       "    }\n",
       "</style>\n",
       "<table border=\"1\" class=\"dataframe\">\n",
       "  <thead>\n",
       "    <tr style=\"text-align: right;\">\n",
       "      <th></th>\n",
       "      <th>2024-09-30</th>\n",
       "    </tr>\n",
       "  </thead>\n",
       "  <tbody>\n",
       "    <tr>\n",
       "      <th>Total</th>\n",
       "      <td>1.000000</td>\n",
       "    </tr>\n",
       "    <tr>\n",
       "      <th>SMCI</th>\n",
       "      <td>0.160949</td>\n",
       "    </tr>\n",
       "    <tr>\n",
       "      <th>NVDA</th>\n",
       "      <td>0.112458</td>\n",
       "    </tr>\n",
       "    <tr>\n",
       "      <th>VST</th>\n",
       "      <td>0.100733</td>\n",
       "    </tr>\n",
       "    <tr>\n",
       "      <th>DELL</th>\n",
       "      <td>0.047413</td>\n",
       "    </tr>\n",
       "    <tr>\n",
       "      <th>...</th>\n",
       "      <td>...</td>\n",
       "    </tr>\n",
       "    <tr>\n",
       "      <th>UHS</th>\n",
       "      <td>-0.011220</td>\n",
       "    </tr>\n",
       "    <tr>\n",
       "      <th>NCLH</th>\n",
       "      <td>-0.012267</td>\n",
       "    </tr>\n",
       "    <tr>\n",
       "      <th>ENPH</th>\n",
       "      <td>-0.018730</td>\n",
       "    </tr>\n",
       "    <tr>\n",
       "      <th>AMD</th>\n",
       "      <td>-0.019313</td>\n",
       "    </tr>\n",
       "    <tr>\n",
       "      <th>CCL</th>\n",
       "      <td>-0.023862</td>\n",
       "    </tr>\n",
       "  </tbody>\n",
       "</table>\n",
       "<p>502 rows × 1 columns</p>\n",
       "</div>"
      ],
      "text/plain": [
       "       2024-09-30\n",
       "Total    1.000000\n",
       "SMCI     0.160949\n",
       "NVDA     0.112458\n",
       "VST      0.100733\n",
       "DELL     0.047413\n",
       "...           ...\n",
       "UHS     -0.011220\n",
       "NCLH    -0.012267\n",
       "ENPH    -0.018730\n",
       "AMD     -0.019313\n",
       "CCL     -0.023862\n",
       "\n",
       "[502 rows x 1 columns]"
      ]
     },
     "execution_count": 13,
     "metadata": {},
     "output_type": "execute_result"
    }
   ],
   "source": [
    "pnl_contrib"
   ]
  },
  {
   "cell_type": "code",
   "execution_count": 14,
   "id": "75df6682-adfa-470b-a790-bc8ebe49b5f4",
   "metadata": {},
   "outputs": [
    {
     "data": {
      "text/plain": [
       "<AxesSubplot:>"
      ]
     },
     "execution_count": 14,
     "metadata": {},
     "output_type": "execute_result"
    },
    {
     "data": {
      "image/png": "[encoded data removed]",
      "text/plain": [
       "<Figure size 432x288 with 1 Axes>"
      ]
     },
     "metadata": {
      "needs_background": "light"
     },
     "output_type": "display_data"
    }
   ],
   "source": [
    "pnl['Total'].plot()"
   ]
  },
  {
   "cell_type": "code",
   "execution_count": 15,
   "id": "1124fd3b-d56d-407f-b523-fa44184f59fa",
   "metadata": {},
   "outputs": [],
   "source": [
    "historical_portfolio=pd.DataFrame()\n",
    "performance=pd.DataFrame()\n",
    "for key in portfolio.keys():\n",
    "    historical_portfolio=historical_portfolio.combine_first(portfolio[key])\n",
    "    "
   ]
  },
  {
   "cell_type": "code",
   "execution_count": 16,
   "id": "ca97d30a-08e6-4cb7-bb18-4c51d2609a72",
   "metadata": {},
   "outputs": [
    {
     "data": {
      "text/plain": [
       "<AxesSubplot:>"
      ]
     },
     "execution_count": 16,
     "metadata": {},
     "output_type": "execute_result"
    },
    {
     "data": {
      "image/png": "[encoded data removed]",
      "text/plain": [
       "<Figure size 432x288 with 1 Axes>"
      ]
     },
     "metadata": {
      "needs_background": "light"
     },
     "output_type": "display_data"
    }
   ],
   "source": [
    "performance['Fund']=historical_portfolio.sum(axis=1)\n",
    "performance['Benchmark']=sp500\n",
    "performance['Equal Weight']=equal_weight.sum(axis=1)\n",
    "performance_pct=performance.copy()\n",
    "performance_pct=performance_pct.pct_change()\n",
    "\n",
    "(1+performance_pct.loc[dates_end[1]:]).cumprod().plot()"
   ]
  },
  {
   "cell_type": "code",
   "execution_count": 17,
   "id": "4fcb4996-d001-461b-be16-a366338da4d6",
   "metadata": {},
   "outputs": [],
   "source": [
    "metrics={}\n",
    "metrics['Tracking Error']=(performance_pct['Fund']-performance_pct['Benchmark']).std()*np.sqrt(252)\n",
    "metrics['Fund Vol']=performance_pct['Fund'].std()*np.sqrt(252)\n",
    "metrics['Bench Vol']=performance_pct['Benchmark'].std()*np.sqrt(252)\n",
    "metrics['Fund Return']=performance['Fund'].iloc[-1]/performance['Fund'].iloc[0]\n",
    "metrics['Bench Return']=performance['Benchmark'].iloc[-1]/performance['Benchmark'].iloc[0]\n",
    "metrics['Sharpe Ratio']=metrics['Fund Return']/metrics['Fund Vol']"
   ]
  },
  {
   "cell_type": "code",
   "execution_count": 18,
   "id": "a063b034-b863-4d3f-8b2a-1264d07b36c2",
   "metadata": {},
   "outputs": [
    {
     "data": {
      "text/html": [
       "<div>\n",
       "<style scoped>\n",
       "    .dataframe tbody tr th:only-of-type {\n",
       "        vertical-align: middle;\n",
       "    }\n",
       "\n",
       "    .dataframe tbody tr th {\n",
       "        vertical-align: top;\n",
       "    }\n",
       "\n",
       "    .dataframe thead th {\n",
       "        text-align: right;\n",
       "    }\n",
       "</style>\n",
       "<table border=\"1\" class=\"dataframe\">\n",
       "  <thead>\n",
       "    <tr style=\"text-align: right;\">\n",
       "      <th></th>\n",
       "      <th>Indicators</th>\n",
       "    </tr>\n",
       "  </thead>\n",
       "  <tbody>\n",
       "    <tr>\n",
       "      <th>Tracking Error</th>\n",
       "      <td>0.186974</td>\n",
       "    </tr>\n",
       "    <tr>\n",
       "      <th>Fund Vol</th>\n",
       "      <td>0.255064</td>\n",
       "    </tr>\n",
       "    <tr>\n",
       "      <th>Bench Vol</th>\n",
       "      <td>0.164939</td>\n",
       "    </tr>\n",
       "    <tr>\n",
       "      <th>Fund Return</th>\n",
       "      <td>2.602416</td>\n",
       "    </tr>\n",
       "    <tr>\n",
       "      <th>Bench Return</th>\n",
       "      <td>1.720625</td>\n",
       "    </tr>\n",
       "    <tr>\n",
       "      <th>Sharpe Ratio</th>\n",
       "      <td>10.202984</td>\n",
       "    </tr>\n",
       "  </tbody>\n",
       "</table>\n",
       "</div>"
      ],
      "text/plain": [
       "                Indicators\n",
       "Tracking Error    0.186974\n",
       "Fund Vol          0.255064\n",
       "Bench Vol         0.164939\n",
       "Fund Return       2.602416\n",
       "Bench Return      1.720625\n",
       "Sharpe Ratio     10.202984"
      ]
     },
     "execution_count": 18,
     "metadata": {},
     "output_type": "execute_result"
    }
   ],
   "source": [
    "indicators=pd.DataFrame(metrics.values(),index=metrics.keys(),columns=['Indicators'])\n",
    "indicators"
   ]
  },
  {
   "cell_type": "markdown",
   "id": "feac960e-fe50-4324-894d-42c449617026",
   "metadata": {},
   "source": [
    "# Manual Testing"
   ]
  },
  {
   "cell_type": "code",
   "execution_count": 19,
   "id": "0b44817f-f839-44cf-a51c-aa2f2822c03e",
   "metadata": {},
   "outputs": [
    {
     "data": {
      "text/plain": [
       "13605.33569185888"
      ]
     },
     "execution_count": 19,
     "metadata": {},
     "output_type": "execute_result"
    }
   ],
   "source": [
    "initial_price=dataframe.iloc[0].to_dict()\n",
    "weight_dict={}\n",
    "inital_investment_per_stock={}\n",
    "shares={}\n",
    "initial_amount=10000\n",
    "\n",
    "for col in dataframe.columns:\n",
    "    weight_dict[col]=1/dataframe.shape[1]\n",
    "    inital_investment_per_stock[col]=weight_dict[col]*initial_amount\n",
    "    shares[col]=inital_investment_per_stock[col]*(1-0.005)/initial_price[col]\n",
    "\n",
    "t=(dataframe*shares).sum(axis=1).loc[dates_end[1]]\n",
    "t"
   ]
  },
  {
   "cell_type": "code",
   "execution_count": 20,
   "id": "771bc121-6f08-4f97-9d8c-fcfac4153bf1",
   "metadata": {},
   "outputs": [
    {
     "data": {
      "text/plain": [
       "12641.824657372457"
      ]
     },
     "execution_count": 20,
     "metadata": {},
     "output_type": "execute_result"
    }
   ],
   "source": [
    "top50=mrat_weights.loc[dates_end[1]].sort_values(ascending=False)[:20].round(4)\n",
    "top_50_rebased=top50/top50.sum()\n",
    "top_50_rebased=top_50_rebased.to_dict()\n",
    "\n",
    "inital_investment_per_stock={}\n",
    "initial_investment=t\n",
    "shares={}\n",
    "initial_price=dataframe.loc[dates_end[1]].to_dict()\n",
    "\n",
    "for col in dataframe.columns:\n",
    "    \n",
    "    weight_dict={}\n",
    "    \n",
    "    if col in top_50_rebased:\n",
    "        \n",
    "        weight_dict[col]=top_50_rebased[col]\n",
    "    else:\n",
    "        weight_dict[col]=0\n",
    "        \n",
    "    inital_investment_per_stock[col]=weight_dict[col]*initial_investment\n",
    "    shares[col]=inital_investment_per_stock[col]*(1-0.005)/initial_price[col]\n",
    "\n",
    "(dataframe*shares).loc[dates_end[2]].sum()"
   ]
  }
 ],
 "metadata": {
  "kernelspec": {
   "display_name": "Python 3 (ipykernel)",
   "language": "python",
   "name": "python3"
  },
  "language_info": {
   "codemirror_mode": {
    "name": "ipython",
    "version": 3
   },
   "file_extension": ".py",
   "mimetype": "text/x-python",
   "name": "python",
   "nbconvert_exporter": "python",
   "pygments_lexer": "ipython3",
   "version": "3.9.12"
  }
 },
 "nbformat": 4,
 "nbformat_minor": 5
}
