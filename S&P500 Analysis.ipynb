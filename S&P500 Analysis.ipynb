{
 "cells": [
  {
   "cell_type": "code",
   "execution_count": 1,
   "id": "79090802-ffca-403b-97ed-7806ca2eff9f",
   "metadata": {},
   "outputs": [],
   "source": [
    "import pandas as pd\n",
    "import numpy as np\n",
    "import yfinance as yf\n",
    "from bs4 import BeautifulSoup\n",
    "from urllib.request import urlopen\n",
    "import datetime"
   ]
  },
  {
   "cell_type": "markdown",
   "id": "d9c52a49-155c-413e-9ab9-cf5a30b1f649",
   "metadata": {},
   "source": [
    "# Functions"
   ]
  },
  {
   "cell_type": "code",
   "execution_count": 3,
   "id": "a84ebbb3-d4e1-453e-9e10-18b40df1334a",
   "metadata": {},
   "outputs": [],
   "source": [
    "def get_close(tickers,\n",
    "              start=datetime.date(datetime.date.today().year - 1, \n",
    "                datetime.date.today().month, \n",
    "                datetime.date.today().day)\n",
    "                ,end=datetime.date.today()):\n",
    "    \n",
    "    data=pd.DataFrame()\n",
    "    for ticker in tickers:\n",
    "\n",
    "        try:\n",
    "\n",
    "            yahoo_data=yf.Ticker(ticker)\n",
    "            stock_price=yahoo_data.history(start=start,end=end,interval='1d').reset_index()\n",
    "            stock_price['Date']=stock_price['Date'].dt.tz_localize(None)\n",
    "            stock_price=stock_price.set_index('Date')\n",
    "            stock_price[ticker]=stock_price['Close']+stock_price['Dividends'].shift(periods=-1)\n",
    "            data=pd.concat([data,stock_price[ticker]],axis=1)\n",
    "\n",
    "        except Exception as e:\n",
    "            pass\n",
    "        \n",
    "    return data"
   ]
  },
  {
   "cell_type": "code",
   "execution_count": 4,
   "id": "0a3e54c5-851c-4e1e-9f73-d74c5ec41430",
   "metadata": {},
   "outputs": [],
   "source": [
    "def get_mrat(dataframe,numerator=21,denominator=200):\n",
    "\n",
    "    mrat=(dataframe.rolling(numerator).mean()/dataframe.rolling(denominator).mean())\n",
    "    mrat_wo_na=mrat.dropna(how='all')\n",
    "\n",
    "    month=list(sorted(set(mrat_wo_na.index + pd.offsets.BMonthEnd(0))))\n",
    "    #month_end=pd.to_datetime(mrat_wo_na.index)\n",
    "    month = pd.to_datetime(month)\n",
    "\n",
    "    idx1 = pd.Index(mrat_wo_na.iloc[:-1].index)\n",
    "    idx2 = pd.Index(month)\n",
    "    closest_dates = idx1[idx1.get_indexer(idx2, method='nearest')]\n",
    "\n",
    "\n",
    "    mrat_weights=mrat_wo_na.loc[closest_dates].copy().fillna(0)\n",
    "    \n",
    "    mrat_weights['Total']=mrat_weights.sum(axis=1)\n",
    "\n",
    "    for col in mrat_weights.columns:\n",
    "        mrat_weights[col]=mrat_weights[col]/mrat_weights['Total']\n",
    "\n",
    "    mrat_weights=mrat_weights.drop(columns='Total')\n",
    "    mrat_weights_dict=mrat_weights.transpose().to_dict()\n",
    "\n",
    "    dates_end=list(mrat_weights.index)\n",
    "    dates_end.insert(0,dataframe.index[0])\n",
    "    dates_end.append(dataframe.index[-1])\n",
    "    dates_end=list(set(dates_end))\n",
    "    \n",
    "    return mrat_weights,sorted(dates_end)"
   ]
  },
  {
   "cell_type": "code",
   "execution_count": 5,
   "id": "2b71c017-9714-4868-ab40-38722b97f4ff",
   "metadata": {},
   "outputs": [],
   "source": [
    "def get_portfolios(mrat_weights,dates_end,dataframe,weight_dict,\n",
    "                   numbers_of_stocks=50,\n",
    "                   investment_amount=10000,\n",
    "                   transaction_fee=0.005):\n",
    "    tracking={}\n",
    "    portfolio={}\n",
    "    initial_amount=investment_amount\n",
    "    perf=dataframe.pct_change()\n",
    "    \n",
    "    for i in range(len(dates_end)-1):\n",
    "        \n",
    "        print(dates_end[i],investment_amount,investment_amount/initial_amount)\n",
    "\n",
    "        \n",
    "        temp=dataframe.loc[dates_end[i]:dates_end[i+1]].copy()\n",
    "        initial_price=temp.iloc[0].to_dict()\n",
    "\n",
    "        if dates_end[i]>dates_end[0]:\n",
    "\n",
    "            top=mrat_weights.loc[dates_end[i]].sort_values(ascending=False)[:numbers_of_stocks]\n",
    "            top_rebased=top/top.sum()\n",
    "            top_dict=top_rebased.to_dict()\n",
    "\n",
    "            weight_dict={}\n",
    "\n",
    "            for key in temp.columns:\n",
    "\n",
    "                if key in top_dict: \n",
    "                    weight_dict[key]=top_dict[key]\n",
    "                else:\n",
    "                    weight_dict[key]=0\n",
    "                    \n",
    "                    \n",
    "        weight_vec=np.array(list(weight_dict.values()))\n",
    "        \n",
    "        inital_investment_per_stock={}\n",
    "        shares={}\n",
    "\n",
    "        for col in temp.columns:\n",
    "            \n",
    "            weighted_perf=weight_vec*perf.loc[dates_end[i]]\n",
    "            \n",
    "            inital_investment_per_stock[col]=weight_dict[col]*investment_amount*(1+weighted_perf.sum())\n",
    "            shares[col]=inital_investment_per_stock[col]*(1-transaction_fee)/initial_price[col]\n",
    "\n",
    "        tracking[dates_end[i]]=(weight_dict,shares,investment_amount,initial_price)\n",
    "\n",
    "        temp=temp*shares    \n",
    "        portfolio[dates_end[i]]=temp\n",
    "        investment_amount=temp.iloc[-1].sum()\n",
    "        \n",
    "    \n",
    "    temp=dataframe.loc[dates_end[-2]:]*shares\n",
    "    portfolio[dates_end[-1]]=temp\n",
    "        \n",
    "\n",
    "    return portfolio,tracking\n"
   ]
  },
  {
   "cell_type": "code",
   "execution_count": 6,
   "id": "89a23da5-27a4-4582-bb64-694ec0b85373",
   "metadata": {},
   "outputs": [],
   "source": [
    "def get_pnl(portfolios):\n",
    "\n",
    "    pnl={}\n",
    "\n",
    "    keys=list(portfolio.keys())\n",
    "    for i in range(len(keys)):\n",
    "\n",
    "        if i>0:\n",
    "            pnl[keys[i]]=portfolio[keys[i]].iloc[-1]-portfolio[keys[i]].iloc[0]\n",
    "\n",
    "        else:\n",
    "            \n",
    "            pnl[keys[0]]=portfolio[keys[0]].iloc[-1]-portfolio[keys[0]].iloc[0]\n",
    "    \n",
    "    pnl_dataframe=pd.DataFrame(pnl).cumsum(axis=1).T\n",
    "    \n",
    "    return pnl_dataframe.iloc[:-2]"
   ]
  },
  {
   "cell_type": "markdown",
   "id": "8d657643-32a6-4c75-89db-8cecc305dc24",
   "metadata": {},
   "source": [
    "# Dataset"
   ]
  },
  {
   "cell_type": "code",
   "execution_count": 8,
   "id": "d9c5c836-f10a-4f30-b2a4-a8e24c59bdf9",
   "metadata": {},
   "outputs": [],
   "source": [
    "url = \"https://en.wikipedia.org/wiki/List_of_S%26P_500_companies\"\n",
    "#url='https://en.wikipedia.org/wiki/CAC_40'\n",
    "table = pd.read_html(url)\n",
    "df = table[0]"
   ]
  },
  {
   "cell_type": "code",
   "execution_count": 9,
   "id": "b9acf227-6d04-40e5-b794-ae831b132341",
   "metadata": {},
   "outputs": [],
   "source": [
    "#tickers=df['Symbol'].tolist()\n",
    "tickers=df['Symbol'].tolist()\n"
   ]
  },
  {
   "cell_type": "code",
   "execution_count": 10,
   "id": "dc201441-893e-4e1c-873c-cc100aadfcca",
   "metadata": {},
   "outputs": [
    {
     "name": "stderr",
     "output_type": "stream",
     "text": [
      "$BRK.B: possibly delisted; no timezone found\n",
      "$BF.B: possibly delisted; no price data found  (1d 2019-06-15 -> 2025-02-16)\n"
     ]
    }
   ],
   "source": [
    "end_date = datetime.datetime.now().strftime(\"%Y-%m-%d\")\n",
    "start_date = (datetime.datetime(2019,6,15)).strftime(\"%Y-%m-%d\")\n",
    "#analysis_start_date = (datetime.datetime.now() - datetime.timedelta(days=365*4)).strftime(\"%Y-%m-%d\")\n",
    "\n",
    "dataframe=get_close(tickers,start=start_date,end=end_date)\n",
    "dataframe.index=pd.to_datetime(dataframe.index)"
   ]
  },
  {
   "cell_type": "code",
   "execution_count": 11,
   "id": "1289ce8e-6bd9-4991-8e33-76f3d7449e67",
   "metadata": {},
   "outputs": [],
   "source": [
    "sp500=get_close(['SPY'],start=start_date,end=end_date)\n",
    "sp500_leverage=get_close(['XS2D.L'],start=start_date,end=end_date)"
   ]
  },
  {
   "cell_type": "markdown",
   "id": "58148b06-f5c9-4fca-b9fc-22a9350d1f41",
   "metadata": {},
   "source": [
    "# Analysis"
   ]
  },
  {
   "cell_type": "code",
   "execution_count": 13,
   "id": "2fa9e48e-9fe9-4846-8b46-1330c6f2b488",
   "metadata": {},
   "outputs": [],
   "source": [
    "weight_dict={col: 1/dataframe.shape[1] for col in dataframe.columns}\n",
    "mrat_weights,dates_end=get_mrat(dataframe,numerator=21,denominator=200)"
   ]
  },
  {
   "cell_type": "code",
   "execution_count": 14,
   "id": "d45c2239-46ff-4961-b5ab-ddc093c732d7",
   "metadata": {},
   "outputs": [],
   "source": [
    "mrat_weights = mrat_weights[~mrat_weights.index.duplicated(keep='first')]"
   ]
  },
  {
   "cell_type": "code",
   "execution_count": 15,
   "id": "51e9284a-0423-4480-bb35-dfe392b76cc5",
   "metadata": {},
   "outputs": [
    {
     "name": "stderr",
     "output_type": "stream",
     "text": [
      "C:\\Users\\Admin\\AppData\\Local\\Temp\\ipykernel_16576\\3430555856.py:8: FutureWarning: The default fill_method='pad' in DataFrame.pct_change is deprecated and will be removed in a future version. Either fill in any non-leading NA values prior to calling pct_change or specify 'fill_method=None' to not fill NA values.\n",
      "  perf=dataframe.pct_change()\n"
     ]
    },
    {
     "name": "stdout",
     "output_type": "stream",
     "text": [
      "2019-06-17 00:00:00 100 1.0\n",
      "2020-03-31 00:00:00 83.93682271637992 0.8393682271637992\n",
      "2020-04-30 00:00:00 103.4907058782153 1.034907058782153\n",
      "2020-05-29 00:00:00 114.21826871980849 1.142182687198085\n",
      "2020-06-30 00:00:00 121.19010821868362 1.2119010821868361\n",
      "2020-07-31 00:00:00 143.8602589669664 1.438602589669664\n",
      "2020-08-31 00:00:00 165.73659087178038 1.6573659087178039\n",
      "2020-09-30 00:00:00 164.81226445579853 1.6481226445579853\n",
      "2020-10-30 00:00:00 164.4920659983213 1.644920659983213\n",
      "2020-11-30 00:00:00 190.81168329718247 1.9081168329718248\n",
      "2020-12-31 00:00:00 204.02341583491835 2.0402341583491834\n",
      "2021-01-29 00:00:00 221.38788810136526 2.2138788810136525\n",
      "2021-02-26 00:00:00 235.09174948884117 2.350917494888412\n",
      "2021-03-31 00:00:00 227.65816916277115 2.2765816916277113\n",
      "2021-04-30 00:00:00 231.35394700571948 2.313539470057195\n",
      "2021-06-01 00:00:00 243.89501196979904 2.4389501196979904\n",
      "2021-06-30 00:00:00 244.8577841241531 2.4485778412415313\n",
      "2021-07-30 00:00:00 247.389364933031 2.47389364933031\n",
      "2021-08-31 00:00:00 272.4688849404587 2.7246888494045867\n",
      "2021-09-30 00:00:00 251.13655918773244 2.5113655918773246\n",
      "2021-10-29 00:00:00 275.51557881013355 2.7551557881013355\n",
      "2021-11-30 00:00:00 272.43102306442205 2.7243102306442206\n",
      "2021-12-31 00:00:00 254.98944265501768 2.5498944265501766\n",
      "2022-01-31 00:00:00 228.82345780359728 2.288234578035973\n",
      "2022-02-28 00:00:00 243.0693761922817 2.430693761922817\n",
      "2022-03-31 00:00:00 283.64019035153376 2.8364019035153376\n",
      "2022-04-29 00:00:00 266.6903862906247 2.666903862906247\n",
      "2022-05-31 00:00:00 294.2384030392954 2.942384030392954\n",
      "2022-06-30 00:00:00 229.45109639465588 2.294510963946559\n",
      "2022-07-29 00:00:00 252.34163340827726 2.5234163340827727\n",
      "2022-08-31 00:00:00 255.6613568314184 2.556613568314184\n",
      "2022-09-30 00:00:00 239.86310584983454 2.3986310584983452\n",
      "2022-10-31 00:00:00 273.4377152840199 2.7343771528401986\n",
      "2022-11-30 00:00:00 302.84318052940966 3.0284318052940966\n",
      "2022-12-30 00:00:00 282.80973368882894 2.8280973368882893\n",
      "2023-01-31 00:00:00 289.1566229612378 2.891566229612378\n",
      "2023-02-28 00:00:00 288.68659720017513 2.8868659720017513\n",
      "2023-03-31 00:00:00 301.35889139753726 3.0135889139753727\n",
      "2023-04-28 00:00:00 300.0427528890177 3.000427528890177\n",
      "2023-05-31 00:00:00 350.0420268691117 3.500420268691117\n",
      "2023-06-30 00:00:00 378.70822323704465 3.7870822323704463\n",
      "2023-07-31 00:00:00 434.2857426757479 4.342857426757479\n",
      "2023-08-31 00:00:00 402.94561076005954 4.029456107600596\n",
      "2023-09-29 00:00:00 378.9341844284032 3.7893418442840323\n",
      "2023-10-31 00:00:00 362.7193622878684 3.6271936228786843\n",
      "2023-11-30 00:00:00 410.6860366346674 4.106860366346674\n",
      "2023-12-29 00:00:00 415.64172700476036 4.156417270047603\n",
      "2024-01-31 00:00:00 421.3558729603843 4.213558729603843\n",
      "2024-02-29 00:00:00 477.4802637968802 4.7748026379688016\n",
      "2024-03-28 00:00:00 521.6504352221941 5.216504352221941\n",
      "2024-04-30 00:00:00 487.0505116606008 4.870505116606008\n",
      "2024-05-31 00:00:00 531.7637719230629 5.317637719230629\n",
      "2024-06-28 00:00:00 488.2960775695112 4.882960775695112\n",
      "2024-07-31 00:00:00 435.19975337873245 4.3519975337873245\n",
      "2024-08-30 00:00:00 483.7652205488971 4.837652205488971\n",
      "2024-09-30 00:00:00 505.6970971064071 5.056970971064072\n",
      "2024-10-31 00:00:00 529.5847154597607 5.295847154597607\n",
      "2024-11-29 00:00:00 658.6646218774406 6.586646218774406\n",
      "2024-12-31 00:00:00 625.1055266667377 6.251055266667376\n",
      "2025-01-31 00:00:00 678.5546656423196 6.785546656423196\n",
      "2025-02-12 00:00:00 705.7159050897408 7.057159050897408\n"
     ]
    }
   ],
   "source": [
    "portfolio,tracking=get_portfolios(investment_amount=100,dataframe=dataframe,numbers_of_stocks=10,weight_dict=weight_dict,\n",
    "                                  mrat_weights=mrat_weights,dates_end=dates_end,\n",
    "                                  transaction_fee=0.005)"
   ]
  },
  {
   "cell_type": "code",
   "execution_count": 16,
   "id": "467cabff-e5d8-47cb-a89a-fb5f9766fdd1",
   "metadata": {},
   "outputs": [
    {
     "data": {
      "text/html": [
       "<div>\n",
       "<style scoped>\n",
       "    .dataframe tbody tr th:only-of-type {\n",
       "        vertical-align: middle;\n",
       "    }\n",
       "\n",
       "    .dataframe tbody tr th {\n",
       "        vertical-align: top;\n",
       "    }\n",
       "\n",
       "    .dataframe thead th {\n",
       "        text-align: right;\n",
       "    }\n",
       "</style>\n",
       "<table border=\"1\" class=\"dataframe\">\n",
       "  <thead>\n",
       "    <tr style=\"text-align: right;\">\n",
       "      <th></th>\n",
       "      <th>1</th>\n",
       "    </tr>\n",
       "    <tr>\n",
       "      <th>0</th>\n",
       "      <th></th>\n",
       "    </tr>\n",
       "  </thead>\n",
       "  <tbody>\n",
       "    <tr>\n",
       "      <th>PLTR</th>\n",
       "      <td>0.129521</td>\n",
       "    </tr>\n",
       "    <tr>\n",
       "      <th>UAL</th>\n",
       "      <td>0.104778</td>\n",
       "    </tr>\n",
       "    <tr>\n",
       "      <th>GEV</th>\n",
       "      <td>0.101586</td>\n",
       "    </tr>\n",
       "    <tr>\n",
       "      <th>TPR</th>\n",
       "      <td>0.100501</td>\n",
       "    </tr>\n",
       "    <tr>\n",
       "      <th>VST</th>\n",
       "      <td>0.099216</td>\n",
       "    </tr>\n",
       "    <tr>\n",
       "      <th>AXON</th>\n",
       "      <td>0.097191</td>\n",
       "    </tr>\n",
       "    <tr>\n",
       "      <th>TSLA</th>\n",
       "      <td>0.096586</td>\n",
       "    </tr>\n",
       "    <tr>\n",
       "      <th>TPL</th>\n",
       "      <td>0.091934</td>\n",
       "    </tr>\n",
       "    <tr>\n",
       "      <th>CEG</th>\n",
       "      <td>0.089675</td>\n",
       "    </tr>\n",
       "    <tr>\n",
       "      <th>RCL</th>\n",
       "      <td>0.089011</td>\n",
       "    </tr>\n",
       "    <tr>\n",
       "      <th>NWS</th>\n",
       "      <td>0.000000</td>\n",
       "    </tr>\n",
       "    <tr>\n",
       "      <th>MSCI</th>\n",
       "      <td>0.000000</td>\n",
       "    </tr>\n",
       "    <tr>\n",
       "      <th>NWSA</th>\n",
       "      <td>0.000000</td>\n",
       "    </tr>\n",
       "    <tr>\n",
       "      <th>NEE</th>\n",
       "      <td>0.000000</td>\n",
       "    </tr>\n",
       "    <tr>\n",
       "      <th>NEM</th>\n",
       "      <td>0.000000</td>\n",
       "    </tr>\n",
       "    <tr>\n",
       "      <th>NFLX</th>\n",
       "      <td>0.000000</td>\n",
       "    </tr>\n",
       "    <tr>\n",
       "      <th>NKE</th>\n",
       "      <td>0.000000</td>\n",
       "    </tr>\n",
       "    <tr>\n",
       "      <th>NI</th>\n",
       "      <td>0.000000</td>\n",
       "    </tr>\n",
       "    <tr>\n",
       "      <th>NTAP</th>\n",
       "      <td>0.000000</td>\n",
       "    </tr>\n",
       "    <tr>\n",
       "      <th>NDAQ</th>\n",
       "      <td>0.000000</td>\n",
       "    </tr>\n",
       "  </tbody>\n",
       "</table>\n",
       "</div>"
      ],
      "text/plain": [
       "             1\n",
       "0             \n",
       "PLTR  0.129521\n",
       "UAL   0.104778\n",
       "GEV   0.101586\n",
       "TPR   0.100501\n",
       "VST   0.099216\n",
       "AXON  0.097191\n",
       "TSLA  0.096586\n",
       "TPL   0.091934\n",
       "CEG   0.089675\n",
       "RCL   0.089011\n",
       "NWS   0.000000\n",
       "MSCI  0.000000\n",
       "NWSA  0.000000\n",
       "NEE   0.000000\n",
       "NEM   0.000000\n",
       "NFLX  0.000000\n",
       "NKE   0.000000\n",
       "NI    0.000000\n",
       "NTAP  0.000000\n",
       "NDAQ  0.000000"
      ]
     },
     "execution_count": 16,
     "metadata": {},
     "output_type": "execute_result"
    }
   ],
   "source": [
    "pd.DataFrame(tracking[dates_end[-2]][0].items()).set_index(0).sort_values(by=1,ascending=False).iloc[:20]"
   ]
  },
  {
   "cell_type": "code",
   "execution_count": 17,
   "id": "bc56dc27-8803-420a-ab94-a3e847d96195",
   "metadata": {},
   "outputs": [
    {
     "data": {
      "text/plain": [
       "Timestamp('2025-01-31 00:00:00')"
      ]
     },
     "execution_count": 17,
     "metadata": {},
     "output_type": "execute_result"
    }
   ],
   "source": [
    "dates_end[-3]"
   ]
  },
  {
   "cell_type": "code",
   "execution_count": 18,
   "id": "5032eff9-b6f2-4111-9f76-e0179b0186e2",
   "metadata": {},
   "outputs": [],
   "source": [
    "investment_amount=100\n",
    "shares={}\n",
    "for col in dataframe:\n",
    "    \n",
    "    shares[col]=(weight_dict[col]*investment_amount)/dataframe.iloc[0][col]"
   ]
  },
  {
   "cell_type": "code",
   "execution_count": 19,
   "id": "74b2b4bd-57bf-427b-86ea-05bb6e957a09",
   "metadata": {},
   "outputs": [],
   "source": [
    "equal_weight=shares*dataframe"
   ]
  },
  {
   "cell_type": "code",
   "execution_count": 20,
   "id": "ff9f8bc8-3701-49b4-9364-34237f690f70",
   "metadata": {},
   "outputs": [],
   "source": [
    "pnl=get_pnl(portfolio)\n",
    "pnl['Total']=pnl.sum(axis=1)\n",
    "pnl_pct=pnl.copy()\n",
    "\n",
    "for col in pnl_pct.columns:\n",
    "    pnl_pct[col]/=pnl_pct['Total']\n",
    "    \n",
    "pnl_contrib=pd.DataFrame(pnl_pct.iloc[-1].sort_values(ascending=False))\n",
    "pnl_amount=pd.DataFrame(pnl.iloc[-1].sort_values(ascending=False))\n"
   ]
  },
  {
   "cell_type": "code",
   "execution_count": 21,
   "id": "cb7fada5-4700-4e75-9cf2-2b43af760a6a",
   "metadata": {},
   "outputs": [
    {
     "data": {
      "text/html": [
       "<div>\n",
       "<style scoped>\n",
       "    .dataframe tbody tr th:only-of-type {\n",
       "        vertical-align: middle;\n",
       "    }\n",
       "\n",
       "    .dataframe tbody tr th {\n",
       "        vertical-align: top;\n",
       "    }\n",
       "\n",
       "    .dataframe thead th {\n",
       "        text-align: right;\n",
       "    }\n",
       "</style>\n",
       "<table border=\"1\" class=\"dataframe\">\n",
       "  <thead>\n",
       "    <tr style=\"text-align: right;\">\n",
       "      <th></th>\n",
       "      <th>2025-01-31</th>\n",
       "    </tr>\n",
       "  </thead>\n",
       "  <tbody>\n",
       "    <tr>\n",
       "      <th>Total</th>\n",
       "      <td>1.000000</td>\n",
       "    </tr>\n",
       "    <tr>\n",
       "      <th>PLTR</th>\n",
       "      <td>0.177403</td>\n",
       "    </tr>\n",
       "    <tr>\n",
       "      <th>SMCI</th>\n",
       "      <td>0.104411</td>\n",
       "    </tr>\n",
       "    <tr>\n",
       "      <th>NVDA</th>\n",
       "      <td>0.080767</td>\n",
       "    </tr>\n",
       "    <tr>\n",
       "      <th>VST</th>\n",
       "      <td>0.075462</td>\n",
       "    </tr>\n",
       "    <tr>\n",
       "      <th>...</th>\n",
       "      <td>...</td>\n",
       "    </tr>\n",
       "    <tr>\n",
       "      <th>DLTR</th>\n",
       "      <td>-0.009015</td>\n",
       "    </tr>\n",
       "    <tr>\n",
       "      <th>CCL</th>\n",
       "      <td>-0.011212</td>\n",
       "    </tr>\n",
       "    <tr>\n",
       "      <th>WBD</th>\n",
       "      <td>-0.011987</td>\n",
       "    </tr>\n",
       "    <tr>\n",
       "      <th>MOS</th>\n",
       "      <td>-0.012649</td>\n",
       "    </tr>\n",
       "    <tr>\n",
       "      <th>AMD</th>\n",
       "      <td>-0.018756</td>\n",
       "    </tr>\n",
       "  </tbody>\n",
       "</table>\n",
       "<p>502 rows × 1 columns</p>\n",
       "</div>"
      ],
      "text/plain": [
       "       2025-01-31\n",
       "Total    1.000000\n",
       "PLTR     0.177403\n",
       "SMCI     0.104411\n",
       "NVDA     0.080767\n",
       "VST      0.075462\n",
       "...           ...\n",
       "DLTR    -0.009015\n",
       "CCL     -0.011212\n",
       "WBD     -0.011987\n",
       "MOS     -0.012649\n",
       "AMD     -0.018756\n",
       "\n",
       "[502 rows x 1 columns]"
      ]
     },
     "execution_count": 21,
     "metadata": {},
     "output_type": "execute_result"
    }
   ],
   "source": [
    "pnl_contrib"
   ]
  },
  {
   "cell_type": "code",
   "execution_count": 22,
   "id": "4279c1d2-6981-4fb1-8a0b-a420479526ab",
   "metadata": {},
   "outputs": [],
   "source": [
    "historical_portfolio=pd.DataFrame()\n",
    "performance=pd.DataFrame()\n",
    "for key in portfolio.keys():\n",
    "    historical_portfolio=historical_portfolio.combine_first(portfolio[key])\n",
    "    "
   ]
  },
  {
   "cell_type": "code",
   "execution_count": 23,
   "id": "7021c4af-991b-4923-91e1-f37109d42c33",
   "metadata": {},
   "outputs": [
    {
     "name": "stderr",
     "output_type": "stream",
     "text": [
      "C:\\Users\\Admin\\AppData\\Local\\Temp\\ipykernel_16576\\862557853.py:7: FutureWarning: The default fill_method='pad' in DataFrame.pct_change is deprecated and will be removed in a future version. Either fill in any non-leading NA values prior to calling pct_change or specify 'fill_method=None' to not fill NA values.\n",
      "  performance_pct=performance_pct.pct_change()\n"
     ]
    },
    {
     "data": {
      "text/plain": [
       "<Axes: >"
      ]
     },
     "execution_count": 23,
     "metadata": {},
     "output_type": "execute_result"
    },
    {
     "data": {
      "image/png": "[encoded data removed]",
      "text/plain": [
       "<Figure size 640x480 with 1 Axes>"
      ]
     },
     "metadata": {},
     "output_type": "display_data"
    }
   ],
   "source": [
    "performance['Fund']=historical_portfolio.sum(axis=1)\n",
    "performance['SP500']=sp500\n",
    "performance['Equal Weight']=equal_weight.sum(axis=1)\n",
    "performance['SP500 Leverage']=sp500_leverage\n",
    "\n",
    "performance_pct=performance.copy()\n",
    "performance_pct=performance_pct.pct_change()\n",
    "\n",
    "(1+performance_pct.iloc[:-2]).cumprod().plot()"
   ]
  },
  {
   "cell_type": "code",
   "execution_count": 24,
   "id": "b32c8107-e5f9-43d7-93de-7538f9555be9",
   "metadata": {},
   "outputs": [],
   "source": [
    "years=sorted(list(set(performance.index.year)))"
   ]
  },
  {
   "cell_type": "code",
   "execution_count": 25,
   "id": "580f70df-adc2-4ffd-b7fc-16afacc3e419",
   "metadata": {},
   "outputs": [],
   "source": [
    "month_year=performance.index.strftime('%Y-%m')\n",
    "month_year=sorted(list(set(month_year)))"
   ]
  },
  {
   "cell_type": "code",
   "execution_count": 26,
   "id": "1b29c7ce-687a-4d74-bb6c-40fd95add83b",
   "metadata": {},
   "outputs": [
    {
     "data": {
      "text/plain": [
       "<Axes: >"
      ]
     },
     "execution_count": 26,
     "metadata": {},
     "output_type": "execute_result"
    },
    {
     "data": {
      "image/png": "[encoded data removed]",
      "text/plain": [
       "<Figure size 640x480 with 1 Axes>"
      ]
     },
     "metadata": {},
     "output_type": "display_data"
    }
   ],
   "source": [
    "(1+performance_pct.loc[str(2025)].iloc[:-1]).cumprod().plot()"
   ]
  },
  {
   "cell_type": "code",
   "execution_count": 27,
   "id": "e723a2cd-b704-432e-8308-46bad6a4e7bc",
   "metadata": {},
   "outputs": [],
   "source": [
    "year_returns={}\n",
    "year_returns[years[0]]=performance.loc[str(years[0])].iloc[-1]/performance.loc[str(years[0])].iloc[0]-1\n",
    "for i in range(len(years)-1):\n",
    "\n",
    "    perf_year=performance.loc[str(years[i+1])].iloc[-1]/performance.loc[str(years[i])].iloc[-1]-1\n",
    "    year_returns[years[i+1]]=perf_year\n",
    "\n",
    "year_returns[years[-1]]=performance.loc[str(years[-1])].iloc[-2]/performance.loc[str(years[-2])].iloc[-1]-1"
   ]
  },
  {
   "cell_type": "code",
   "execution_count": 28,
   "id": "9f9abad5-5b46-4824-a0b2-9bff11182cf2",
   "metadata": {},
   "outputs": [
    {
     "data": {
      "text/html": [
       "<div>\n",
       "<style scoped>\n",
       "    .dataframe tbody tr th:only-of-type {\n",
       "        vertical-align: middle;\n",
       "    }\n",
       "\n",
       "    .dataframe tbody tr th {\n",
       "        vertical-align: top;\n",
       "    }\n",
       "\n",
       "    .dataframe thead th {\n",
       "        text-align: right;\n",
       "    }\n",
       "</style>\n",
       "<table border=\"1\" class=\"dataframe\">\n",
       "  <thead>\n",
       "    <tr style=\"text-align: right;\">\n",
       "      <th></th>\n",
       "      <th>2019</th>\n",
       "      <th>2020</th>\n",
       "      <th>2021</th>\n",
       "      <th>2022</th>\n",
       "      <th>2023</th>\n",
       "      <th>2024</th>\n",
       "      <th>2025</th>\n",
       "    </tr>\n",
       "  </thead>\n",
       "  <tbody>\n",
       "    <tr>\n",
       "      <th>Fund</th>\n",
       "      <td>0.125418</td>\n",
       "      <td>0.862880</td>\n",
       "      <td>0.249805</td>\n",
       "      <td>0.109104</td>\n",
       "      <td>0.469687</td>\n",
       "      <td>0.503953</td>\n",
       "      <td>0.140601</td>\n",
       "    </tr>\n",
       "    <tr>\n",
       "      <th>SP500</th>\n",
       "      <td>0.128370</td>\n",
       "      <td>0.183316</td>\n",
       "      <td>0.287287</td>\n",
       "      <td>-0.181754</td>\n",
       "      <td>0.261758</td>\n",
       "      <td>0.248865</td>\n",
       "      <td>0.040353</td>\n",
       "    </tr>\n",
       "    <tr>\n",
       "      <th>Equal Weight</th>\n",
       "      <td>0.125418</td>\n",
       "      <td>0.210253</td>\n",
       "      <td>0.324520</td>\n",
       "      <td>-0.131281</td>\n",
       "      <td>0.210189</td>\n",
       "      <td>0.180202</td>\n",
       "      <td>0.041569</td>\n",
       "    </tr>\n",
       "    <tr>\n",
       "      <th>SP500 Leverage</th>\n",
       "      <td>0.232929</td>\n",
       "      <td>0.209603</td>\n",
       "      <td>0.630291</td>\n",
       "      <td>-0.390880</td>\n",
       "      <td>0.488736</td>\n",
       "      <td>0.456542</td>\n",
       "      <td>0.045990</td>\n",
       "    </tr>\n",
       "  </tbody>\n",
       "</table>\n",
       "</div>"
      ],
      "text/plain": [
       "                    2019      2020      2021      2022      2023      2024  \\\n",
       "Fund            0.125418  0.862880  0.249805  0.109104  0.469687  0.503953   \n",
       "SP500           0.128370  0.183316  0.287287 -0.181754  0.261758  0.248865   \n",
       "Equal Weight    0.125418  0.210253  0.324520 -0.131281  0.210189  0.180202   \n",
       "SP500 Leverage  0.232929  0.209603  0.630291 -0.390880  0.488736  0.456542   \n",
       "\n",
       "                    2025  \n",
       "Fund            0.140601  \n",
       "SP500           0.040353  \n",
       "Equal Weight    0.041569  \n",
       "SP500 Leverage  0.045990  "
      ]
     },
     "execution_count": 28,
     "metadata": {},
     "output_type": "execute_result"
    }
   ],
   "source": [
    "year_returns_dataframe=pd.DataFrame(year_returns)\n",
    "year_returns_dataframe"
   ]
  },
  {
   "cell_type": "code",
   "execution_count": 29,
   "id": "603625b8-6bec-4a92-9294-263f6a9935ad",
   "metadata": {},
   "outputs": [],
   "source": [
    "month_returns={}\n",
    "month_returns[month_year[0]]=performance.loc[str(month_year[0])].iloc[-1]/performance.loc[str(month_year[0])].iloc[0]-1\n",
    "for i in range(len(month_year)-1):\n",
    "\n",
    "    perf_year=performance.loc[str(month_year[i+1])].iloc[-1]/performance.loc[str(month_year[i])].iloc[-1]-1\n",
    "    month_returns[month_year[i+1]]=perf_year\n",
    "\n",
    "month_returns[month_year[-1]]=performance.loc[str(month_year[-1])].iloc[-2]/performance.loc[str(month_year[-2])].iloc[-1]-1"
   ]
  },
  {
   "cell_type": "code",
   "execution_count": 30,
   "id": "6bfe2c5b-7805-48f9-a51d-2006506166cd",
   "metadata": {},
   "outputs": [
    {
     "data": {
      "text/html": [
       "<div>\n",
       "<style scoped>\n",
       "    .dataframe tbody tr th:only-of-type {\n",
       "        vertical-align: middle;\n",
       "    }\n",
       "\n",
       "    .dataframe tbody tr th {\n",
       "        vertical-align: top;\n",
       "    }\n",
       "\n",
       "    .dataframe thead th {\n",
       "        text-align: right;\n",
       "    }\n",
       "</style>\n",
       "<table border=\"1\" class=\"dataframe\">\n",
       "  <thead>\n",
       "    <tr style=\"text-align: right;\">\n",
       "      <th></th>\n",
       "      <th>2019-06</th>\n",
       "      <th>2019-07</th>\n",
       "      <th>2019-08</th>\n",
       "      <th>2019-09</th>\n",
       "      <th>2019-10</th>\n",
       "      <th>2019-11</th>\n",
       "      <th>2019-12</th>\n",
       "      <th>2020-01</th>\n",
       "      <th>2020-02</th>\n",
       "      <th>2020-03</th>\n",
       "      <th>...</th>\n",
       "      <th>2024-05</th>\n",
       "      <th>2024-06</th>\n",
       "      <th>2024-07</th>\n",
       "      <th>2024-08</th>\n",
       "      <th>2024-09</th>\n",
       "      <th>2024-10</th>\n",
       "      <th>2024-11</th>\n",
       "      <th>2024-12</th>\n",
       "      <th>2025-01</th>\n",
       "      <th>2025-02</th>\n",
       "    </tr>\n",
       "  </thead>\n",
       "  <tbody>\n",
       "    <tr>\n",
       "      <th>Fund</th>\n",
       "      <td>0.023039</td>\n",
       "      <td>0.014254</td>\n",
       "      <td>-0.018219</td>\n",
       "      <td>0.020776</td>\n",
       "      <td>0.014085</td>\n",
       "      <td>0.038496</td>\n",
       "      <td>0.027663</td>\n",
       "      <td>-0.003204</td>\n",
       "      <td>-0.080935</td>\n",
       "      <td>-0.163425</td>\n",
       "      <td>...</td>\n",
       "      <td>0.091804</td>\n",
       "      <td>-0.081742</td>\n",
       "      <td>-0.108738</td>\n",
       "      <td>0.111594</td>\n",
       "      <td>0.045336</td>\n",
       "      <td>0.047237</td>\n",
       "      <td>0.243738</td>\n",
       "      <td>-0.050950</td>\n",
       "      <td>0.085504</td>\n",
       "      <td>0.050757</td>\n",
       "    </tr>\n",
       "    <tr>\n",
       "      <th>SP500</th>\n",
       "      <td>0.017469</td>\n",
       "      <td>0.015119</td>\n",
       "      <td>-0.016743</td>\n",
       "      <td>0.019458</td>\n",
       "      <td>0.022104</td>\n",
       "      <td>0.036199</td>\n",
       "      <td>0.029055</td>\n",
       "      <td>-0.000404</td>\n",
       "      <td>-0.079166</td>\n",
       "      <td>-0.124871</td>\n",
       "      <td>...</td>\n",
       "      <td>0.050580</td>\n",
       "      <td>0.035280</td>\n",
       "      <td>0.012109</td>\n",
       "      <td>0.023366</td>\n",
       "      <td>0.021005</td>\n",
       "      <td>-0.008924</td>\n",
       "      <td>0.059633</td>\n",
       "      <td>-0.024060</td>\n",
       "      <td>0.026856</td>\n",
       "      <td>0.013143</td>\n",
       "    </tr>\n",
       "    <tr>\n",
       "      <th>Equal Weight</th>\n",
       "      <td>0.023039</td>\n",
       "      <td>0.014254</td>\n",
       "      <td>-0.018219</td>\n",
       "      <td>0.020776</td>\n",
       "      <td>0.014085</td>\n",
       "      <td>0.038496</td>\n",
       "      <td>0.027663</td>\n",
       "      <td>-0.003204</td>\n",
       "      <td>-0.080935</td>\n",
       "      <td>-0.163425</td>\n",
       "      <td>...</td>\n",
       "      <td>0.034706</td>\n",
       "      <td>0.006462</td>\n",
       "      <td>0.025133</td>\n",
       "      <td>0.008767</td>\n",
       "      <td>0.021971</td>\n",
       "      <td>-0.020499</td>\n",
       "      <td>0.074462</td>\n",
       "      <td>-0.062323</td>\n",
       "      <td>0.033744</td>\n",
       "      <td>0.007569</td>\n",
       "    </tr>\n",
       "    <tr>\n",
       "      <th>SP500 Leverage</th>\n",
       "      <td>0.026310</td>\n",
       "      <td>0.055038</td>\n",
       "      <td>-0.066508</td>\n",
       "      <td>0.042734</td>\n",
       "      <td>0.032491</td>\n",
       "      <td>0.079948</td>\n",
       "      <td>0.049103</td>\n",
       "      <td>0.007700</td>\n",
       "      <td>-0.194302</td>\n",
       "      <td>-0.237840</td>\n",
       "      <td>...</td>\n",
       "      <td>0.045579</td>\n",
       "      <td>0.111924</td>\n",
       "      <td>0.004436</td>\n",
       "      <td>0.018661</td>\n",
       "      <td>0.044609</td>\n",
       "      <td>-0.006738</td>\n",
       "      <td>0.105126</td>\n",
       "      <td>-0.037400</td>\n",
       "      <td>0.056020</td>\n",
       "      <td>-0.009498</td>\n",
       "    </tr>\n",
       "  </tbody>\n",
       "</table>\n",
       "<p>4 rows × 69 columns</p>\n",
       "</div>"
      ],
      "text/plain": [
       "                 2019-06   2019-07   2019-08   2019-09   2019-10   2019-11  \\\n",
       "Fund            0.023039  0.014254 -0.018219  0.020776  0.014085  0.038496   \n",
       "SP500           0.017469  0.015119 -0.016743  0.019458  0.022104  0.036199   \n",
       "Equal Weight    0.023039  0.014254 -0.018219  0.020776  0.014085  0.038496   \n",
       "SP500 Leverage  0.026310  0.055038 -0.066508  0.042734  0.032491  0.079948   \n",
       "\n",
       "                 2019-12   2020-01   2020-02   2020-03  ...   2024-05  \\\n",
       "Fund            0.027663 -0.003204 -0.080935 -0.163425  ...  0.091804   \n",
       "SP500           0.029055 -0.000404 -0.079166 -0.124871  ...  0.050580   \n",
       "Equal Weight    0.027663 -0.003204 -0.080935 -0.163425  ...  0.034706   \n",
       "SP500 Leverage  0.049103  0.007700 -0.194302 -0.237840  ...  0.045579   \n",
       "\n",
       "                 2024-06   2024-07   2024-08   2024-09   2024-10   2024-11  \\\n",
       "Fund           -0.081742 -0.108738  0.111594  0.045336  0.047237  0.243738   \n",
       "SP500           0.035280  0.012109  0.023366  0.021005 -0.008924  0.059633   \n",
       "Equal Weight    0.006462  0.025133  0.008767  0.021971 -0.020499  0.074462   \n",
       "SP500 Leverage  0.111924  0.004436  0.018661  0.044609 -0.006738  0.105126   \n",
       "\n",
       "                 2024-12   2025-01   2025-02  \n",
       "Fund           -0.050950  0.085504  0.050757  \n",
       "SP500          -0.024060  0.026856  0.013143  \n",
       "Equal Weight   -0.062323  0.033744  0.007569  \n",
       "SP500 Leverage -0.037400  0.056020 -0.009498  \n",
       "\n",
       "[4 rows x 69 columns]"
      ]
     },
     "execution_count": 30,
     "metadata": {},
     "output_type": "execute_result"
    }
   ],
   "source": [
    "month_returns_dataframe=pd.DataFrame(month_returns)\n",
    "month_returns_dataframe"
   ]
  },
  {
   "cell_type": "code",
   "execution_count": 31,
   "id": "5cbd406c-cf53-4d19-9699-0ec3334eb86d",
   "metadata": {},
   "outputs": [],
   "source": [
    "metrics={}\n",
    "metrics['Tracking Error']=(performance_pct['Fund']-performance_pct['SP500']).std()*np.sqrt(252)\n",
    "metrics['Fund Vol']=performance_pct['Fund'].std()*np.sqrt(252)\n",
    "metrics['Bench Vol']=performance_pct['SP500'].std()*np.sqrt(252)\n",
    "metrics['Fund Return']=performance['Fund'].iloc[-2]/performance['Fund'].iloc[0]\n",
    "metrics['Bench Return']=performance['SP500'].iloc[-2]/performance['SP500'].iloc[0]\n",
    "metrics['Sharpe Ratio']=(1+metrics['Fund Return'])**(1/len(set(dataframe.index.year)))/metrics['Fund Vol']"
   ]
  },
  {
   "cell_type": "code",
   "execution_count": 32,
   "id": "3bed2069-e9ed-4b27-8247-5e61cc17bd05",
   "metadata": {},
   "outputs": [
    {
     "data": {
      "text/html": [
       "<div>\n",
       "<style scoped>\n",
       "    .dataframe tbody tr th:only-of-type {\n",
       "        vertical-align: middle;\n",
       "    }\n",
       "\n",
       "    .dataframe tbody tr th {\n",
       "        vertical-align: top;\n",
       "    }\n",
       "\n",
       "    .dataframe thead th {\n",
       "        text-align: right;\n",
       "    }\n",
       "</style>\n",
       "<table border=\"1\" class=\"dataframe\">\n",
       "  <thead>\n",
       "    <tr style=\"text-align: right;\">\n",
       "      <th></th>\n",
       "      <th>Indicators</th>\n",
       "    </tr>\n",
       "  </thead>\n",
       "  <tbody>\n",
       "    <tr>\n",
       "      <th>Tracking Error</th>\n",
       "      <td>0.491664</td>\n",
       "    </tr>\n",
       "    <tr>\n",
       "      <th>Fund Vol</th>\n",
       "      <td>0.538547</td>\n",
       "    </tr>\n",
       "    <tr>\n",
       "      <th>Bench Vol</th>\n",
       "      <td>0.202477</td>\n",
       "    </tr>\n",
       "    <tr>\n",
       "      <th>Fund Return</th>\n",
       "      <td>7.326651</td>\n",
       "    </tr>\n",
       "    <tr>\n",
       "      <th>Bench Return</th>\n",
       "      <td>2.305601</td>\n",
       "    </tr>\n",
       "    <tr>\n",
       "      <th>Sharpe Ratio</th>\n",
       "      <td>2.513461</td>\n",
       "    </tr>\n",
       "  </tbody>\n",
       "</table>\n",
       "</div>"
      ],
      "text/plain": [
       "                Indicators\n",
       "Tracking Error    0.491664\n",
       "Fund Vol          0.538547\n",
       "Bench Vol         0.202477\n",
       "Fund Return       7.326651\n",
       "Bench Return      2.305601\n",
       "Sharpe Ratio      2.513461"
      ]
     },
     "execution_count": 32,
     "metadata": {},
     "output_type": "execute_result"
    }
   ],
   "source": [
    "indicators=pd.DataFrame(metrics.values(),index=metrics.keys(),columns=['Indicators'])\n",
    "indicators"
   ]
  },
  {
   "cell_type": "code",
   "execution_count": 33,
   "id": "1f4c976b-bb2d-4bd3-8110-e426c9425a8e",
   "metadata": {},
   "outputs": [],
   "source": [
    "metrics={}\n",
    "metrics['Tracking Error']=(performance_pct['Fund']-performance_pct['SP500 Leverage']).std()*np.sqrt(252)\n",
    "metrics['Fund Vol']=performance_pct['Fund'].std()*np.sqrt(252)\n",
    "metrics['Bench Vol']=performance_pct['SP500 Leverage'].std()*np.sqrt(252)\n",
    "metrics['Fund Return']=performance['Fund'].iloc[-2]/performance['Fund'].iloc[0]\n",
    "metrics['Bench Return']=performance['SP500 Leverage'].iloc[-2]/performance['SP500 Leverage'].iloc[0]\n",
    "metrics['Sharpe Ratio']=(1+metrics['Fund Return'])**(1/len(set(dataframe.index.year)))/metrics['Fund Vol']"
   ]
  },
  {
   "cell_type": "code",
   "execution_count": 34,
   "id": "500ee9bd-25d4-4360-8d39-ca4993e8c73f",
   "metadata": {
    "jp-MarkdownHeadingCollapsed": true
   },
   "outputs": [
    {
     "data": {
      "text/html": [
       "<div>\n",
       "<style scoped>\n",
       "    .dataframe tbody tr th:only-of-type {\n",
       "        vertical-align: middle;\n",
       "    }\n",
       "\n",
       "    .dataframe tbody tr th {\n",
       "        vertical-align: top;\n",
       "    }\n",
       "\n",
       "    .dataframe thead th {\n",
       "        text-align: right;\n",
       "    }\n",
       "</style>\n",
       "<table border=\"1\" class=\"dataframe\">\n",
       "  <thead>\n",
       "    <tr style=\"text-align: right;\">\n",
       "      <th></th>\n",
       "      <th>Indicators</th>\n",
       "    </tr>\n",
       "  </thead>\n",
       "  <tbody>\n",
       "    <tr>\n",
       "      <th>Tracking Error</th>\n",
       "      <td>0.558620</td>\n",
       "    </tr>\n",
       "    <tr>\n",
       "      <th>Fund Vol</th>\n",
       "      <td>0.538547</td>\n",
       "    </tr>\n",
       "    <tr>\n",
       "      <th>Bench Vol</th>\n",
       "      <td>0.362319</td>\n",
       "    </tr>\n",
       "    <tr>\n",
       "      <th>Fund Return</th>\n",
       "      <td>7.326651</td>\n",
       "    </tr>\n",
       "    <tr>\n",
       "      <th>Bench Return</th>\n",
       "      <td>3.359056</td>\n",
       "    </tr>\n",
       "    <tr>\n",
       "      <th>Sharpe Ratio</th>\n",
       "      <td>2.513461</td>\n",
       "    </tr>\n",
       "  </tbody>\n",
       "</table>\n",
       "</div>"
      ],
      "text/plain": [
       "                Indicators\n",
       "Tracking Error    0.558620\n",
       "Fund Vol          0.538547\n",
       "Bench Vol         0.362319\n",
       "Fund Return       7.326651\n",
       "Bench Return      3.359056\n",
       "Sharpe Ratio      2.513461"
      ]
     },
     "execution_count": 34,
     "metadata": {},
     "output_type": "execute_result"
    }
   ],
   "source": [
    "indicators=pd.DataFrame(metrics.values(),index=metrics.keys(),columns=['Indicators'])\n",
    "indicators"
   ]
  },
  {
   "cell_type": "code",
   "execution_count": 35,
   "id": "9828b812-f5e5-48ed-8891-4e8feb5caead",
   "metadata": {},
   "outputs": [],
   "source": [
    "shares=pd.DataFrame()\n",
    "for date in dates_end[:-1]:\n",
    "    shares[date]=tracking[date][1]\n",
    "shares=shares.T"
   ]
  },
  {
   "cell_type": "code",
   "execution_count": 36,
   "id": "1fc3aa21-ca73-49cd-af07-2dae0eb6ff1c",
   "metadata": {
    "jp-MarkdownHeadingCollapsed": true
   },
   "outputs": [],
   "source": [
    "positions=pd.DataFrame()\n",
    "positions.index=dataframe.index\n",
    "positions=pd.concat([positions,shares],axis=1)\n",
    "positions=positions.ffill()"
   ]
  },
  {
   "cell_type": "code",
   "execution_count": 37,
   "id": "59543b48-5b51-464e-be58-8b94fe3281fe",
   "metadata": {
    "jp-MarkdownHeadingCollapsed": true
   },
   "outputs": [],
   "source": [
    "#dataframe.iloc[:-1].to_excel('SP500 Prices.xlsx')\n",
    "#positions[:-1].to_excel('Rebalancing.xlsx')"
   ]
  },
  {
   "cell_type": "code",
   "execution_count": null,
   "id": "f7dd993d-0d01-411e-ab5d-f7c3c807153c",
   "metadata": {},
   "outputs": [],
   "source": []
  },
  {
   "cell_type": "code",
   "execution_count": null,
   "id": "8c3e0f48-0ca2-4b89-bbfa-bf563161464c",
   "metadata": {},
   "outputs": [],
   "source": []
  }
 ],
 "metadata": {
  "kernelspec": {
   "display_name": "Python [conda env:base] *",
   "language": "python",
   "name": "conda-base-py"
  },
  "language_info": {
   "codemirror_mode": {
    "name": "ipython",
    "version": 3
   },
   "file_extension": ".py",
   "mimetype": "text/x-python",
   "name": "python",
   "nbconvert_exporter": "python",
   "pygments_lexer": "ipython3",
   "version": "3.12.7"
  }
 },
 "nbformat": 4,
 "nbformat_minor": 5
}
