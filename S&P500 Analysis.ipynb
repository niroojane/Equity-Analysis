{
 "cells": [
  {
   "cell_type": "code",
   "execution_count": 1,
   "id": "79090802-ffca-403b-97ed-7806ca2eff9f",
   "metadata": {},
   "outputs": [],
   "source": [
    "import pandas as pd\n",
    "import numpy as np\n",
    "import yfinance as yf\n",
    "from bs4 import BeautifulSoup\n",
    "from urllib.request import urlopen\n",
    "import datetime"
   ]
  },
  {
   "cell_type": "markdown",
   "id": "d9c52a49-155c-413e-9ab9-cf5a30b1f649",
   "metadata": {},
   "source": [
    "# Functions"
   ]
  },
  {
   "cell_type": "code",
   "execution_count": 3,
   "id": "a84ebbb3-d4e1-453e-9e10-18b40df1334a",
   "metadata": {},
   "outputs": [],
   "source": [
    "def get_close(tickers,\n",
    "              start=datetime.date(datetime.date.today().year - 1, \n",
    "                datetime.date.today().month, \n",
    "                datetime.date.today().day)\n",
    "                ,end=datetime.date.today()):\n",
    "    \n",
    "    data=pd.DataFrame()\n",
    "    for ticker in tickers:\n",
    "\n",
    "        try:\n",
    "\n",
    "            yahoo_data=yf.Ticker(ticker)\n",
    "            stock_price=yahoo_data.history(start=start,end=end,interval='1d').reset_index()\n",
    "            stock_price['Date']=stock_price['Date'].dt.tz_localize(None)\n",
    "            stock_price=stock_price.set_index('Date')\n",
    "            stock_price[ticker]=stock_price['Close']+stock_price['Dividends'].shift(periods=-1)\n",
    "            data=pd.concat([data,stock_price[ticker]],axis=1)\n",
    "\n",
    "        except Exception as e:\n",
    "            pass\n",
    "        \n",
    "    return data"
   ]
  },
  {
   "cell_type": "code",
   "execution_count": 4,
   "id": "0a3e54c5-851c-4e1e-9f73-d74c5ec41430",
   "metadata": {},
   "outputs": [],
   "source": [
    "def get_mrat(dataframe,numerator=21,denominator=200):\n",
    "\n",
    "    mrat=(dataframe.rolling(numerator).mean()/dataframe.rolling(denominator).mean())\n",
    "    mrat_wo_na=mrat.dropna(how='all')\n",
    "\n",
    "    month=list(sorted(set(mrat_wo_na.index + pd.offsets.BMonthEnd(0))))\n",
    "    #month_end=pd.to_datetime(mrat_wo_na.index)\n",
    "    month = pd.to_datetime(month)\n",
    "\n",
    "    idx1 = pd.Index(mrat_wo_na.iloc[:-1].index)\n",
    "    idx2 = pd.Index(month)\n",
    "    closest_dates = idx1[idx1.get_indexer(idx2, method='nearest')]\n",
    "\n",
    "\n",
    "    mrat_weights=mrat_wo_na.loc[closest_dates].copy().fillna(0)\n",
    "    \n",
    "    mrat_weights['Total']=mrat_weights.sum(axis=1)\n",
    "\n",
    "    for col in mrat_weights.columns:\n",
    "        mrat_weights[col]=mrat_weights[col]/mrat_weights['Total']\n",
    "\n",
    "    mrat_weights=mrat_weights.drop(columns='Total')\n",
    "    mrat_weights_dict=mrat_weights.transpose().to_dict()\n",
    "\n",
    "    dates_end=list(mrat_weights.index)\n",
    "    dates_end.insert(0,dataframe.index[0])\n",
    "    dates_end.append(dataframe.index[-1])\n",
    "    dates_end=list(set(dates_end))\n",
    "    \n",
    "    return mrat_weights,sorted(dates_end)"
   ]
  },
  {
   "cell_type": "code",
   "execution_count": 5,
   "id": "2b71c017-9714-4868-ab40-38722b97f4ff",
   "metadata": {},
   "outputs": [],
   "source": [
    "def get_portfolios(mrat_weights,dates_end,dataframe,weight_dict,\n",
    "                   numbers_of_stocks=50,\n",
    "                   investment_amount=10000,\n",
    "                   transaction_fee=0.005):\n",
    "    tracking={}\n",
    "    portfolio={}\n",
    "    initial_amount=investment_amount\n",
    "    perf=dataframe.pct_change()\n",
    "    \n",
    "    for i in range(len(dates_end)-1):\n",
    "        \n",
    "        print(dates_end[i],investment_amount,investment_amount/initial_amount)\n",
    "\n",
    "        \n",
    "        temp=dataframe.loc[dates_end[i]:dates_end[i+1]].copy()\n",
    "        initial_price=temp.iloc[0].to_dict()\n",
    "\n",
    "        if dates_end[i]>dates_end[0]:\n",
    "\n",
    "            top50=mrat_weights.loc[dates_end[i]].sort_values(ascending=False)[:numbers_of_stocks]\n",
    "            top_50_rebased=top50/top50.sum()\n",
    "            top_50_dict=top_50_rebased.to_dict()\n",
    "\n",
    "            weight_dict={}\n",
    "\n",
    "            for key in temp.columns:\n",
    "\n",
    "                if key in top_50_dict: \n",
    "                    weight_dict[key]=top_50_dict[key]\n",
    "                else:\n",
    "                    weight_dict[key]=0\n",
    "                    \n",
    "                    \n",
    "        weight_vec=np.array(list(weight_dict.values()))\n",
    "        \n",
    "        inital_investment_per_stock={}\n",
    "        shares={}\n",
    "\n",
    "        for col in temp.columns:\n",
    "            \n",
    "            weighted_perf=weight_vec*perf.loc[dates_end[i]]\n",
    "            \n",
    "            inital_investment_per_stock[col]=weight_dict[col]*investment_amount*(1+weighted_perf.sum())\n",
    "            shares[col]=inital_investment_per_stock[col]*(1-transaction_fee)/initial_price[col]\n",
    "\n",
    "        tracking[dates_end[i]]=(weight_dict,shares,investment_amount,initial_price)\n",
    "\n",
    "        temp=temp*shares    \n",
    "        portfolio[dates_end[i]]=temp\n",
    "        investment_amount=temp.iloc[-1].sum()\n",
    "        \n",
    "    \n",
    "    temp=dataframe.loc[dates_end[-2]:]*shares\n",
    "    portfolio[dates_end[-1]]=temp\n",
    "        \n",
    "\n",
    "    return portfolio,tracking\n"
   ]
  },
  {
   "cell_type": "code",
   "execution_count": 6,
   "id": "89a23da5-27a4-4582-bb64-694ec0b85373",
   "metadata": {},
   "outputs": [],
   "source": [
    "def get_pnl(portfolios):\n",
    "\n",
    "    pnl={}\n",
    "\n",
    "    keys=list(portfolio.keys())\n",
    "    for i in range(len(keys)):\n",
    "\n",
    "        if i>0:\n",
    "            pnl[keys[i]]=portfolio[keys[i]].iloc[-1]-portfolio[keys[i]].iloc[0]\n",
    "\n",
    "        else:\n",
    "            \n",
    "            pnl[keys[0]]=portfolio[keys[0]].iloc[-1]-portfolio[keys[0]].iloc[0]\n",
    "    \n",
    "    pnl_dataframe=pd.DataFrame(pnl).cumsum(axis=1).T\n",
    "    \n",
    "    return pnl_dataframe.iloc[:-2]"
   ]
  },
  {
   "cell_type": "markdown",
   "id": "8d657643-32a6-4c75-89db-8cecc305dc24",
   "metadata": {},
   "source": [
    "# Dataset"
   ]
  },
  {
   "cell_type": "code",
   "execution_count": 8,
   "id": "efdda77a-cdee-4582-9c38-f6ea6b5b65a9",
   "metadata": {},
   "outputs": [
    {
     "name": "stderr",
     "output_type": "stream",
     "text": [
      "$BRK.B: possibly delisted; no timezone found\n",
      "$BF.B: possibly delisted; no price data found  (1d 2019-06-15 -> 2025-01-28)\n"
     ]
    }
   ],
   "source": [
    "url = \"https://en.wikipedia.org/wiki/List_of_S%26P_500_companies\"\n",
    "table = pd.read_html(url)\n",
    "df = table[0]\n",
    "tickers=df['Symbol'].tolist()\n",
    "\n",
    "end_date = datetime.datetime.now().strftime(\"%Y-%m-%d\")\n",
    "start_date = (datetime.datetime(2019,6,15)).strftime(\"%Y-%m-%d\")\n",
    "#analysis_start_date = (datetime.datetime.now() - datetime.timedelta(days=365*4)).strftime(\"%Y-%m-%d\")\n",
    "\n",
    "dataframe=get_close(tickers,start=start_date,end=end_date)\n",
    "dataframe.index=pd.to_datetime(dataframe.index)"
   ]
  },
  {
   "cell_type": "code",
   "execution_count": 9,
   "id": "301a4723-9eb9-4ffb-85a7-b61e77df2742",
   "metadata": {},
   "outputs": [],
   "source": [
    "sp500=get_close(['SPY'],start=start_date,end=end_date)"
   ]
  },
  {
   "cell_type": "markdown",
   "id": "58148b06-f5c9-4fca-b9fc-22a9350d1f41",
   "metadata": {},
   "source": [
    "# Analysis"
   ]
  },
  {
   "cell_type": "code",
   "execution_count": 11,
   "id": "10ba922f-a140-40e7-9425-ff817e68d25c",
   "metadata": {},
   "outputs": [],
   "source": [
    "weight_dict={col: 1/dataframe.shape[1] for col in dataframe.columns}\n",
    "mrat_weights,dates_end=get_mrat(dataframe,numerator=21,denominator=200)"
   ]
  },
  {
   "cell_type": "code",
   "execution_count": 12,
   "id": "51e9284a-0423-4480-bb35-dfe392b76cc5",
   "metadata": {},
   "outputs": [
    {
     "name": "stderr",
     "output_type": "stream",
     "text": [
      "C:\\Users\\Admin\\AppData\\Local\\Temp\\ipykernel_13448\\1089267729.py:8: FutureWarning: The default fill_method='pad' in DataFrame.pct_change is deprecated and will be removed in a future version. Either fill in any non-leading NA values prior to calling pct_change or specify 'fill_method=None' to not fill NA values.\n",
      "  perf=dataframe.pct_change()\n"
     ]
    },
    {
     "name": "stdout",
     "output_type": "stream",
     "text": [
      "2019-06-17 00:00:00 100 1.0\n",
      "2020-03-31 00:00:00 83.91852183457718 0.8391852183457718\n",
      "2020-04-30 00:00:00 97.8311385951013 0.978311385951013\n",
      "2020-05-29 00:00:00 105.47637040521208 1.0547637040521207\n",
      "2020-06-30 00:00:00 112.43633076413805 1.1243633076413806\n",
      "2020-07-31 00:00:00 127.50823794704364 1.2750823794704365\n",
      "2020-08-31 00:00:00 140.9439219308409 1.409439219308409\n",
      "2020-09-30 00:00:00 138.9963042986841 1.389963042986841\n",
      "2020-10-30 00:00:00 134.86418889565613 1.3486418889565612\n",
      "2020-11-30 00:00:00 161.39730621250362 1.6139730621250363\n",
      "2020-12-31 00:00:00 173.8571854019327 1.738571854019327\n",
      "2021-01-29 00:00:00 178.8550080529661 1.788550080529661\n",
      "2021-02-26 00:00:00 194.93839212085066 1.9493839212085067\n",
      "2021-03-31 00:00:00 195.09098377504552 1.9509098377504552\n",
      "2021-04-30 00:00:00 201.55953544940837 2.0155953544940837\n",
      "2021-06-01 00:00:00 209.86581928803454 2.0986581928803454\n",
      "2021-06-30 00:00:00 207.967491471009 2.07967491471009\n",
      "2021-07-30 00:00:00 208.3263242679966 2.083263242679966\n",
      "2021-08-31 00:00:00 220.65152244994462 2.206515224499446\n",
      "2021-09-30 00:00:00 204.0427251789949 2.040427251789949\n",
      "2021-10-29 00:00:00 224.04588594244998 2.2404588594245\n",
      "2021-11-30 00:00:00 217.49578824133016 2.1749578824133016\n",
      "2021-12-31 00:00:00 208.88212650293536 2.088821265029354\n",
      "2022-01-31 00:00:00 186.12150655405446 1.8612150655405446\n",
      "2022-02-28 00:00:00 195.8049593386998 1.9580495933869981\n",
      "2022-03-31 00:00:00 224.85509893708013 2.248550989370801\n",
      "2022-04-29 00:00:00 217.3432393087432 2.173432393087432\n",
      "2022-05-31 00:00:00 233.35903866728313 2.333590386672831\n",
      "2022-06-30 00:00:00 187.44800772183086 1.8744800772183086\n",
      "2022-07-29 00:00:00 199.1849605411591 1.991849605411591\n",
      "2022-08-31 00:00:00 200.48982053496124 2.0048982053496123\n",
      "2022-09-30 00:00:00 187.21571070468215 1.8721571070468215\n",
      "2022-10-31 00:00:00 215.7997129440003 2.157997129440003\n",
      "2022-11-30 00:00:00 229.3926295598 2.293926295598\n",
      "2022-12-30 00:00:00 218.21981935400905 2.1821981935400903\n",
      "2023-01-31 00:00:00 226.81698936662616 2.2681698936662618\n",
      "2023-02-28 00:00:00 229.25529192577008 2.2925529192577008\n",
      "2023-03-31 00:00:00 239.86895272211672 2.3986895272211672\n",
      "2023-04-28 00:00:00 242.85050052865287 2.428505005286529\n",
      "2023-05-31 00:00:00 261.20298664198805 2.6120298664198804\n",
      "2023-06-30 00:00:00 281.24466191852645 2.8124466191852644\n",
      "2023-07-31 00:00:00 309.9792775866789 3.099792775866789\n",
      "2023-08-31 00:00:00 292.904005453792 2.92904005453792\n",
      "2023-09-29 00:00:00 282.16274104926725 2.8216274104926726\n",
      "2023-10-31 00:00:00 269.626072172157 2.69626072172157\n",
      "2023-11-30 00:00:00 304.6367339163803 3.046367339163803\n",
      "2023-12-29 00:00:00 315.2633372934078 3.152633372934078\n",
      "2024-01-31 00:00:00 321.5479898159922 3.2154798981599217\n",
      "2024-02-29 00:00:00 354.43246439085664 3.5443246439085665\n",
      "2024-03-28 00:00:00 377.30252573348423 3.7730252573348424\n",
      "2024-04-30 00:00:00 355.28090351174706 3.5528090351174706\n",
      "2024-05-31 00:00:00 372.3475799766783 3.7234757997667827\n",
      "2024-06-28 00:00:00 354.8178025577667 3.548178025577667\n",
      "2024-07-31 00:00:00 324.8989817925082 3.2489898179250822\n",
      "2024-08-30 00:00:00 355.23685086211594 3.5523685086211594\n",
      "2024-09-30 00:00:00 373.85476346997666 3.7385476346997666\n",
      "2024-10-31 00:00:00 377.8799187694322 3.778799187694322\n",
      "2024-11-29 00:00:00 435.6589835130429 4.356589835130429\n",
      "2024-12-31 00:00:00 409.55416253511896 4.095541625351189\n",
      "2025-01-23 00:00:00 434.71918195321336 4.347191819532133\n"
     ]
    }
   ],
   "source": [
    "portfolio,tracking=get_portfolios(investment_amount=100,dataframe=dataframe,numbers_of_stocks=20,weight_dict=weight_dict,\n",
    "                                  mrat_weights=mrat_weights,dates_end=dates_end,\n",
    "                                  transaction_fee=0.005)"
   ]
  },
  {
   "cell_type": "code",
   "execution_count": 13,
   "id": "8b4ea374-9a8b-4084-affb-2d5b19068aa1",
   "metadata": {},
   "outputs": [
    {
     "data": {
      "text/html": [
       "<div>\n",
       "<style scoped>\n",
       "    .dataframe tbody tr th:only-of-type {\n",
       "        vertical-align: middle;\n",
       "    }\n",
       "\n",
       "    .dataframe tbody tr th {\n",
       "        vertical-align: top;\n",
       "    }\n",
       "\n",
       "    .dataframe thead th {\n",
       "        text-align: right;\n",
       "    }\n",
       "</style>\n",
       "<table border=\"1\" class=\"dataframe\">\n",
       "  <thead>\n",
       "    <tr style=\"text-align: right;\">\n",
       "      <th></th>\n",
       "      <th>1</th>\n",
       "    </tr>\n",
       "    <tr>\n",
       "      <th>0</th>\n",
       "      <th></th>\n",
       "    </tr>\n",
       "  </thead>\n",
       "  <tbody>\n",
       "    <tr>\n",
       "      <th>PLTR</th>\n",
       "      <td>0.066807</td>\n",
       "    </tr>\n",
       "    <tr>\n",
       "      <th>TSLA</th>\n",
       "      <td>0.058453</td>\n",
       "    </tr>\n",
       "    <tr>\n",
       "      <th>UAL</th>\n",
       "      <td>0.057509</td>\n",
       "    </tr>\n",
       "    <tr>\n",
       "      <th>GEV</th>\n",
       "      <td>0.056424</td>\n",
       "    </tr>\n",
       "    <tr>\n",
       "      <th>VST</th>\n",
       "      <td>0.053401</td>\n",
       "    </tr>\n",
       "    <tr>\n",
       "      <th>AXON</th>\n",
       "      <td>0.052058</td>\n",
       "    </tr>\n",
       "    <tr>\n",
       "      <th>TPR</th>\n",
       "      <td>0.051735</td>\n",
       "    </tr>\n",
       "    <tr>\n",
       "      <th>AVGO</th>\n",
       "      <td>0.050219</td>\n",
       "    </tr>\n",
       "    <tr>\n",
       "      <th>TPL</th>\n",
       "      <td>0.048755</td>\n",
       "    </tr>\n",
       "    <tr>\n",
       "      <th>CCL</th>\n",
       "      <td>0.046996</td>\n",
       "    </tr>\n",
       "    <tr>\n",
       "      <th>RCL</th>\n",
       "      <td>0.046460</td>\n",
       "    </tr>\n",
       "    <tr>\n",
       "      <th>TRGP</th>\n",
       "      <td>0.046255</td>\n",
       "    </tr>\n",
       "    <tr>\n",
       "      <th>ANET</th>\n",
       "      <td>0.046113</td>\n",
       "    </tr>\n",
       "    <tr>\n",
       "      <th>SYF</th>\n",
       "      <td>0.045982</td>\n",
       "    </tr>\n",
       "    <tr>\n",
       "      <th>FTNT</th>\n",
       "      <td>0.045958</td>\n",
       "    </tr>\n",
       "    <tr>\n",
       "      <th>KMI</th>\n",
       "      <td>0.045757</td>\n",
       "    </tr>\n",
       "    <tr>\n",
       "      <th>APO</th>\n",
       "      <td>0.045467</td>\n",
       "    </tr>\n",
       "    <tr>\n",
       "      <th>EXPE</th>\n",
       "      <td>0.045396</td>\n",
       "    </tr>\n",
       "    <tr>\n",
       "      <th>NCLH</th>\n",
       "      <td>0.045139</td>\n",
       "    </tr>\n",
       "    <tr>\n",
       "      <th>GDDY</th>\n",
       "      <td>0.045114</td>\n",
       "    </tr>\n",
       "  </tbody>\n",
       "</table>\n",
       "</div>"
      ],
      "text/plain": [
       "             1\n",
       "0             \n",
       "PLTR  0.066807\n",
       "TSLA  0.058453\n",
       "UAL   0.057509\n",
       "GEV   0.056424\n",
       "VST   0.053401\n",
       "AXON  0.052058\n",
       "TPR   0.051735\n",
       "AVGO  0.050219\n",
       "TPL   0.048755\n",
       "CCL   0.046996\n",
       "RCL   0.046460\n",
       "TRGP  0.046255\n",
       "ANET  0.046113\n",
       "SYF   0.045982\n",
       "FTNT  0.045958\n",
       "KMI   0.045757\n",
       "APO   0.045467\n",
       "EXPE  0.045396\n",
       "NCLH  0.045139\n",
       "GDDY  0.045114"
      ]
     },
     "execution_count": 13,
     "metadata": {},
     "output_type": "execute_result"
    }
   ],
   "source": [
    "pd.DataFrame(tracking[dates_end[-2]][0].items()).set_index(0).sort_values(by=1,ascending=False).iloc[:20]"
   ]
  },
  {
   "cell_type": "code",
   "execution_count": 14,
   "id": "5032eff9-b6f2-4111-9f76-e0179b0186e2",
   "metadata": {},
   "outputs": [],
   "source": [
    "investment_amount=100\n",
    "shares={}\n",
    "for col in dataframe:\n",
    "    \n",
    "    shares[col]=(weight_dict[col]*investment_amount)/dataframe.iloc[0][col]"
   ]
  },
  {
   "cell_type": "code",
   "execution_count": 15,
   "id": "74b2b4bd-57bf-427b-86ea-05bb6e957a09",
   "metadata": {},
   "outputs": [],
   "source": [
    "equal_weight=shares*dataframe"
   ]
  },
  {
   "cell_type": "code",
   "execution_count": 16,
   "id": "ff9f8bc8-3701-49b4-9364-34237f690f70",
   "metadata": {},
   "outputs": [],
   "source": [
    "pnl=get_pnl(portfolio)\n",
    "pnl['Total']=pnl.sum(axis=1)\n",
    "pnl_pct=pnl.copy()\n",
    "\n",
    "for col in pnl_pct.columns:\n",
    "    pnl_pct[col]/=pnl_pct['Total']\n",
    "    \n",
    "pnl_contrib=pd.DataFrame(pnl_pct.iloc[-1].sort_values(ascending=False))\n",
    "pnl_amount=pd.DataFrame(pnl.iloc[-1].sort_values(ascending=False))\n"
   ]
  },
  {
   "cell_type": "code",
   "execution_count": 17,
   "id": "cb7fada5-4700-4e75-9cf2-2b43af760a6a",
   "metadata": {},
   "outputs": [
    {
     "data": {
      "text/html": [
       "<div>\n",
       "<style scoped>\n",
       "    .dataframe tbody tr th:only-of-type {\n",
       "        vertical-align: middle;\n",
       "    }\n",
       "\n",
       "    .dataframe tbody tr th {\n",
       "        vertical-align: top;\n",
       "    }\n",
       "\n",
       "    .dataframe thead th {\n",
       "        text-align: right;\n",
       "    }\n",
       "</style>\n",
       "<table border=\"1\" class=\"dataframe\">\n",
       "  <thead>\n",
       "    <tr style=\"text-align: right;\">\n",
       "      <th></th>\n",
       "      <th>2024-12-31</th>\n",
       "    </tr>\n",
       "  </thead>\n",
       "  <tbody>\n",
       "    <tr>\n",
       "      <th>Total</th>\n",
       "      <td>1.000000</td>\n",
       "    </tr>\n",
       "    <tr>\n",
       "      <th>VST</th>\n",
       "      <td>0.096650</td>\n",
       "    </tr>\n",
       "    <tr>\n",
       "      <th>NVDA</th>\n",
       "      <td>0.087140</td>\n",
       "    </tr>\n",
       "    <tr>\n",
       "      <th>SMCI</th>\n",
       "      <td>0.083090</td>\n",
       "    </tr>\n",
       "    <tr>\n",
       "      <th>PLTR</th>\n",
       "      <td>0.074347</td>\n",
       "    </tr>\n",
       "    <tr>\n",
       "      <th>...</th>\n",
       "      <td>...</td>\n",
       "    </tr>\n",
       "    <tr>\n",
       "      <th>UHS</th>\n",
       "      <td>-0.009944</td>\n",
       "    </tr>\n",
       "    <tr>\n",
       "      <th>TER</th>\n",
       "      <td>-0.011017</td>\n",
       "    </tr>\n",
       "    <tr>\n",
       "      <th>AMD</th>\n",
       "      <td>-0.012665</td>\n",
       "    </tr>\n",
       "    <tr>\n",
       "      <th>NCLH</th>\n",
       "      <td>-0.013212</td>\n",
       "    </tr>\n",
       "    <tr>\n",
       "      <th>CCL</th>\n",
       "      <td>-0.016862</td>\n",
       "    </tr>\n",
       "  </tbody>\n",
       "</table>\n",
       "<p>502 rows × 1 columns</p>\n",
       "</div>"
      ],
      "text/plain": [
       "       2024-12-31\n",
       "Total    1.000000\n",
       "VST      0.096650\n",
       "NVDA     0.087140\n",
       "SMCI     0.083090\n",
       "PLTR     0.074347\n",
       "...           ...\n",
       "UHS     -0.009944\n",
       "TER     -0.011017\n",
       "AMD     -0.012665\n",
       "NCLH    -0.013212\n",
       "CCL     -0.016862\n",
       "\n",
       "[502 rows x 1 columns]"
      ]
     },
     "execution_count": 17,
     "metadata": {},
     "output_type": "execute_result"
    }
   ],
   "source": [
    "pnl_contrib"
   ]
  },
  {
   "cell_type": "code",
   "execution_count": 18,
   "id": "56b8429b-2301-4481-a5e8-99c3f3b4e270",
   "metadata": {},
   "outputs": [],
   "source": [
    "historical_portfolio=pd.DataFrame()\n",
    "performance=pd.DataFrame()\n",
    "for key in portfolio.keys():\n",
    "    historical_portfolio=historical_portfolio.combine_first(portfolio[key])\n",
    "    "
   ]
  },
  {
   "cell_type": "code",
   "execution_count": 19,
   "id": "7021c4af-991b-4923-91e1-f37109d42c33",
   "metadata": {},
   "outputs": [
    {
     "name": "stderr",
     "output_type": "stream",
     "text": [
      "C:\\Users\\Admin\\AppData\\Local\\Temp\\ipykernel_13448\\1051642919.py:5: FutureWarning: The default fill_method='pad' in DataFrame.pct_change is deprecated and will be removed in a future version. Either fill in any non-leading NA values prior to calling pct_change or specify 'fill_method=None' to not fill NA values.\n",
      "  performance_pct=performance_pct.pct_change()\n"
     ]
    },
    {
     "data": {
      "text/plain": [
       "<Axes: >"
      ]
     },
     "execution_count": 19,
     "metadata": {},
     "output_type": "execute_result"
    },
    {
     "data": {
      "image/png": "[encoded data removed]",
      "text/plain": [
       "<Figure size 640x480 with 1 Axes>"
      ]
     },
     "metadata": {},
     "output_type": "display_data"
    }
   ],
   "source": [
    "performance['Fund']=historical_portfolio.sum(axis=1)\n",
    "performance['Benchmark']=sp500\n",
    "performance['Equal Weight']=equal_weight.sum(axis=1)\n",
    "performance_pct=performance.copy()\n",
    "performance_pct=performance_pct.pct_change()\n",
    "\n",
    "(1+performance_pct.iloc[:-2]).cumprod().plot()"
   ]
  },
  {
   "cell_type": "code",
   "execution_count": 20,
   "id": "f6cf040e-fd0f-47f0-9283-af4425cdfd6c",
   "metadata": {},
   "outputs": [
    {
     "data": {
      "text/plain": [
       "Fund            1.052897\n",
       "Benchmark       1.037350\n",
       "Equal Weight    1.051811\n",
       "Name: 2025-01-24 00:00:00, dtype: float64"
      ]
     },
     "execution_count": 20,
     "metadata": {},
     "output_type": "execute_result"
    }
   ],
   "source": [
    "(1+performance_pct.loc['2025-01']).cumprod().iloc[-2]"
   ]
  },
  {
   "cell_type": "code",
   "execution_count": 21,
   "id": "5cbd406c-cf53-4d19-9699-0ec3334eb86d",
   "metadata": {},
   "outputs": [],
   "source": [
    "metrics={}\n",
    "metrics['Tracking Error']=(performance_pct['Fund']-performance_pct['Benchmark']).std()*np.sqrt(252)\n",
    "metrics['Fund Vol']=performance_pct['Fund'].std()*np.sqrt(252)\n",
    "metrics['Bench Vol']=performance_pct['Benchmark'].std()*np.sqrt(252)\n",
    "metrics['Fund Return']=performance['Fund'].iloc[-2]/performance['Fund'].iloc[0]\n",
    "metrics['Bench Return']=performance['Benchmark'].iloc[-2]/performance['Benchmark'].iloc[0]\n",
    "metrics['Sharpe Ratio']=metrics['Fund Return']/metrics['Fund Vol']"
   ]
  },
  {
   "cell_type": "code",
   "execution_count": 22,
   "id": "a063b034-b863-4d3f-8b2a-1264d07b36c2",
   "metadata": {},
   "outputs": [
    {
     "data": {
      "text/html": [
       "<div>\n",
       "<style scoped>\n",
       "    .dataframe tbody tr th:only-of-type {\n",
       "        vertical-align: middle;\n",
       "    }\n",
       "\n",
       "    .dataframe tbody tr th {\n",
       "        vertical-align: top;\n",
       "    }\n",
       "\n",
       "    .dataframe thead th {\n",
       "        text-align: right;\n",
       "    }\n",
       "</style>\n",
       "<table border=\"1\" class=\"dataframe\">\n",
       "  <thead>\n",
       "    <tr style=\"text-align: right;\">\n",
       "      <th></th>\n",
       "      <th>Indicators</th>\n",
       "    </tr>\n",
       "  </thead>\n",
       "  <tbody>\n",
       "    <tr>\n",
       "      <th>Tracking Error</th>\n",
       "      <td>0.466616</td>\n",
       "    </tr>\n",
       "    <tr>\n",
       "      <th>Fund Vol</th>\n",
       "      <td>0.513052</td>\n",
       "    </tr>\n",
       "    <tr>\n",
       "      <th>Bench Vol</th>\n",
       "      <td>0.203162</td>\n",
       "    </tr>\n",
       "    <tr>\n",
       "      <th>Fund Return</th>\n",
       "      <td>4.431143</td>\n",
       "    </tr>\n",
       "    <tr>\n",
       "      <th>Bench Return</th>\n",
       "      <td>2.298945</td>\n",
       "    </tr>\n",
       "    <tr>\n",
       "      <th>Sharpe Ratio</th>\n",
       "      <td>8.636834</td>\n",
       "    </tr>\n",
       "  </tbody>\n",
       "</table>\n",
       "</div>"
      ],
      "text/plain": [
       "                Indicators\n",
       "Tracking Error    0.466616\n",
       "Fund Vol          0.513052\n",
       "Bench Vol         0.203162\n",
       "Fund Return       4.431143\n",
       "Bench Return      2.298945\n",
       "Sharpe Ratio      8.636834"
      ]
     },
     "execution_count": 22,
     "metadata": {},
     "output_type": "execute_result"
    }
   ],
   "source": [
    "indicators=pd.DataFrame(metrics.values(),index=metrics.keys(),columns=['Indicators'])\n",
    "indicators"
   ]
  },
  {
   "cell_type": "markdown",
   "id": "feac960e-fe50-4324-894d-42c449617026",
   "metadata": {},
   "source": [
    "# Manual Testing"
   ]
  },
  {
   "cell_type": "markdown",
   "id": "cb253e4d-6313-4f52-911d-bcbdd1090320",
   "metadata": {},
   "source": [
    "initial_price=dataframe.iloc[0].to_dict()\n",
    "weight_dict={}\n",
    "inital_investment_per_stock={}\n",
    "shares={}\n",
    "initial_amount=100\n",
    "\n",
    "perf=dataframe.pct_change()\n",
    "for col in dataframe.columns:\n",
    "    \n",
    "    weight_dict[col]=1/dataframe.shape[1]\n",
    "\n",
    "    inital_investment_per_stock[col]=weight_dict[col]*initial_amount\n",
    "    shares[col]=inital_investment_per_stock[col]*(1-0.005)/initial_price[col]\n",
    "    \n",
    "\n",
    "t=(dataframe*shares).sum(axis=1).loc[dates_end[1]]\n",
    "i=1\n",
    "t"
   ]
  },
  {
   "cell_type": "markdown",
   "id": "0bc995d0-90a8-4e8d-a49f-36e3fb010cb2",
   "metadata": {},
   "source": [
    "top50=mrat_weights.loc[dates_end[i]].sort_values(ascending=False)[:20]\n",
    "top_50_rebased=top50/top50.sum()\n",
    "top_50_rebased=top_50_rebased.to_dict()\n",
    "\n",
    "inital_investment_per_stock={}\n",
    "initial_investment=t\n",
    "shares={}\n",
    "initial_price=dataframe.loc[dates_end[i]].to_dict()\n",
    "#tracking[1][3]\n",
    "\n",
    "weight_dict={}\n",
    "\n",
    "for col in dataframe.columns:    \n",
    "\n",
    "    if col in top_50_rebased:\n",
    "        \n",
    "        weight_dict[col]=top_50_rebased[col]\n",
    "    else:\n",
    "        weight_dict[col]=0\n",
    "        \n",
    "weight_vec=np.array(list(weight_dict.values()))\n",
    "\n",
    "\n",
    "for col in dataframe.columns:    \n",
    "\n",
    "    inital_investment_per_stock[col]=weight_dict[col]*initial_investment*(1+(perf.loc[dates_end[i]]*weight_vec).sum())\n",
    "    shares[col]=inital_investment_per_stock[col]*(1-0.005)/initial_price[col]\n",
    "\n",
    "i=i+1\n",
    "\n",
    "t=(dataframe*shares).sum(axis=1).loc[dates_end[i]]\n",
    "t"
   ]
  },
  {
   "cell_type": "code",
   "execution_count": null,
   "id": "f7dd993d-0d01-411e-ab5d-f7c3c807153c",
   "metadata": {},
   "outputs": [],
   "source": []
  },
  {
   "cell_type": "code",
   "execution_count": null,
   "id": "8c3e0f48-0ca2-4b89-bbfa-bf563161464c",
   "metadata": {},
   "outputs": [],
   "source": []
  }
 ],
 "metadata": {
  "kernelspec": {
   "display_name": "Python [conda env:base] *",
   "language": "python",
   "name": "conda-base-py"
  },
  "language_info": {
   "codemirror_mode": {
    "name": "ipython",
    "version": 3
   },
   "file_extension": ".py",
   "mimetype": "text/x-python",
   "name": "python",
   "nbconvert_exporter": "python",
   "pygments_lexer": "ipython3",
   "version": "3.12.7"
  }
 },
 "nbformat": 4,
 "nbformat_minor": 5
}
