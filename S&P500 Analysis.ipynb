{
 "cells": [
  {
   "cell_type": "code",
   "execution_count": 1,
   "id": "79090802-ffca-403b-97ed-7806ca2eff9f",
   "metadata": {},
   "outputs": [],
   "source": [
    "import pandas as pd\n",
    "import numpy as np\n",
    "import yfinance as yf\n",
    "from bs4 import BeautifulSoup\n",
    "from urllib.request import urlopen\n",
    "import datetime"
   ]
  },
  {
   "cell_type": "markdown",
   "id": "d9c52a49-155c-413e-9ab9-cf5a30b1f649",
   "metadata": {},
   "source": [
    "# Functions"
   ]
  },
  {
   "cell_type": "code",
   "execution_count": 2,
   "id": "a84ebbb3-d4e1-453e-9e10-18b40df1334a",
   "metadata": {},
   "outputs": [],
   "source": [
    "def get_close(tickers,\n",
    "              start=datetime.date(datetime.date.today().year - 1, \n",
    "                datetime.date.today().month, \n",
    "                datetime.date.today().day)\n",
    "                ,end=datetime.date.today()):\n",
    "    \n",
    "    data=pd.DataFrame()\n",
    "    for ticker in tickers:\n",
    "\n",
    "        try:\n",
    "\n",
    "            yahoo_data=yf.Ticker(ticker)\n",
    "            stock_price=yahoo_data.history(start=start,end=end,interval='1d').reset_index()\n",
    "            stock_price['Date']=stock_price['Date'].dt.tz_localize(None)\n",
    "            stock_price=stock_price.set_index('Date')\n",
    "            stock_price[ticker]=stock_price['Close']+stock_price['Dividends'].shift(periods=-1)\n",
    "            data=pd.concat([data,stock_price[ticker]],axis=1)\n",
    "\n",
    "        except Exception as e:\n",
    "            pass\n",
    "        \n",
    "    return data"
   ]
  },
  {
   "cell_type": "code",
   "execution_count": 3,
   "id": "0a3e54c5-851c-4e1e-9f73-d74c5ec41430",
   "metadata": {},
   "outputs": [],
   "source": [
    "def get_mrat(dataframe,numerator=21,denominator=200):\n",
    "\n",
    "    mrat=(dataframe.rolling(numerator).mean()/dataframe.rolling(denominator).mean())\n",
    "    mrat_wo_na=mrat.dropna(how='all')\n",
    "\n",
    "    month=list(sorted(set(mrat_wo_na.index + pd.offsets.BMonthEnd(0))))\n",
    "    #month_end=pd.to_datetime(mrat_wo_na.index)\n",
    "    month = pd.to_datetime(month)\n",
    "\n",
    "    idx1 = pd.Index(mrat_wo_na.iloc[:-1].index)\n",
    "    idx2 = pd.Index(month)\n",
    "    closest_dates = idx1[idx1.get_indexer(idx2, method='nearest')]\n",
    "\n",
    "\n",
    "    mrat_weights=mrat_wo_na.loc[closest_dates].copy().fillna(0)\n",
    "    \n",
    "    mrat_weights['Total']=mrat_weights.sum(axis=1)\n",
    "\n",
    "    for col in mrat_weights.columns:\n",
    "        mrat_weights[col]=mrat_weights[col]/mrat_weights['Total']\n",
    "\n",
    "    mrat_weights=mrat_weights.drop(columns='Total')\n",
    "    mrat_weights_dict=mrat_weights.transpose().to_dict()\n",
    "\n",
    "    dates_end=list(mrat_weights.index)\n",
    "    dates_end.insert(0,dataframe.index[0])\n",
    "    dates_end.append(dataframe.index[-1])\n",
    "    \n",
    "    return mrat_weights,dates_end"
   ]
  },
  {
   "cell_type": "code",
   "execution_count": 4,
   "id": "2b71c017-9714-4868-ab40-38722b97f4ff",
   "metadata": {},
   "outputs": [],
   "source": [
    "def get_portfolios(mrat_weights,dates_end,dataframe,weight_dict,\n",
    "                   numbers_of_stocks=50,\n",
    "                   investment_amount=10000,\n",
    "                   transaction_fee=0.005):\n",
    "    tracking={}\n",
    "    portfolio={}\n",
    "    initial_amount=investment_amount\n",
    "    perf=dataframe.pct_change()\n",
    "    \n",
    "    for i in range(len(dates_end)-1):\n",
    "        \n",
    "        print(dates_end[i],investment_amount,investment_amount/initial_amount)\n",
    "\n",
    "        \n",
    "        temp=dataframe.loc[dates_end[i]:dates_end[i+1]].copy()\n",
    "        initial_price=temp.iloc[0].to_dict()\n",
    "\n",
    "        if dates_end[i]>dates_end[0]:\n",
    "\n",
    "            top50=mrat_weights.loc[dates_end[i]].sort_values(ascending=False)[:numbers_of_stocks]\n",
    "            top_50_rebased=top50/top50.sum()\n",
    "            top_50_dict=top_50_rebased.to_dict()\n",
    "\n",
    "            weight_dict={}\n",
    "\n",
    "            for key in temp.columns:\n",
    "\n",
    "                if key in top_50_dict: \n",
    "                    weight_dict[key]=top_50_dict[key]\n",
    "                else:\n",
    "                    weight_dict[key]=0\n",
    "                    \n",
    "                    \n",
    "        weight_vec=np.array(list(weight_dict.values()))\n",
    "        \n",
    "        inital_investment_per_stock={}\n",
    "        shares={}\n",
    "\n",
    "        for col in temp.columns:\n",
    "            \n",
    "            weighted_perf=weight_vec*perf.loc[dates_end[i]]\n",
    "            \n",
    "            inital_investment_per_stock[col]=weight_dict[col]*investment_amount*(1+weighted_perf.sum())\n",
    "            shares[col]=inital_investment_per_stock[col]*(1-transaction_fee)/initial_price[col]\n",
    "\n",
    "        tracking[dates_end[i]]=(weight_dict,shares,investment_amount,initial_price)\n",
    "\n",
    "        temp=temp*shares    \n",
    "        portfolio[dates_end[i]]=temp\n",
    "        investment_amount=temp.iloc[-1].sum()\n",
    "        \n",
    "    \n",
    "    temp=dataframe.loc[dates_end[-2]:]*shares\n",
    "    portfolio[dates_end[-1]]=temp\n",
    "        \n",
    "\n",
    "    return portfolio,tracking\n"
   ]
  },
  {
   "cell_type": "code",
   "execution_count": 5,
   "id": "89a23da5-27a4-4582-bb64-694ec0b85373",
   "metadata": {},
   "outputs": [],
   "source": [
    "def get_pnl(portfolios):\n",
    "\n",
    "    pnl={}\n",
    "\n",
    "    keys=list(portfolio.keys())\n",
    "    for i in range(len(keys)):\n",
    "\n",
    "        if i>0:\n",
    "            pnl[keys[i]]=portfolio[keys[i]].iloc[-1]-portfolio[keys[i]].iloc[0]\n",
    "\n",
    "        else:\n",
    "            \n",
    "            pnl[keys[0]]=portfolio[keys[0]].iloc[-1]-portfolio[keys[0]].iloc[0]\n",
    "    \n",
    "    pnl_dataframe=pd.DataFrame(pnl).cumsum(axis=1).T\n",
    "    \n",
    "    return pnl_dataframe.iloc[:-2]"
   ]
  },
  {
   "cell_type": "markdown",
   "id": "8d657643-32a6-4c75-89db-8cecc305dc24",
   "metadata": {},
   "source": [
    "# Dataset"
   ]
  },
  {
   "cell_type": "code",
   "execution_count": 6,
   "id": "b19348a7-bace-403f-a234-82d3d7efac5c",
   "metadata": {},
   "outputs": [
    {
     "name": "stderr",
     "output_type": "stream",
     "text": [
      "BRK.B: No timezone found, symbol may be delisted\n",
      "BF.B: No price data found, symbol may be delisted (1d 2020-12-03 -> 2024-12-02)\n"
     ]
    }
   ],
   "source": [
    "url = \"https://en.wikipedia.org/wiki/List_of_S%26P_500_companies\"\n",
    "table = pd.read_html(url)\n",
    "df = table[0]\n",
    "tickers=df['Symbol'].tolist()\n",
    "\n",
    "end_date = datetime.datetime.now().strftime(\"%Y-%m-%d\")\n",
    "start_date = (datetime.datetime.now() - datetime.timedelta(days=365)).strftime(\"%Y-%m-%d\")\n",
    "analysis_start_date = (datetime.datetime.now() - datetime.timedelta(days=365*4)).strftime(\"%Y-%m-%d\")\n",
    "\n",
    "dataframe=get_close(tickers,start=analysis_start_date,end=end_date)\n",
    "dataframe.index=pd.to_datetime(dataframe.index)"
   ]
  },
  {
   "cell_type": "code",
   "execution_count": 7,
   "id": "a5b4d60f-0081-4743-940c-865fc87e401c",
   "metadata": {},
   "outputs": [],
   "source": [
    "sp500=get_close(['SPY'],start=analysis_start_date,end=end_date)"
   ]
  },
  {
   "cell_type": "markdown",
   "id": "58148b06-f5c9-4fca-b9fc-22a9350d1f41",
   "metadata": {},
   "source": [
    "# Analysis"
   ]
  },
  {
   "cell_type": "code",
   "execution_count": 8,
   "id": "fe0f60bb-5f7a-4029-9650-2da44b936b92",
   "metadata": {},
   "outputs": [],
   "source": [
    "weight_dict={col: 1/dataframe.shape[1] for col in dataframe.columns}\n",
    "mrat_weights,dates_end=get_mrat(dataframe,numerator=21,denominator=200)"
   ]
  },
  {
   "cell_type": "code",
   "execution_count": 9,
   "id": "39c2d02b-19df-4901-9000-1f518b8a3733",
   "metadata": {},
   "outputs": [
    {
     "name": "stdout",
     "output_type": "stream",
     "text": [
      "2020-12-03 00:00:00 100 1.0\n",
      "2021-09-30 00:00:00 119.46414227571854 1.1946414227571855\n",
      "2021-10-29 00:00:00 131.17571603124009 1.3117571603124007\n",
      "2021-11-30 00:00:00 127.97963987008285 1.2797963987008285\n",
      "2021-12-31 00:00:00 122.91116167104909 1.229111616710491\n",
      "2022-01-31 00:00:00 109.51826991813002 1.0951826991813\n",
      "2022-02-28 00:00:00 115.21612386267267 1.1521612386267268\n",
      "2022-03-31 00:00:00 132.30990863560012 1.3230990863560013\n",
      "2022-04-29 00:00:00 127.88975452039745 1.2788975452039744\n",
      "2022-05-31 00:00:00 137.31368142565697 1.3731368142565696\n",
      "2022-06-30 00:00:00 110.29869152516007 1.1029869152516008\n",
      "2022-07-29 00:00:00 117.20498300493708 1.1720498300493707\n",
      "2022-08-31 00:00:00 117.97250644318238 1.1797250644318238\n",
      "2022-09-30 00:00:00 110.16174314407891 1.1016174314407892\n",
      "2022-10-31 00:00:00 126.98138914313269 1.2698138914313268\n",
      "2022-11-30 00:00:00 134.97950445174826 1.3497950445174824\n",
      "2022-12-30 00:00:00 128.40556423217993 1.2840556423217993\n",
      "2023-01-31 00:00:00 133.4647312030345 1.3346473120303448\n",
      "2023-02-28 00:00:00 134.8994924135305 1.3489949241353052\n",
      "2023-03-31 00:00:00 141.14483309833594 1.4114483309833594\n",
      "2023-04-28 00:00:00 142.89924592393396 1.4289924592393397\n",
      "2023-05-31 00:00:00 153.6983028099056 1.5369830280990562\n",
      "2023-06-30 00:00:00 165.30183791703163 1.6530183791703164\n",
      "2023-07-31 00:00:00 182.18899353127256 1.8218899353127256\n",
      "2023-08-31 00:00:00 172.14912986026843 1.7214912986026842\n",
      "2023-09-29 00:00:00 165.8966211761157 1.658966211761157\n",
      "2023-10-31 00:00:00 158.6623871201776 1.5866238712017762\n",
      "2023-11-30 00:00:00 178.72760552502518 1.7872760552502518\n",
      "2023-12-29 00:00:00 183.35443260051755 1.8335443260051756\n",
      "2024-01-31 00:00:00 187.27253390063058 1.8727253390063057\n",
      "2024-02-29 00:00:00 206.42475334961267 2.0642475334961268\n",
      "2024-03-28 00:00:00 220.68588742696392 2.2068588742696393\n",
      "2024-04-30 00:00:00 208.16427700256065 2.0816427700256064\n",
      "2024-05-31 00:00:00 218.1638920604072 2.181638920604072\n",
      "2024-06-28 00:00:00 207.89293662225936 2.0789293662225936\n",
      "2024-07-31 00:00:00 190.36306004137003 1.9036306004137002\n",
      "2024-08-30 00:00:00 208.1384489064991 2.081384489064991\n",
      "2024-09-30 00:00:00 219.0463642785213 2.190463642785213\n",
      "2024-10-31 00:00:00 221.40475949477207 2.2140475949477207\n",
      "2024-11-26 00:00:00 254.88455070487234 2.5488455070487235\n"
     ]
    }
   ],
   "source": [
    "portfolio,tracking=get_portfolios(investment_amount=100,dataframe=dataframe,numbers_of_stocks=20,weight_dict=weight_dict,\n",
    "                                  mrat_weights=mrat_weights,dates_end=dates_end,\n",
    "                                  transaction_fee=0.005)"
   ]
  },
  {
   "cell_type": "code",
   "execution_count": 10,
   "id": "5032eff9-b6f2-4111-9f76-e0179b0186e2",
   "metadata": {},
   "outputs": [],
   "source": [
    "investment_amount=100\n",
    "shares={}\n",
    "for col in dataframe:\n",
    "    \n",
    "    shares[col]=(weight_dict[col]*investment_amount)/dataframe.iloc[0][col]"
   ]
  },
  {
   "cell_type": "code",
   "execution_count": 11,
   "id": "74b2b4bd-57bf-427b-86ea-05bb6e957a09",
   "metadata": {},
   "outputs": [],
   "source": [
    "equal_weight=shares*dataframe"
   ]
  },
  {
   "cell_type": "code",
   "execution_count": 12,
   "id": "ff9f8bc8-3701-49b4-9364-34237f690f70",
   "metadata": {},
   "outputs": [],
   "source": [
    "pnl=get_pnl(portfolio)\n",
    "pnl['Total']=pnl.sum(axis=1)\n",
    "pnl_pct=pnl.copy()\n",
    "\n",
    "for col in pnl_pct.columns:\n",
    "    pnl_pct[col]/=pnl_pct['Total']\n",
    "    \n",
    "pnl_contrib=pd.DataFrame(pnl_pct.iloc[-1].sort_values(ascending=False))\n",
    "pnl_amount=pd.DataFrame(pnl.iloc[-1].sort_values(ascending=False))\n"
   ]
  },
  {
   "cell_type": "code",
   "execution_count": 13,
   "id": "cb7fada5-4700-4e75-9cf2-2b43af760a6a",
   "metadata": {},
   "outputs": [
    {
     "data": {
      "text/html": [
       "<div>\n",
       "<style scoped>\n",
       "    .dataframe tbody tr th:only-of-type {\n",
       "        vertical-align: middle;\n",
       "    }\n",
       "\n",
       "    .dataframe tbody tr th {\n",
       "        vertical-align: top;\n",
       "    }\n",
       "\n",
       "    .dataframe thead th {\n",
       "        text-align: right;\n",
       "    }\n",
       "</style>\n",
       "<table border=\"1\" class=\"dataframe\">\n",
       "  <thead>\n",
       "    <tr style=\"text-align: right;\">\n",
       "      <th></th>\n",
       "      <th>2024-10-31</th>\n",
       "    </tr>\n",
       "  </thead>\n",
       "  <tbody>\n",
       "    <tr>\n",
       "      <th>Total</th>\n",
       "      <td>1.000000</td>\n",
       "    </tr>\n",
       "    <tr>\n",
       "      <th>VST</th>\n",
       "      <td>0.107539</td>\n",
       "    </tr>\n",
       "    <tr>\n",
       "      <th>SMCI</th>\n",
       "      <td>0.104822</td>\n",
       "    </tr>\n",
       "    <tr>\n",
       "      <th>NVDA</th>\n",
       "      <td>0.092957</td>\n",
       "    </tr>\n",
       "    <tr>\n",
       "      <th>PLTR</th>\n",
       "      <td>0.075305</td>\n",
       "    </tr>\n",
       "    <tr>\n",
       "      <th>...</th>\n",
       "      <td>...</td>\n",
       "    </tr>\n",
       "    <tr>\n",
       "      <th>TER</th>\n",
       "      <td>-0.013269</td>\n",
       "    </tr>\n",
       "    <tr>\n",
       "      <th>ENPH</th>\n",
       "      <td>-0.017467</td>\n",
       "    </tr>\n",
       "    <tr>\n",
       "      <th>TSLA</th>\n",
       "      <td>-0.018480</td>\n",
       "    </tr>\n",
       "    <tr>\n",
       "      <th>AMD</th>\n",
       "      <td>-0.018734</td>\n",
       "    </tr>\n",
       "    <tr>\n",
       "      <th>CCL</th>\n",
       "      <td>-0.021093</td>\n",
       "    </tr>\n",
       "  </tbody>\n",
       "</table>\n",
       "<p>502 rows × 1 columns</p>\n",
       "</div>"
      ],
      "text/plain": [
       "       2024-10-31\n",
       "Total    1.000000\n",
       "VST      0.107539\n",
       "SMCI     0.104822\n",
       "NVDA     0.092957\n",
       "PLTR     0.075305\n",
       "...           ...\n",
       "TER     -0.013269\n",
       "ENPH    -0.017467\n",
       "TSLA    -0.018480\n",
       "AMD     -0.018734\n",
       "CCL     -0.021093\n",
       "\n",
       "[502 rows x 1 columns]"
      ]
     },
     "execution_count": 13,
     "metadata": {},
     "output_type": "execute_result"
    }
   ],
   "source": [
    "pnl_contrib"
   ]
  },
  {
   "cell_type": "code",
   "execution_count": 14,
   "id": "56b8429b-2301-4481-a5e8-99c3f3b4e270",
   "metadata": {},
   "outputs": [],
   "source": [
    "historical_portfolio=pd.DataFrame()\n",
    "performance=pd.DataFrame()\n",
    "for key in portfolio.keys():\n",
    "    historical_portfolio=historical_portfolio.combine_first(portfolio[key])\n",
    "    "
   ]
  },
  {
   "cell_type": "code",
   "execution_count": 15,
   "id": "7021c4af-991b-4923-91e1-f37109d42c33",
   "metadata": {},
   "outputs": [
    {
     "data": {
      "text/plain": [
       "<AxesSubplot:>"
      ]
     },
     "execution_count": 15,
     "metadata": {},
     "output_type": "execute_result"
    },
    {
     "data": {
      "image/png": "[encoded data removed]",
      "text/plain": [
       "<Figure size 432x288 with 1 Axes>"
      ]
     },
     "metadata": {
      "needs_background": "light"
     },
     "output_type": "display_data"
    }
   ],
   "source": [
    "performance['Fund']=historical_portfolio.sum(axis=1)\n",
    "performance['Benchmark']=sp500\n",
    "performance['Equal Weight']=equal_weight.sum(axis=1)\n",
    "performance_pct=performance.copy()\n",
    "performance_pct=performance_pct.pct_change()\n",
    "\n",
    "(1+performance_pct.iloc[:-2]).cumprod().plot()"
   ]
  },
  {
   "cell_type": "code",
   "execution_count": 16,
   "id": "4fcb4996-d001-461b-be16-a366338da4d6",
   "metadata": {},
   "outputs": [],
   "source": [
    "metrics={}\n",
    "metrics['Tracking Error']=(performance_pct['Fund']-performance_pct['Benchmark']).std()*np.sqrt(252)\n",
    "metrics['Fund Vol']=performance_pct['Fund'].std()*np.sqrt(252)\n",
    "metrics['Bench Vol']=performance_pct['Benchmark'].std()*np.sqrt(252)\n",
    "metrics['Fund Return']=performance['Fund'].iloc[-2]/performance['Fund'].iloc[0]\n",
    "metrics['Bench Return']=performance['Benchmark'].iloc[-2]/performance['Benchmark'].iloc[0]\n",
    "metrics['Sharpe Ratio']=metrics['Fund Return']/metrics['Fund Vol']"
   ]
  },
  {
   "cell_type": "code",
   "execution_count": 17,
   "id": "a063b034-b863-4d3f-8b2a-1264d07b36c2",
   "metadata": {},
   "outputs": [
    {
     "data": {
      "text/html": [
       "<div>\n",
       "<style scoped>\n",
       "    .dataframe tbody tr th:only-of-type {\n",
       "        vertical-align: middle;\n",
       "    }\n",
       "\n",
       "    .dataframe tbody tr th {\n",
       "        vertical-align: top;\n",
       "    }\n",
       "\n",
       "    .dataframe thead th {\n",
       "        text-align: right;\n",
       "    }\n",
       "</style>\n",
       "<table border=\"1\" class=\"dataframe\">\n",
       "  <thead>\n",
       "    <tr style=\"text-align: right;\">\n",
       "      <th></th>\n",
       "      <th>Indicators</th>\n",
       "    </tr>\n",
       "  </thead>\n",
       "  <tbody>\n",
       "    <tr>\n",
       "      <th>Tracking Error</th>\n",
       "      <td>0.536111</td>\n",
       "    </tr>\n",
       "    <tr>\n",
       "      <th>Fund Vol</th>\n",
       "      <td>0.563063</td>\n",
       "    </tr>\n",
       "    <tr>\n",
       "      <th>Bench Vol</th>\n",
       "      <td>0.164741</td>\n",
       "    </tr>\n",
       "    <tr>\n",
       "      <th>Fund Return</th>\n",
       "      <td>2.596079</td>\n",
       "    </tr>\n",
       "    <tr>\n",
       "      <th>Bench Return</th>\n",
       "      <td>1.730689</td>\n",
       "    </tr>\n",
       "    <tr>\n",
       "      <th>Sharpe Ratio</th>\n",
       "      <td>4.610638</td>\n",
       "    </tr>\n",
       "  </tbody>\n",
       "</table>\n",
       "</div>"
      ],
      "text/plain": [
       "                Indicators\n",
       "Tracking Error    0.536111\n",
       "Fund Vol          0.563063\n",
       "Bench Vol         0.164741\n",
       "Fund Return       2.596079\n",
       "Bench Return      1.730689\n",
       "Sharpe Ratio      4.610638"
      ]
     },
     "execution_count": 17,
     "metadata": {},
     "output_type": "execute_result"
    }
   ],
   "source": [
    "indicators=pd.DataFrame(metrics.values(),index=metrics.keys(),columns=['Indicators'])\n",
    "indicators"
   ]
  },
  {
   "cell_type": "markdown",
   "id": "feac960e-fe50-4324-894d-42c449617026",
   "metadata": {},
   "source": [
    "# Manual Testing"
   ]
  },
  {
   "cell_type": "code",
   "execution_count": 18,
   "id": "0b44817f-f839-44cf-a51c-aa2f2822c03e",
   "metadata": {},
   "outputs": [
    {
     "data": {
      "text/plain": [
       "119.46414227571854"
      ]
     },
     "execution_count": 18,
     "metadata": {},
     "output_type": "execute_result"
    }
   ],
   "source": [
    "initial_price=dataframe.iloc[0].to_dict()\n",
    "weight_dict={}\n",
    "inital_investment_per_stock={}\n",
    "shares={}\n",
    "initial_amount=100\n",
    "\n",
    "perf=dataframe.pct_change()\n",
    "for col in dataframe.columns:\n",
    "    \n",
    "    weight_dict[col]=1/dataframe.shape[1]\n",
    "\n",
    "    inital_investment_per_stock[col]=weight_dict[col]*initial_amount\n",
    "    shares[col]=inital_investment_per_stock[col]*(1-0.005)/initial_price[col]\n",
    "    \n",
    "\n",
    "t=(dataframe*shares).sum(axis=1).loc[dates_end[1]]\n",
    "i=1\n",
    "t"
   ]
  },
  {
   "cell_type": "code",
   "execution_count": 19,
   "id": "25329ada-81df-41b8-9aad-12498adc547d",
   "metadata": {},
   "outputs": [
    {
     "data": {
      "text/plain": [
       "131.17571603124009"
      ]
     },
     "execution_count": 19,
     "metadata": {},
     "output_type": "execute_result"
    }
   ],
   "source": [
    "top50=mrat_weights.loc[dates_end[i]].sort_values(ascending=False)[:20]\n",
    "top_50_rebased=top50/top50.sum()\n",
    "top_50_rebased=top_50_rebased.to_dict()\n",
    "\n",
    "inital_investment_per_stock={}\n",
    "initial_investment=t\n",
    "shares={}\n",
    "initial_price=dataframe.loc[dates_end[i]].to_dict()\n",
    "#tracking[1][3]\n",
    "\n",
    "weight_dict={}\n",
    "\n",
    "for col in dataframe.columns:    \n",
    "\n",
    "    if col in top_50_rebased:\n",
    "        \n",
    "        weight_dict[col]=top_50_rebased[col]\n",
    "    else:\n",
    "        weight_dict[col]=0\n",
    "        \n",
    "weight_vec=np.array(list(weight_dict.values()))\n",
    "\n",
    "\n",
    "for col in dataframe.columns:    \n",
    "\n",
    "    inital_investment_per_stock[col]=weight_dict[col]*initial_investment*(1+(perf.loc[dates_end[i]]*weight_vec).sum())\n",
    "    shares[col]=inital_investment_per_stock[col]*(1-0.005)/initial_price[col]\n",
    "\n",
    "i=i+1\n",
    "\n",
    "t=(dataframe*shares).sum(axis=1).loc[dates_end[i]]\n",
    "t"
   ]
  },
  {
   "cell_type": "code",
   "execution_count": null,
   "id": "9cf0124a-1a25-4d91-8a24-7741ce197905",
   "metadata": {},
   "outputs": [],
   "source": []
  },
  {
   "cell_type": "code",
   "execution_count": null,
   "id": "da34f6a4-c556-4492-b85d-c2adb6dfcbae",
   "metadata": {},
   "outputs": [],
   "source": []
  }
 ],
 "metadata": {
  "kernelspec": {
   "display_name": "Python 3 (ipykernel)",
   "language": "python",
   "name": "python3"
  },
  "language_info": {
   "codemirror_mode": {
    "name": "ipython",
    "version": 3
   },
   "file_extension": ".py",
   "mimetype": "text/x-python",
   "name": "python",
   "nbconvert_exporter": "python",
   "pygments_lexer": "ipython3",
   "version": "3.9.12"
  }
 },
 "nbformat": 4,
 "nbformat_minor": 5
}
